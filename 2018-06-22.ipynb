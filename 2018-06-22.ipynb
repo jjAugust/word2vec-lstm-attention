{
 "cells": [
  {
   "cell_type": "code",
   "execution_count": 1,
   "metadata": {},
   "outputs": [
    {
     "name": "stderr",
     "output_type": "stream",
     "text": [
      "/usr/local/lib/python3.6/site-packages/h5py/__init__.py:36: FutureWarning: Conversion of the second argument of issubdtype from `float` to `np.floating` is deprecated. In future, it will be treated as `np.float64 == np.dtype(float).type`.\n",
      "  from ._conv import register_converters as _register_converters\n",
      "Using TensorFlow backend.\n",
      "/usr/local/Cellar/python/3.6.5/Frameworks/Python.framework/Versions/3.6/lib/python3.6/importlib/_bootstrap.py:219: RuntimeWarning: compiletime version 3.5 of module 'tensorflow.python.framework.fast_tensor_util' does not match runtime version 3.6\n",
      "  return f(*args, **kwds)\n",
      "/usr/local/lib/python3.6/site-packages/sklearn/cross_validation.py:41: DeprecationWarning: This module was deprecated in version 0.18 in favor of the model_selection module into which all the refactored classes and functions are moved. Also note that the interface of the new CV iterators are different from that of this module. This module will be removed in 0.20.\n",
      "  \"This module will be removed in 0.20.\", DeprecationWarning)\n"
     ]
    }
   ],
   "source": [
    "# LSTM for international airline passengers problem with window regression framing\n",
    "import numpy\n",
    "import numpy as np\n",
    "import keras\n",
    "import matplotlib.pyplot as plt\n",
    "from pandas import read_csv\n",
    "import math\n",
    "from keras.models import Sequential\n",
    "from keras.layers import Dense,Dropout\n",
    "from keras.layers import LSTM\n",
    "from sklearn.preprocessing import MinMaxScaler\n",
    "from sklearn.metrics import mean_squared_error\n",
    "from sklearn.preprocessing import OneHotEncoder\n",
    "from sklearn.cross_validation import train_test_split\n",
    "from keras.utils.vis_utils import plot_model"
   ]
  },
  {
   "cell_type": "code",
   "execution_count": 2,
   "metadata": {},
   "outputs": [],
   "source": [
    "# convert an array of values into a dataset matrix\n",
    "def create_dataset(dataset, look_back=1):\n",
    "\tdataX, dataY = [], []\n",
    "\tfor i in range(len(dataset)-look_back-1):\n",
    "\t\ta = dataset[i:(i+look_back), 0]\n",
    "\t\tdataX.append(a)\n",
    "\t\tdataY.append(dataset[i + look_back, 0])\n",
    "\treturn numpy.array(dataX), numpy.array(dataY)"
   ]
  },
  {
   "cell_type": "code",
   "execution_count": 3,
   "metadata": {},
   "outputs": [],
   "source": [
    "    def create_dataset2(dataset, look_back=1):\n",
    "        dataX, dataY = [], []\n",
    "        dataZ=[]\n",
    "        for i in range(len(dataset)-look_back-1):\n",
    "            a = dataset[i:(i+look_back), 1]\n",
    "            dataX.append(a)\n",
    "            b = dataset[i + look_back, 0]\n",
    "            dataZ.append(b)\n",
    "            dataY.append(dataset[i + look_back, 1])\n",
    "        return numpy.array(dataX), numpy.array(dataY),numpy.array(dataZ)              "
   ]
  },
  {
   "cell_type": "code",
   "execution_count": 120,
   "metadata": {},
   "outputs": [],
   "source": [
    "# fix random seed for reproducibility\n",
    "numpy.random.seed(7)\n",
    "# load the dataset\n",
    "# dataframe = read_csv('w_d_v.csv', usecols=[7], engine='python', skipfooter=3)\n",
    "dataframe = read_csv('t6192.csv', usecols=[8,0], engine='python',dtype=np.int32,skiprows=-1,header=None,skipfooter=3)\n",
    "pattern = read_csv('t6192.csv', usecols=[7], engine='python',dtype=np.int32,skiprows=-1,header=None,skipfooter=3)\n",
    "Matrix = read_csv('matrix621.csv', usecols=[2,3,4,5,6,7,8,9,10,11,12,13], engine='python',header=None)\n",
    "all_data = read_csv('all_data.csv', usecols=[7], engine='python', skipfooter=3)\n",
    "dataset = dataframe.values\n",
    "Matrix = Matrix.values\n",
    "pattern=pattern.values\n",
    "allData=all_data.values\n",
    "Matrix=np.append([[-1,-1,-1,-1,-1,-1,-1,-1,-1,-1,-1,-1]],Matrix,axis=0)"
   ]
  },
  {
   "cell_type": "code",
   "execution_count": 122,
   "metadata": {},
   "outputs": [],
   "source": [
    "look_back = 3\n",
    "\n",
    "trainX, trainY, trainZ = create_dataset2(dataset, look_back)\n",
    "AllX, AllY = create_dataset(allData, look_back)\n",
    "patternX, patternY = create_dataset(pattern, look_back)\n",
    "\n",
    "trainY=numpy.reshape(trainY,(trainY.shape[0],-1))\n",
    "AllY=numpy.reshape(AllY,(AllY.shape[0],-1))"
   ]
  },
  {
   "cell_type": "code",
   "execution_count": 123,
   "metadata": {},
   "outputs": [
    {
     "data": {
      "text/plain": [
       "OneHotEncoder(categorical_features='all', dtype=<class 'numpy.float64'>,\n",
       "       handle_unknown='error', n_values='auto', sparse=True)"
      ]
     },
     "execution_count": 123,
     "metadata": {},
     "output_type": "execute_result"
    }
   ],
   "source": [
    "encX = OneHotEncoder()\n",
    "encX.fit(trainX)\n",
    "encY = OneHotEncoder()\n",
    "encY.fit(trainY)"
   ]
  },
  {
   "cell_type": "code",
   "execution_count": 124,
   "metadata": {},
   "outputs": [],
   "source": [
    "trainX_one=encX.transform(trainX).toarray()\n",
    "train_X=numpy.reshape(trainX_one,(trainX_one.shape[0],look_back,-1))\n",
    "train_Y=encY.transform(trainY).toarray()"
   ]
  },
  {
   "cell_type": "markdown",
   "metadata": {},
   "source": [
    "#还没能直接拆分，其他维度没有做对应\n",
    "a_train, a_test, b_train, b_test = train_test_split(train_X, train_Y, test_size=0.1, random_state=42)"
   ]
  },
  {
   "cell_type": "code",
   "execution_count": 125,
   "metadata": {},
   "outputs": [],
   "source": [
    "emdedding_size=Matrix.shape[1] #\n",
    "vo_len=look_back #\n",
    "vocab_size=Matrix.shape[0] #"
   ]
  },
  {
   "cell_type": "code",
   "execution_count": 126,
   "metadata": {},
   "outputs": [
    {
     "name": "stdout",
     "output_type": "stream",
     "text": [
      "------------------------\n",
      "emdedding_size:\n",
      "12\n",
      "------------------------\n",
      "vocab_length:\n",
      "3\n",
      "------------------------\n",
      "vocab_size:\n",
      "201\n",
      "------------------------\n"
     ]
    }
   ],
   "source": [
    "\n",
    "print(\"------------------------\")\n",
    "print(\"emdedding_size:\")\n",
    "print(emdedding_size)\n",
    "print(\"------------------------\")\n",
    "\n",
    "print(\"vocab_length:\")\n",
    "print(vo_len)\n",
    "print(\"------------------------\")\n",
    "\n",
    "print(\"vocab_size:\")\n",
    "print(vocab_size)\n",
    "print(\"------------------------\")\n"
   ]
  },
  {
   "cell_type": "code",
   "execution_count": 127,
   "metadata": {},
   "outputs": [],
   "source": [
    "a_train=trainX.reshape(-1,3,1)\n",
    "b_train=train_Y\n",
    "k=trainZ\n",
    "pretrained_weights=Matrix\n",
    "LSTM_size=32"
   ]
  },
  {
   "cell_type": "code",
   "execution_count": 128,
   "metadata": {},
   "outputs": [
    {
     "name": "stdout",
     "output_type": "stream",
     "text": [
      "------------------------\n",
      "in size:\n",
      "(32607, 3, 1)\n",
      "------------------------\n",
      "out size:\n",
      "(32607, 191)\n",
      "------------------------\n",
      "user size:\n",
      "(32607,)\n",
      "------------------------\n"
     ]
    }
   ],
   "source": [
    "print(\"------------------------\")\n",
    "print(\"in size:\")\n",
    "print(a_train.shape)\n",
    "print(\"------------------------\")\n",
    "print(\"out size:\")\n",
    "print(b_train.shape)\n",
    "print(\"------------------------\")\n",
    "print(\"user size:\")\n",
    "print(k.shape)\n",
    "print(\"------------------------\")"
   ]
  },
  {
   "cell_type": "code",
   "execution_count": 129,
   "metadata": {},
   "outputs": [
    {
     "name": "stdout",
     "output_type": "stream",
     "text": [
      "------------------------\n",
      "input encode example1:\n",
      "[[0. 0. 0. 0. 0. 0. 0. 0. 0. 0. 0. 0. 0. 0. 0. 0. 0. 0. 0. 0. 0. 0. 0. 0.\n",
      "  0. 0. 0. 0. 0. 0. 0. 0. 0. 0. 0. 0. 0. 0. 0. 0. 0. 0. 0. 0. 0. 0. 0. 0.\n",
      "  0. 0. 0. 0. 0. 0. 0. 0. 0. 0. 0. 0. 0. 0. 0. 0. 0. 0. 0. 0. 0. 0. 0. 0.\n",
      "  0. 0. 0. 0. 0. 0. 0. 0. 0. 0. 0. 0. 0. 0. 0. 0. 0. 0. 0. 0. 0. 0. 0. 0.\n",
      "  0. 0. 0. 0. 0. 0. 0. 0. 0. 0. 0. 0. 0. 0. 0. 0. 0. 0. 0. 0. 0. 0. 0. 0.\n",
      "  0. 0. 0. 0. 0. 0. 0. 0. 0. 0. 0. 0. 0. 0. 0. 0. 0. 0. 0. 0. 0. 0. 0. 0.\n",
      "  0. 0. 0. 0. 0. 0. 0. 0. 0. 0. 0. 0. 0. 0. 0. 1. 0. 0. 0. 0. 0. 0. 0. 0.\n",
      "  0. 0. 0. 0. 0. 0. 0. 0. 0. 0. 0. 0. 0. 0. 0. 0. 0. 0. 0. 0. 0. 0. 0.]\n",
      " [0. 0. 0. 0. 0. 0. 0. 0. 0. 0. 0. 0. 0. 0. 0. 0. 0. 0. 0. 0. 0. 0. 0. 0.\n",
      "  0. 0. 0. 0. 0. 0. 0. 0. 0. 0. 0. 0. 0. 0. 0. 0. 0. 0. 0. 0. 0. 0. 0. 0.\n",
      "  0. 0. 0. 0. 0. 0. 0. 0. 0. 0. 0. 0. 0. 0. 0. 0. 0. 0. 0. 0. 0. 0. 0. 0.\n",
      "  0. 0. 0. 0. 0. 0. 0. 0. 0. 0. 0. 0. 0. 0. 0. 0. 0. 0. 0. 0. 0. 0. 0. 0.\n",
      "  0. 0. 0. 0. 0. 0. 0. 0. 0. 0. 0. 0. 0. 0. 0. 0. 0. 0. 0. 0. 0. 0. 0. 0.\n",
      "  0. 0. 0. 0. 0. 0. 0. 0. 0. 0. 0. 0. 0. 0. 0. 0. 0. 0. 0. 0. 0. 0. 0. 0.\n",
      "  0. 0. 0. 0. 0. 0. 0. 0. 0. 1. 0. 0. 0. 0. 0. 0. 0. 0. 0. 0. 0. 0. 0. 0.\n",
      "  0. 0. 0. 0. 0. 0. 0. 0. 0. 0. 0. 0. 0. 0. 0. 0. 0. 0. 0. 0. 0. 0. 0.]\n",
      " [0. 0. 0. 0. 0. 0. 0. 0. 0. 0. 0. 0. 0. 0. 0. 0. 0. 0. 0. 0. 0. 0. 0. 0.\n",
      "  0. 0. 0. 0. 0. 0. 0. 0. 0. 0. 0. 0. 0. 0. 0. 0. 0. 0. 0. 0. 0. 0. 0. 0.\n",
      "  0. 0. 0. 0. 0. 0. 0. 0. 0. 0. 0. 0. 0. 0. 0. 0. 0. 0. 0. 0. 0. 0. 0. 0.\n",
      "  0. 0. 0. 0. 0. 0. 0. 0. 0. 0. 0. 0. 0. 0. 0. 0. 0. 0. 0. 0. 0. 0. 0. 0.\n",
      "  0. 0. 0. 0. 0. 0. 0. 0. 0. 0. 0. 0. 0. 0. 0. 0. 0. 0. 0. 0. 0. 0. 0. 0.\n",
      "  0. 0. 0. 0. 0. 0. 0. 0. 0. 0. 0. 0. 0. 0. 0. 0. 0. 0. 0. 0. 0. 0. 0. 0.\n",
      "  0. 0. 1. 0. 0. 0. 0. 0. 0. 0. 0. 0. 0. 0. 0. 0. 0. 0. 0. 0. 0. 0. 0. 0.\n",
      "  0. 0. 0. 0. 0. 0. 0. 0. 0. 0. 0. 0. 0. 0. 0. 0. 0. 0. 0. 0. 0. 0. 0.]]\n",
      "------------------------\n",
      "input encode example2:\n",
      "[[0.3220339  0.0338983  0.01694915 0.         0.         0.0338983\n",
      "  0.         0.06779661 0.30508474 0.08474577 0.13559322 0.        ]]\n",
      "[[0.36734694 0.         0.         0.12244898 0.         0.04081633\n",
      "  0.         0.04081633 0.36734694 0.06122449 0.         0.        ]]\n",
      "[[0.3548387  0.         0.06451613 0.03225806 0.         0.03225806\n",
      "  0.         0.         0.29032257 0.04838709 0.08064516 0.09677419]]\n",
      "------------------------\n",
      "input decode example:\n",
      "[[167]\n",
      " [157]\n",
      " [150]]\n",
      "------------------------\n",
      "output encode example:\n",
      "[0. 0. 0. 0. 0. 0. 0. 0. 0. 0. 0. 0. 0. 0. 0. 0. 0. 0. 0. 0. 0. 0. 0. 0.\n",
      " 0. 0. 0. 0. 0. 0. 0. 0. 0. 0. 0. 0. 0. 0. 0. 0. 0. 0. 0. 0. 0. 0. 0. 0.\n",
      " 0. 0. 0. 0. 0. 0. 0. 0. 0. 0. 0. 0. 0. 0. 0. 0. 0. 0. 0. 0. 0. 0. 0. 0.\n",
      " 0. 0. 0. 0. 0. 0. 0. 0. 0. 0. 0. 0. 0. 0. 0. 0. 0. 0. 0. 0. 0. 0. 0. 0.\n",
      " 0. 0. 0. 0. 0. 0. 0. 0. 0. 0. 0. 0. 0. 0. 0. 0. 0. 0. 0. 0. 0. 0. 0. 0.\n",
      " 0. 0. 0. 0. 0. 0. 0. 0. 0. 0. 0. 0. 0. 0. 0. 0. 0. 0. 0. 0. 0. 0. 0. 0.\n",
      " 0. 0. 1. 0. 0. 0. 0. 0. 0. 0. 0. 0. 0. 0. 0. 0. 0. 0. 0. 0. 0. 0. 0. 0.\n",
      " 0. 0. 0. 0. 0. 0. 0. 0. 0. 0. 0. 0. 0. 0. 0. 0. 0. 0. 0. 0. 0. 0. 0.]\n",
      "------------------------\n",
      "output decode example:\n",
      "[150]\n",
      "------------------------\n",
      "user_id example:\n",
      "0\n",
      "------------------------\n"
     ]
    }
   ],
   "source": [
    "print(\"------------------------\")\n",
    "print(\"input encode example1:\")\n",
    "print(train_X[0])\n",
    "print(\"------------------------\")\n",
    "\n",
    "print(\"input encode example2:\")\n",
    "for x in a_train[0]:\n",
    "    print(pretrained_weights[x])\n",
    "print(\"------------------------\")\n",
    "\n",
    "print(\"input decode example:\")\n",
    "print(a_train[0])\n",
    "print(\"------------------------\")\n",
    "\n",
    "print(\"output encode example:\")\n",
    "print(b_train[0])\n",
    "print(\"------------------------\")\n",
    "\n",
    "print(\"output decode example:\")\n",
    "print(trainY[0])\n",
    "print(\"------------------------\")\n",
    "\n",
    "print(\"user_id example:\")\n",
    "print(k[0])\n",
    "print(\"------------------------\")"
   ]
  },
  {
   "cell_type": "code",
   "execution_count": 131,
   "metadata": {},
   "outputs": [],
   "source": [
    "a_train=a_train.reshape(-1,3)"
   ]
  },
  {
   "cell_type": "code",
   "execution_count": null,
   "metadata": {},
   "outputs": [
    {
     "name": "stdout",
     "output_type": "stream",
     "text": [
      "__________________________________________________________________________________________________\n",
      "Layer (type)                    Output Shape         Param #     Connected to                     \n",
      "==================================================================================================\n",
      "input_pattern (InputLayer)      (None, 3)            0                                            \n",
      "__________________________________________________________________________________________________\n",
      "embedding_1 (Embedding)         (None, 3, 12)        2412        input_pattern[0][0]              \n",
      "__________________________________________________________________________________________________\n",
      "lstm_1 (LSTM)                   (None, 32)           5760        embedding_1[0][0]                \n",
      "__________________________________________________________________________________________________\n",
      "dropout_1 (Dropout)             (None, 32)           0           lstm_1[0][0]                     \n",
      "__________________________________________________________________________________________________\n",
      "input_id (InputLayer)           (None, 1)            0                                            \n",
      "__________________________________________________________________________________________________\n",
      "concatenate_1 (Concatenate)     (None, 33)           0           dropout_1[0][0]                  \n",
      "                                                                 input_id[0][0]                   \n",
      "__________________________________________________________________________________________________\n",
      "C (Dense)                       (None, 250)          8500        concatenate_1[0][0]              \n",
      "__________________________________________________________________________________________________\n",
      "dropout_2 (Dropout)             (None, 250)          0           C[0][0]                          \n",
      "__________________________________________________________________________________________________\n",
      "x (Dense)                       (None, 191)          47941       dropout_2[0][0]                  \n",
      "==================================================================================================\n",
      "Total params: 64,613\n",
      "Trainable params: 64,613\n",
      "Non-trainable params: 0\n",
      "__________________________________________________________________________________________________\n",
      "None\n",
      "Epoch 1/100\n",
      " - 12s - loss: 4.8843 - acc: 0.0599\n",
      "Epoch 2/100\n",
      " - 12s - loss: 4.1557 - acc: 0.0820\n",
      "Epoch 3/100\n",
      " - 12s - loss: 3.9449 - acc: 0.1127\n",
      "Epoch 4/100\n",
      " - 13s - loss: 3.8114 - acc: 0.1314\n",
      "Epoch 5/100\n"
     ]
    }
   ],
   "source": [
    "from keras.layers import Input, Embedding, LSTM, Dense,Merge\n",
    "from keras.models import Model\n",
    "\n",
    "\n",
    "input_pattern = Input(shape=(3, ),name=\"input_pattern\")\n",
    "input_id = Input(shape=(1,),name=\"input_id\")\n",
    "\n",
    "em = Embedding(input_dim=vocab_size, output_dim=emdedding_size,input_length=vo_len)(input_pattern)\n",
    "lstm_out = LSTM(LSTM_size)(em)\n",
    "lstm_out = Dropout(0.2)(lstm_out)\n",
    "\n",
    "x = keras.layers.concatenate([lstm_out, input_id])\n",
    "x=Dense(250,activation='relu',name=\"C\")(x)\n",
    "x=Dropout(0.2)(x)\n",
    "x=Dense(b_train.shape[1],activation='softmax',name='x')(x)\n",
    "\n",
    "\n",
    "model = Model(inputs=[input_pattern,input_id], outputs=x)\n",
    "model.compile(loss='categorical_crossentropy', optimizer='adam',metrics=['accuracy'])\n",
    "\n",
    "print(model.summary()) # Summarize Model\n",
    "plot_model(model, to_file='t_lstm.png',show_shapes=True)\n",
    "history_nopre = model.fit([a_train,k], b_train, epochs=100, batch_size=16, verbose=2)"
   ]
  },
  {
   "cell_type": "code",
   "execution_count": null,
   "metadata": {
    "scrolled": true
   },
   "outputs": [],
   "source": [
    "from keras.layers import Input, Embedding, LSTM, Dense,Merge\n",
    "from keras.models import Model\n",
    "\n",
    "\n",
    "\n",
    "input_pattern = Input(shape=(3, 1),name=\"input_pattern\")\n",
    "\n",
    "lstm_out = LSTM(units=emdedding_size,input_shape=(3, 1))(input_pattern)\n",
    "lstm_out = Dropout(0.2)(lstm_out)\n",
    "\n",
    "x=Dense(250,activation='relu',name=\"C\")(lstm_out)\n",
    "x=Dropout(0.2)(x)\n",
    "x=Dense(180,activation='softmax')(x)\n",
    "\n",
    "\n",
    "model = Model(inputs=input_pattern, outputs=x)\n",
    "model.compile(loss='categorical_crossentropy', optimizer='adam',metrics=['accuracy'])\n",
    "\n",
    "# print(model.summary()) # Summarize Model\n",
    "plot_model(model, to_file='t_lstm_test.png',show_shapes=True)\n",
    "history_nopre = model.fit(a_train, b_train, epochs=100, batch_size=16, verbose=2)"
   ]
  },
  {
   "cell_type": "code",
   "execution_count": null,
   "metadata": {},
   "outputs": [],
   "source": [
    "from keras.layers import Input, Embedding, LSTM, Dense,Merge\n",
    "from keras.models import Model\n",
    "\n",
    "emdedding_size=12 #\n",
    "vo_len=3 #\n",
    "vocab_size=11000 #\n",
    "a_train=trainX.reshape(-1,3)\n",
    "b_train=train_Y\n",
    "k=trainZ\n",
    "pretrained_weights=Matrix\n",
    "\n",
    "input_pattern = Input(shape=(3, ),name=\"input_pattern\")\n",
    "em = Embedding(input_dim=vocab_size, output_dim=emdedding_size,input_length=vo_len)(input_pattern)\n",
    "lstm_out = LSTM(units=emdedding_size)(em)\n",
    "lstm_out = Dropout(0.2)(lstm_out)\n",
    "\n",
    "x=Dense(250,activation='relu',name=\"C\")(lstm_out)\n",
    "x=Dropout(0.2)(x)\n",
    "x=Dense(180,activation='softmax')(x)\n",
    "\n",
    "\n",
    "model = Model(inputs=input_pattern, outputs=x)\n",
    "model.compile(loss='categorical_crossentropy', optimizer='adam',metrics=['accuracy'])\n",
    "\n",
    "print(model.summary()) # Summarize Model\n",
    "plot_model(model, to_file='t_lstm_test.png',show_shapes=True)\n",
    "history_withpre = model.fit(a_train, b_train, epochs=100, batch_size=16, verbose=2)"
   ]
  },
  {
   "cell_type": "code",
   "execution_count": null,
   "metadata": {},
   "outputs": [],
   "source": [
    "from keras.layers import Input, Embedding, LSTM, Dense,Merge\n",
    "from keras.models import Model\n",
    "\n",
    "emdedding_size=12 #\n",
    "vo_len=3 #\n",
    "vocab_size=11000 #\n",
    "a_train=patternX\n",
    "b_train=train_Y\n",
    "k=trainZ\n",
    "pretrained_weights=Matrix\n",
    "\n",
    "input_pattern = Input(shape=(3, ),name=\"input_pattern\")\n",
    "em = Embedding(input_dim=vocab_size, output_dim=emdedding_size,input_length=vo_len, weights=[pretrained_weights])(input_pattern)\n",
    "lstm_out = LSTM(units=emdedding_size)(em)\n",
    "lstm_out = Dropout(0.2)(lstm_out)\n",
    "\n",
    "x=Dense(250,activation='relu',name=\"C\")(lstm_out)\n",
    "x=Dropout(0.2)(x)\n",
    "x=Dense(180,activation='softmax')(x)\n",
    "\n",
    "\n",
    "model = Model(inputs=input_pattern, outputs=x)\n",
    "model.compile(loss='categorical_crossentropy', optimizer='adam',metrics=['accuracy'])\n",
    "\n",
    "print(model.summary()) # Summarize Model\n",
    "plot_model(model, to_file='t_lstm_test.png',show_shapes=True)\n",
    "history_withpre2 = model.fit(a_train, b_train, epochs=100, batch_size=16, verbose=2)"
   ]
  },
  {
   "cell_type": "markdown",
   "metadata": {},
   "source": [
    "plot_model(model, to_file='t_lstm_test.png',show_shapes=True)\n",
    "history_nopre = model.fit(a_train, b_train, epochs=100, batch_size=16, verbose=2)"
   ]
  },
  {
   "cell_type": "code",
   "execution_count": null,
   "metadata": {},
   "outputs": [],
   "source": [
    "from keras.layers import Input, Embedding, LSTM, Dense,Merge\n",
    "from keras.models import Model\n",
    "\n",
    "emdedding_size=12 #\n",
    "vo_len=3 #\n",
    "vocab_size=11000 #\n",
    "a_train=trainX.reshape(-1,3)\n",
    "b_train=train_Y\n",
    "k=trainZ\n",
    "pretrained_weights=Matrix\n",
    "\n",
    "input_pattern = Input(shape=(3, ),name=\"input_pattern\")\n",
    "em = Embedding(input_dim=vocab_size, output_dim=emdedding_size,input_length=vo_len, weights=[pretrained_weights])(input_pattern)\n",
    "lstm_out = LSTM(units=emdedding_size)(em)\n",
    "lstm_out = Dropout(0.2)(lstm_out)\n",
    "\n",
    "x=Dense(250,activation='relu',name=\"C\")(lstm_out)\n",
    "x=Dropout(0.2)(x)\n",
    "x=Dense(180,activation='softmax')(x)\n",
    "\n",
    "\n",
    "model = Model(inputs=input_pattern, outputs=x)\n",
    "model.compile(loss='categorical_crossentropy', optimizer='adam',metrics=['accuracy'])\n",
    "\n",
    "print(model.summary()) # Summarize Model\n",
    "plot_model(model, to_file='t_lstm_test.png',show_shapes=True)\n",
    "history_withpre2 = model.fit(a_train, b_train, epochs=100, batch_size=16, verbose=2)"
   ]
  },
  {
   "cell_type": "code",
   "execution_count": null,
   "metadata": {},
   "outputs": [],
   "source": [
    "from keras.layers import Input, Embedding, LSTM, Dense,Merge\n",
    "from keras.models import Model\n",
    "\n",
    "emdedding_size=12 #\n",
    "vo_len=3 #\n",
    "vocab_size=11000 #\n",
    "a_train=patternX.reshape(-1,3,1)\n",
    "b_train=train_Y\n",
    "k=trainZ\n",
    "pretrained_weights=Matrix\n",
    "\n",
    "input_pattern = Input(shape=(3, 1),name=\"input_pattern\")\n",
    "lstm_out = LSTM(units=64)(input_pattern)\n",
    "lstm_out = Dropout(0.2)(lstm_out)\n",
    "\n",
    "x=Dense(250,activation='relu',name=\"C\")(lstm_out)\n",
    "x=Dropout(0.2)(x)\n",
    "x=Dense(180,activation='softmax')(x)\n",
    "\n",
    "\n",
    "model = Model(inputs=input_pattern, outputs=x)\n",
    "model.compile(loss='categorical_crossentropy', optimizer='adam',metrics=['accuracy'])\n",
    "\n",
    "print(model.summary()) # Summarize Model\n",
    "plot_model(model, to_file='t_lstm_test.png',show_shapes=True)\n",
    "history_withpre2 = model.fit(a_train, b_train, epochs=100, batch_size=16, verbose=2)"
   ]
  },
  {
   "cell_type": "markdown",
   "metadata": {},
   "source": [
    "plot_model(model, to_file='t_lstm_test.png',show_shapes=True)\n",
    "history1 = model.fit(a_train, b_train, epochs=100, batch_size=16, verbose=2)"
   ]
  },
  {
   "cell_type": "code",
   "execution_count": null,
   "metadata": {},
   "outputs": [],
   "source": [
    "from keras.layers import Input, Embedding, LSTM, Dense,Merge\n",
    "from keras.models import Model\n",
    "\n",
    "input_pattern = Input(shape=(3, a_train.shape[2]),name=\"input_pattern\")\n",
    "\n",
    "lstm_out = LSTM(512,input_shape=(3, a_train.shape[2]))(input_pattern)\n",
    "# lstm_out = LSTM(512,return_sequences=True,input_shape=(3, a_train.shape[2]))(input_pattern)\n",
    "# lstm_out = LSTM(300)(lstm_out)\n",
    "lstm_out = Dropout(0.2)(lstm_out)\n",
    "\n",
    "x=Dense(250,activation='relu',name=\"C\")(lstm_out)\n",
    "x=Dropout(0.2)(x)\n",
    "x=Dense(a_train.shape[2],activation='softmax')(x)\n",
    "\n",
    "model = Model(inputs=input_pattern, outputs=x)\n",
    "model.compile(loss='categorical_crossentropy', optimizer='adam',metrics=['accuracy'])\n",
    "\n",
    "print(model.summary()) # Summarize Model\n",
    "plot_model(model, to_file='t_lstm_test.png',show_shapes=True)"
   ]
  },
  {
   "cell_type": "code",
   "execution_count": null,
   "metadata": {},
   "outputs": [],
   "source": [
    "history = model.fit(a_train, b_train, epochs=100, batch_size=16, verbose=2, validation_data=(a_test, b_test))"
   ]
  },
  {
   "cell_type": "code",
   "execution_count": null,
   "metadata": {},
   "outputs": [],
   "source": [
    "print(history.history.keys())"
   ]
  },
  {
   "cell_type": "code",
   "execution_count": null,
   "metadata": {},
   "outputs": [],
   "source": [
    "fig = plt.figure()\n",
    "plt.plot(history.history['acc'])\n",
    "plt.plot(history1.history['acc'])\n",
    "plt.title('model accuracy')\n",
    "plt.ylabel('accuracy')\n",
    "plt.xlabel('epoch')\n",
    "plt.legend(['1-lstm', '2-lstm'], loc='upper left')"
   ]
  },
  {
   "cell_type": "code",
   "execution_count": null,
   "metadata": {},
   "outputs": [],
   "source": [
    "fig = plt.figure()\n",
    "plt.plot(history.history['acc'])\n",
    "plt.plot(history.history['val_acc'])\n",
    "plt.title('model accuracy')\n",
    "plt.ylabel('accuracy')\n",
    "plt.xlabel('epoch')\n",
    "plt.legend(['train', 'test'], loc='upper left')"
   ]
  },
  {
   "cell_type": "code",
   "execution_count": null,
   "metadata": {},
   "outputs": [],
   "source": [
    "plt.plot(history.history['loss'])\n",
    "plt.plot(history.history['val_loss'])\n",
    "plt.title('model loss')\n",
    "plt.ylabel('loss')\n",
    "plt.xlabel('epoch')\n",
    "plt.legend(['train', 'test'], loc='lower left')"
   ]
  },
  {
   "cell_type": "code",
   "execution_count": null,
   "metadata": {},
   "outputs": [],
   "source": [
    "train_X=train_X.reshape(-1,200)\n",
    "train_Y.reshape(-1,200)\n",
    "train_X.shape"
   ]
  },
  {
   "cell_type": "code",
   "execution_count": null,
   "metadata": {},
   "outputs": [],
   "source": [
    "train_Y.shape"
   ]
  },
  {
   "cell_type": "code",
   "execution_count": null,
   "metadata": {},
   "outputs": [],
   "source": [
    "from keras.layers import Input, Embedding, LSTM, Dense,Merge\n",
    "from keras.models import Model\n",
    "\n",
    "a_train=train_X\n",
    "b_train=train_Y\n",
    "k=trainZ\n",
    "\n",
    "input_pattern = Input(shape=(3, a_train.shape[2]),name=\"input_pattern\")\n",
    "input_id = Input(shape=(1,),name=\"input_id\")\n",
    "\n",
    "lstm_out = LSTM(250,input_shape=(3, a_train.shape[2]))(input_pattern)\n",
    "lstm_out = Dropout(0.2)(lstm_out)\n",
    "\n",
    "x = keras.layers.concatenate([lstm_out, input_id])\n",
    "x=Dense(250,activation='relu',name=\"C\")(x)\n",
    "x=Dropout(0.2)(x)\n",
    "x=Dense(a_train.shape[2],activation='softmax',name='x')(x)\n",
    "\n",
    "\n",
    "model = Model(inputs=[input_pattern,input_id], outputs=x)\n",
    "model.compile(loss='categorical_crossentropy', optimizer='adam',metrics=['accuracy'])\n",
    "\n",
    "print(model.summary()) # Summarize Model\n",
    "plot_model(model, to_file='t_lstm.png',show_shapes=True)"
   ]
  },
  {
   "cell_type": "code",
   "execution_count": null,
   "metadata": {},
   "outputs": [],
   "source": [
    "k=np.zeros(a_train.shape[0],dtype=np.int16)\n",
    "k=k.reshape(-1,1)\n",
    "\n",
    "k1=np.zeros(train_X.shape[0],dtype=np.int16)\n",
    "k1=k1.reshape(-1,1)"
   ]
  },
  {
   "cell_type": "code",
   "execution_count": null,
   "metadata": {
    "scrolled": true
   },
   "outputs": [],
   "source": [
    "history = model.fit({'input_pattern': a_train, 'input_id' : k}, {'x': b_train}, epochs=100, batch_size=64, verbose=2)"
   ]
  },
  {
   "cell_type": "code",
   "execution_count": null,
   "metadata": {},
   "outputs": [],
   "source": [
    "fig = plt.figure()\n",
    "Accuracy=[42.00,47.15 ,48.36, 49.35,47.42, 50.82, 52.31,56.93 ,57.15 ]\n",
    "x2=(20,30,40,50,60,70,80,90,100)\n",
    "plt.plot(x2,Accuracy)\n",
    "x1=range(0,100)\n",
    "plt.plot(x1,history.history['acc'])\n",
    "plt.title('model accuracy')\n",
    "plt.ylabel('accuracy')\n",
    "plt.xlabel('epoch')\n",
    "plt.legend(['100% total_data Yu','100% total_data Mine'], loc='upper left')\n",
    "\n"
   ]
  },
  {
   "cell_type": "code",
   "execution_count": null,
   "metadata": {},
   "outputs": [],
   "source": [
    "fig = plt.figure()\n",
    "plt.plot(history.history['acc'])\n",
    "plt.plot(history.history['val_acc'])\n",
    "plt.title('model accuracy')\n",
    "plt.ylabel('accuracy')\n",
    "plt.xlabel('epoch')\n",
    "plt.legend(['90% train_data', '100% total_data'], loc='upper left')"
   ]
  },
  {
   "cell_type": "code",
   "execution_count": null,
   "metadata": {},
   "outputs": [],
   "source": []
  },
  {
   "cell_type": "markdown",
   "metadata": {
    "collapsed": true
   },
   "source": [
    "model.fit(a_train, b_train, epochs=100, batch_size=16, verbose=2, validation_data=(a_test, b_test))"
   ]
  },
  {
   "cell_type": "code",
   "execution_count": null,
   "metadata": {},
   "outputs": [],
   "source": [
    "model.evaluate(train_X, train_Y, batch_size=64, verbose=2, sample_weight=None)"
   ]
  },
  {
   "cell_type": "code",
   "execution_count": null,
   "metadata": {},
   "outputs": [],
   "source": [
    "trainPredict = model.predict(train_X)\n",
    "D=np.argmax(train_Y,axis = 1)\n",
    "E=np.argmax(trainPredict,axis = 1)"
   ]
  },
  {
   "cell_type": "code",
   "execution_count": null,
   "metadata": {},
   "outputs": [],
   "source": [
    "print(D)\n",
    "print(E)"
   ]
  },
  {
   "cell_type": "code",
   "execution_count": null,
   "metadata": {},
   "outputs": [],
   "source": [
    "A=0 #total number of right\n",
    "for i,t in enumerate(E):\n",
    "    if D[i]==t :\n",
    "        A=A+1\n",
    "print(A/D.shape[0])"
   ]
  },
  {
   "cell_type": "code",
   "execution_count": null,
   "metadata": {},
   "outputs": [],
   "source": []
  }
 ],
 "metadata": {
  "kernelspec": {
   "display_name": "Python 3",
   "language": "python",
   "name": "python3"
  },
  "language_info": {
   "codemirror_mode": {
    "name": "ipython",
    "version": 3
   },
   "file_extension": ".py",
   "mimetype": "text/x-python",
   "name": "python",
   "nbconvert_exporter": "python",
   "pygments_lexer": "ipython3",
   "version": "3.6.5"
  }
 },
 "nbformat": 4,
 "nbformat_minor": 2
}
