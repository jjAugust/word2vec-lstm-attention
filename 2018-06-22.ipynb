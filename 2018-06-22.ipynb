{
 "cells": [
  {
   "cell_type": "code",
   "execution_count": 1,
   "metadata": {},
   "outputs": [
    {
     "name": "stderr",
     "output_type": "stream",
     "text": [
      "/usr/local/lib/python3.5/dist-packages/h5py/__init__.py:36: FutureWarning: Conversion of the second argument of issubdtype from `float` to `np.floating` is deprecated. In future, it will be treated as `np.float64 == np.dtype(float).type`.\n",
      "  from ._conv import register_converters as _register_converters\n",
      "Using TensorFlow backend.\n",
      "/usr/local/lib/python3.5/dist-packages/sklearn/cross_validation.py:41: DeprecationWarning: This module was deprecated in version 0.18 in favor of the model_selection module into which all the refactored classes and functions are moved. Also note that the interface of the new CV iterators are different from that of this module. This module will be removed in 0.20.\n",
      "  \"This module will be removed in 0.20.\", DeprecationWarning)\n"
     ]
    }
   ],
   "source": [
    "# LSTM for international airline passengers problem with window regression framing\n",
    "import numpy\n",
    "import numpy as np\n",
    "import keras\n",
    "import matplotlib.pyplot as plt\n",
    "from pandas import read_csv\n",
    "import math\n",
    "from keras.models import Sequential\n",
    "from keras.layers import Dense,Dropout\n",
    "from keras.layers import LSTM\n",
    "from sklearn.preprocessing import MinMaxScaler\n",
    "from sklearn.metrics import mean_squared_error\n",
    "from sklearn.preprocessing import OneHotEncoder\n",
    "from sklearn.cross_validation import train_test_split\n",
    "from keras.utils.vis_utils import plot_model"
   ]
  },
  {
   "cell_type": "code",
   "execution_count": 2,
   "metadata": {},
   "outputs": [],
   "source": [
    "# convert an array of values into a dataset matrix\n",
    "def create_dataset(dataset, look_back=1):\n",
    "\tdataX, dataY = [], []\n",
    "\tfor i in range(len(dataset)-look_back-1):\n",
    "\t\ta = dataset[i:(i+look_back), 0]\n",
    "\t\tdataX.append(a)\n",
    "\t\tdataY.append(dataset[i + look_back, 0])\n",
    "\treturn numpy.array(dataX), numpy.array(dataY)"
   ]
  },
  {
   "cell_type": "code",
   "execution_count": 3,
   "metadata": {},
   "outputs": [],
   "source": [
    "    def create_dataset2(dataset, look_back=1):\n",
    "        dataX, dataY = [], []\n",
    "        dataZ=[]\n",
    "        for i in range(len(dataset)-look_back-1):\n",
    "            a = dataset[i:(i+look_back), 1]\n",
    "            dataX.append(a)\n",
    "            b = dataset[i + look_back, 0]\n",
    "            dataZ.append(b)\n",
    "            dataY.append(dataset[i + look_back, 1])\n",
    "        return numpy.array(dataX), numpy.array(dataY),numpy.array(dataZ)              "
   ]
  },
  {
   "cell_type": "code",
   "execution_count": 4,
   "metadata": {},
   "outputs": [],
   "source": [
    "# fix random seed for reproducibility\n",
    "numpy.random.seed(7)\n",
    "# load the dataset\n",
    "# dataframe = read_csv('w_d_v.csv', usecols=[7], engine='python', skipfooter=3)\n",
    "dataframe = read_csv('t6192.csv', usecols=[8,0], engine='python',dtype=np.int32,skiprows=-1,header=None,skipfooter=3)\n",
    "pattern = read_csv('t6192.csv', usecols=[7], engine='python',dtype=np.int32,skiprows=-1,header=None,skipfooter=3)\n",
    "Matrix = read_csv('matrix621.csv', usecols=[2,3,4,5,6,7,8,9,10,11,12,13], engine='python',header=None)\n",
    "all_data = read_csv('all_data.csv', usecols=[7], engine='python', skipfooter=3)\n",
    "dataset = dataframe.values\n",
    "Matrix = Matrix.values\n",
    "pattern=pattern.values\n",
    "allData=all_data.values\n",
    "Matrix=np.append([[-1,-1,-1,-1,-1,-1,-1,-1,-1,-1,-1,-1]],Matrix,axis=0)"
   ]
  },
  {
   "cell_type": "code",
   "execution_count": 5,
   "metadata": {},
   "outputs": [],
   "source": [
    "look_back = 3\n",
    "\n",
    "trainX, trainY, trainZ = create_dataset2(dataset, look_back)\n",
    "AllX, AllY = create_dataset(allData, look_back)\n",
    "patternX, patternY = create_dataset(pattern, look_back)\n",
    "\n",
    "trainY=numpy.reshape(trainY,(trainY.shape[0],-1))\n",
    "AllY=numpy.reshape(AllY,(AllY.shape[0],-1))"
   ]
  },
  {
   "cell_type": "code",
   "execution_count": 6,
   "metadata": {},
   "outputs": [
    {
     "data": {
      "text/plain": [
       "OneHotEncoder(categorical_features='all', dtype=<class 'numpy.float64'>,\n",
       "       handle_unknown='error', n_values='auto', sparse=True)"
      ]
     },
     "execution_count": 6,
     "metadata": {},
     "output_type": "execute_result"
    }
   ],
   "source": [
    "encX = OneHotEncoder()\n",
    "encX.fit(trainX)\n",
    "encY = OneHotEncoder()\n",
    "encY.fit(trainY)"
   ]
  },
  {
   "cell_type": "code",
   "execution_count": 7,
   "metadata": {},
   "outputs": [],
   "source": [
    "trainX_one=encX.transform(trainX).toarray()\n",
    "train_X=numpy.reshape(trainX_one,(trainX_one.shape[0],look_back,-1))\n",
    "train_Y=encY.transform(trainY).toarray()"
   ]
  },
  {
   "cell_type": "markdown",
   "metadata": {},
   "source": [
    "#还没能直接拆分，其他维度没有做对应\n",
    "a_train, a_test, b_train, b_test = train_test_split(train_X, train_Y, test_size=0.1, random_state=42)"
   ]
  },
  {
   "cell_type": "code",
   "execution_count": 8,
   "metadata": {},
   "outputs": [],
   "source": [
    "emdedding_size=Matrix.shape[1] #\n",
    "vo_len=look_back #\n",
    "vocab_size=Matrix.shape[0] #"
   ]
  },
  {
   "cell_type": "code",
   "execution_count": 20,
   "metadata": {},
   "outputs": [],
   "source": [
    "a_train=trainX.reshape(-1,3,1)\n",
    "a_train=a_train.reshape(-1,3)\n",
    "b_train=train_Y\n",
    "k=trainZ\n",
    "pretrained_weights=Matrix\n",
    "LSTM_size=32"
   ]
  },
  {
   "cell_type": "code",
   "execution_count": 10,
   "metadata": {},
   "outputs": [
    {
     "name": "stdout",
     "output_type": "stream",
     "text": [
      "------------------------\n",
      "in size:\n",
      "(32607, 3)\n",
      "------------------------\n",
      "out size:\n",
      "(32607, 191)\n",
      "------------------------\n",
      "user size:\n",
      "(32607,)\n",
      "------------------------\n"
     ]
    }
   ],
   "source": [
    "print(\"------------------------\")\n",
    "print(\"in size:\")\n",
    "print(a_train.shape)\n",
    "print(\"------------------------\")\n",
    "print(\"out size:\")\n",
    "print(b_train.shape)\n",
    "print(\"------------------------\")\n",
    "print(\"user size:\")\n",
    "print(k.shape)\n",
    "print(\"------------------------\")"
   ]
  },
  {
   "cell_type": "code",
   "execution_count": 11,
   "metadata": {},
   "outputs": [
    {
     "name": "stdout",
     "output_type": "stream",
     "text": [
      "------------------------\n",
      "input encode example1:\n",
      "[[0. 0. 0. 0. 0. 0. 0. 0. 0. 0. 0. 0. 0. 0. 0. 0. 0. 0. 0. 0. 0. 0. 0. 0.\n",
      "  0. 0. 0. 0. 0. 0. 0. 0. 0. 0. 0. 0. 0. 0. 0. 0. 0. 0. 0. 0. 0. 0. 0. 0.\n",
      "  0. 0. 0. 0. 0. 0. 0. 0. 0. 0. 0. 0. 0. 0. 0. 0. 0. 0. 0. 0. 0. 0. 0. 0.\n",
      "  0. 0. 0. 0. 0. 0. 0. 0. 0. 0. 0. 0. 0. 0. 0. 0. 0. 0. 0. 0. 0. 0. 0. 0.\n",
      "  0. 0. 0. 0. 0. 0. 0. 0. 0. 0. 0. 0. 0. 0. 0. 0. 0. 0. 0. 0. 0. 0. 0. 0.\n",
      "  0. 0. 0. 0. 0. 0. 0. 0. 0. 0. 0. 0. 0. 0. 0. 0. 0. 0. 0. 0. 0. 0. 0. 0.\n",
      "  0. 0. 0. 0. 0. 0. 0. 0. 0. 0. 0. 0. 0. 0. 0. 1. 0. 0. 0. 0. 0. 0. 0. 0.\n",
      "  0. 0. 0. 0. 0. 0. 0. 0. 0. 0. 0. 0. 0. 0. 0. 0. 0. 0. 0. 0. 0. 0. 0.]\n",
      " [0. 0. 0. 0. 0. 0. 0. 0. 0. 0. 0. 0. 0. 0. 0. 0. 0. 0. 0. 0. 0. 0. 0. 0.\n",
      "  0. 0. 0. 0. 0. 0. 0. 0. 0. 0. 0. 0. 0. 0. 0. 0. 0. 0. 0. 0. 0. 0. 0. 0.\n",
      "  0. 0. 0. 0. 0. 0. 0. 0. 0. 0. 0. 0. 0. 0. 0. 0. 0. 0. 0. 0. 0. 0. 0. 0.\n",
      "  0. 0. 0. 0. 0. 0. 0. 0. 0. 0. 0. 0. 0. 0. 0. 0. 0. 0. 0. 0. 0. 0. 0. 0.\n",
      "  0. 0. 0. 0. 0. 0. 0. 0. 0. 0. 0. 0. 0. 0. 0. 0. 0. 0. 0. 0. 0. 0. 0. 0.\n",
      "  0. 0. 0. 0. 0. 0. 0. 0. 0. 0. 0. 0. 0. 0. 0. 0. 0. 0. 0. 0. 0. 0. 0. 0.\n",
      "  0. 0. 0. 0. 0. 0. 0. 0. 0. 1. 0. 0. 0. 0. 0. 0. 0. 0. 0. 0. 0. 0. 0. 0.\n",
      "  0. 0. 0. 0. 0. 0. 0. 0. 0. 0. 0. 0. 0. 0. 0. 0. 0. 0. 0. 0. 0. 0. 0.]\n",
      " [0. 0. 0. 0. 0. 0. 0. 0. 0. 0. 0. 0. 0. 0. 0. 0. 0. 0. 0. 0. 0. 0. 0. 0.\n",
      "  0. 0. 0. 0. 0. 0. 0. 0. 0. 0. 0. 0. 0. 0. 0. 0. 0. 0. 0. 0. 0. 0. 0. 0.\n",
      "  0. 0. 0. 0. 0. 0. 0. 0. 0. 0. 0. 0. 0. 0. 0. 0. 0. 0. 0. 0. 0. 0. 0. 0.\n",
      "  0. 0. 0. 0. 0. 0. 0. 0. 0. 0. 0. 0. 0. 0. 0. 0. 0. 0. 0. 0. 0. 0. 0. 0.\n",
      "  0. 0. 0. 0. 0. 0. 0. 0. 0. 0. 0. 0. 0. 0. 0. 0. 0. 0. 0. 0. 0. 0. 0. 0.\n",
      "  0. 0. 0. 0. 0. 0. 0. 0. 0. 0. 0. 0. 0. 0. 0. 0. 0. 0. 0. 0. 0. 0. 0. 0.\n",
      "  0. 0. 1. 0. 0. 0. 0. 0. 0. 0. 0. 0. 0. 0. 0. 0. 0. 0. 0. 0. 0. 0. 0. 0.\n",
      "  0. 0. 0. 0. 0. 0. 0. 0. 0. 0. 0. 0. 0. 0. 0. 0. 0. 0. 0. 0. 0. 0. 0.]]\n",
      "------------------------\n",
      "input encode example2:\n",
      "[0.3220339  0.0338983  0.01694915 0.         0.         0.0338983\n",
      " 0.         0.06779661 0.30508474 0.08474577 0.13559322 0.        ]\n",
      "[0.36734694 0.         0.         0.12244898 0.         0.04081633\n",
      " 0.         0.04081633 0.36734694 0.06122449 0.         0.        ]\n",
      "[0.3548387  0.         0.06451613 0.03225806 0.         0.03225806\n",
      " 0.         0.         0.29032257 0.04838709 0.08064516 0.09677419]\n",
      "------------------------\n",
      "input decode example:\n",
      "[167 157 150]\n",
      "------------------------\n",
      "output encode example:\n",
      "[0. 0. 0. 0. 0. 0. 0. 0. 0. 0. 0. 0. 0. 0. 0. 0. 0. 0. 0. 0. 0. 0. 0. 0.\n",
      " 0. 0. 0. 0. 0. 0. 0. 0. 0. 0. 0. 0. 0. 0. 0. 0. 0. 0. 0. 0. 0. 0. 0. 0.\n",
      " 0. 0. 0. 0. 0. 0. 0. 0. 0. 0. 0. 0. 0. 0. 0. 0. 0. 0. 0. 0. 0. 0. 0. 0.\n",
      " 0. 0. 0. 0. 0. 0. 0. 0. 0. 0. 0. 0. 0. 0. 0. 0. 0. 0. 0. 0. 0. 0. 0. 0.\n",
      " 0. 0. 0. 0. 0. 0. 0. 0. 0. 0. 0. 0. 0. 0. 0. 0. 0. 0. 0. 0. 0. 0. 0. 0.\n",
      " 0. 0. 0. 0. 0. 0. 0. 0. 0. 0. 0. 0. 0. 0. 0. 0. 0. 0. 0. 0. 0. 0. 0. 0.\n",
      " 0. 0. 1. 0. 0. 0. 0. 0. 0. 0. 0. 0. 0. 0. 0. 0. 0. 0. 0. 0. 0. 0. 0. 0.\n",
      " 0. 0. 0. 0. 0. 0. 0. 0. 0. 0. 0. 0. 0. 0. 0. 0. 0. 0. 0. 0. 0. 0. 0.]\n",
      "------------------------\n",
      "output decode example:\n",
      "[150]\n",
      "------------------------\n",
      "user_id example:\n",
      "0\n",
      "------------------------\n"
     ]
    }
   ],
   "source": [
    "print(\"------------------------\")\n",
    "print(\"input encode example1:\")\n",
    "print(train_X[0])\n",
    "print(\"------------------------\")\n",
    "\n",
    "print(\"input encode example2:\")\n",
    "for x in a_train[0]:\n",
    "    print(pretrained_weights[x])\n",
    "print(\"------------------------\")\n",
    "\n",
    "print(\"input decode example:\")\n",
    "print(a_train[0])\n",
    "print(\"------------------------\")\n",
    "\n",
    "print(\"output encode example:\")\n",
    "print(b_train[0])\n",
    "print(\"------------------------\")\n",
    "\n",
    "print(\"output decode example:\")\n",
    "print(trainY[0])\n",
    "print(\"------------------------\")\n",
    "\n",
    "print(\"user_id example:\")\n",
    "print(k[0])\n",
    "print(\"------------------------\")"
   ]
  },
  {
   "cell_type": "code",
   "execution_count": 12,
   "metadata": {},
   "outputs": [
    {
     "name": "stdout",
     "output_type": "stream",
     "text": [
      "------------------------\n",
      "emdedding_size:\n",
      "12\n",
      "------------------------\n",
      "vocab_length:\n",
      "3\n",
      "------------------------\n",
      "vocab_size:\n",
      "201\n",
      "------------------------\n"
     ]
    }
   ],
   "source": [
    "print(\"------------------------\")\n",
    "print(\"emdedding_size:\")\n",
    "print(emdedding_size)\n",
    "print(\"------------------------\")\n",
    "\n",
    "print(\"vocab_length:\")\n",
    "print(vo_len)\n",
    "print(\"------------------------\")\n",
    "\n",
    "print(\"vocab_size:\")\n",
    "print(vocab_size)\n",
    "print(\"------------------------\")"
   ]
  },
  {
   "cell_type": "code",
   "execution_count": null,
   "metadata": {},
   "outputs": [
    {
     "name": "stdout",
     "output_type": "stream",
     "text": [
      "使用 encode2 (语义权重 pretrained_weights)方法\n",
      "Epoch 1/100\n",
      " - 8s - loss: 3.6131 - acc: 0.1981\n",
      "Epoch 2/100\n",
      " - 7s - loss: 3.0748 - acc: 0.2588\n",
      "Epoch 3/100\n",
      " - 7s - loss: 2.9227 - acc: 0.2801\n",
      "Epoch 4/100\n",
      " - 7s - loss: 2.8332 - acc: 0.2912\n",
      "Epoch 5/100\n",
      " - 7s - loss: 2.7763 - acc: 0.2978\n",
      "Epoch 6/100\n",
      " - 7s - loss: 2.7325 - acc: 0.3052\n",
      "Epoch 7/100\n",
      " - 7s - loss: 2.6926 - acc: 0.3108\n",
      "Epoch 8/100\n",
      " - 7s - loss: 2.6575 - acc: 0.3140\n",
      "Epoch 9/100\n",
      " - 7s - loss: 2.6331 - acc: 0.3194\n",
      "Epoch 10/100\n",
      " - 7s - loss: 2.6026 - acc: 0.3235\n",
      "Epoch 11/100\n",
      " - 7s - loss: 2.5713 - acc: 0.3286\n",
      "Epoch 12/100\n",
      " - 7s - loss: 2.5552 - acc: 0.3278\n",
      "Epoch 13/100\n",
      " - 7s - loss: 2.5261 - acc: 0.3386\n",
      "Epoch 14/100\n",
      " - 7s - loss: 2.5132 - acc: 0.3362\n",
      "Epoch 15/100\n",
      " - 7s - loss: 2.4926 - acc: 0.3394\n",
      "Epoch 16/100\n",
      " - 7s - loss: 2.4706 - acc: 0.3425\n",
      "Epoch 17/100\n",
      " - 7s - loss: 2.4496 - acc: 0.3471\n",
      "Epoch 18/100\n",
      " - 7s - loss: 2.4348 - acc: 0.3491\n",
      "Epoch 19/100\n",
      " - 7s - loss: 2.4181 - acc: 0.3528\n",
      "Epoch 20/100\n",
      " - 7s - loss: 2.4061 - acc: 0.3558\n",
      "Epoch 21/100\n",
      " - 7s - loss: 2.3922 - acc: 0.3542\n",
      "Epoch 22/100\n",
      " - 7s - loss: 2.3774 - acc: 0.3581\n",
      "Epoch 23/100\n",
      " - 7s - loss: 2.3612 - acc: 0.3603\n",
      "Epoch 24/100\n",
      " - 7s - loss: 2.3462 - acc: 0.3631\n",
      "Epoch 25/100\n",
      " - 7s - loss: 2.3331 - acc: 0.3643\n",
      "Epoch 26/100\n",
      " - 7s - loss: 2.3274 - acc: 0.3668\n",
      "Epoch 27/100\n",
      " - 7s - loss: 2.3124 - acc: 0.3700\n",
      "Epoch 28/100\n",
      " - 7s - loss: 2.2982 - acc: 0.3724\n",
      "Epoch 29/100\n",
      " - 7s - loss: 2.2877 - acc: 0.3734\n",
      "Epoch 30/100\n",
      " - 7s - loss: 2.2817 - acc: 0.3730\n",
      "Epoch 31/100\n",
      " - 7s - loss: 2.2700 - acc: 0.3756\n",
      "Epoch 32/100\n",
      " - 7s - loss: 2.2537 - acc: 0.3803\n",
      "Epoch 33/100\n",
      " - 7s - loss: 2.2553 - acc: 0.3783\n",
      "Epoch 34/100\n",
      " - 7s - loss: 2.2417 - acc: 0.3802\n",
      "Epoch 35/100\n",
      " - 7s - loss: 2.2348 - acc: 0.3849\n",
      "Epoch 36/100\n",
      " - 7s - loss: 2.2198 - acc: 0.3834\n",
      "Epoch 37/100\n",
      " - 7s - loss: 2.2149 - acc: 0.3863\n",
      "Epoch 38/100\n",
      " - 7s - loss: 2.2078 - acc: 0.3902\n",
      "Epoch 39/100\n",
      " - 7s - loss: 2.1972 - acc: 0.3880\n",
      "Epoch 40/100\n",
      " - 7s - loss: 2.1889 - acc: 0.3899\n",
      "Epoch 41/100\n",
      " - 7s - loss: 2.1869 - acc: 0.3929\n",
      "Epoch 42/100\n",
      " - 7s - loss: 2.1746 - acc: 0.3939\n",
      "Epoch 43/100\n",
      " - 7s - loss: 2.1713 - acc: 0.3933\n",
      "Epoch 44/100\n",
      " - 7s - loss: 2.1617 - acc: 0.3943\n",
      "Epoch 45/100\n",
      " - 7s - loss: 2.1586 - acc: 0.3959\n",
      "Epoch 46/100\n",
      " - 7s - loss: 2.1625 - acc: 0.3987\n",
      "Epoch 47/100\n",
      " - 7s - loss: 2.1509 - acc: 0.4013\n",
      "Epoch 48/100\n",
      " - 7s - loss: 2.1423 - acc: 0.3998\n",
      "Epoch 49/100\n",
      " - 7s - loss: 2.1383 - acc: 0.4009\n",
      "Epoch 50/100\n",
      " - 7s - loss: 2.1364 - acc: 0.4014\n",
      "Epoch 51/100\n",
      " - 7s - loss: 2.1244 - acc: 0.4030\n",
      "Epoch 52/100\n",
      " - 7s - loss: 2.1144 - acc: 0.4063\n",
      "Epoch 53/100\n",
      " - 7s - loss: 2.1103 - acc: 0.4046\n",
      "Epoch 54/100\n",
      " - 7s - loss: 2.1046 - acc: 0.4074\n",
      "Epoch 55/100\n"
     ]
    }
   ],
   "source": [
    "print(\"使用 encode2 (语义权重 pretrained_weights)方法\")\n",
    "from keras.layers import Input, Embedding, LSTM, Dense,Merge,Flatten\n",
    "from keras.models import Model\n",
    "# a_train=a_train.reshape(-1,3)\n",
    "\n",
    "emdedding_size=100\n",
    "vocab_size=201\n",
    "User_size=183\n",
    "\n",
    "input_pattern = Input(shape=(3, ),name=\"input_pattern\")\n",
    "input_id = Input(shape=(1,),name=\"input_id\")\n",
    "\n",
    "em = Embedding(input_dim=vocab_size, output_dim=emdedding_size,input_length=vo_len)(input_pattern)\n",
    "lstm_out = LSTM(LSTM_size)(em)\n",
    "lstm_out = Dropout(0.2)(lstm_out)\n",
    "\n",
    "em2 = Embedding(input_dim=User_size, output_dim=emdedding_size,input_length=1)(input_id)\n",
    "em2=Flatten()(em2)\n",
    "\n",
    "x = keras.layers.concatenate([lstm_out, em2])\n",
    "x=Dense(250,activation='relu',name=\"C\")(x)\n",
    "x=Dropout(0.2)(x)\n",
    "x=Dense(b_train.shape[1],activation='softmax',name='x')(x)\n",
    "\n",
    "\n",
    "model = Model(inputs=[input_pattern,input_id], outputs=x)\n",
    "model.compile(loss='categorical_crossentropy', optimizer='adam',metrics=['accuracy'])\n",
    "\n",
    "# print(model.summary()) # Summarize Model\n",
    "plot_model(model, to_file='t_lstm.png',show_shapes=True)\n",
    "history_nopre = model.fit([a_train,k], b_train, epochs=100, batch_size=16, verbose=2)"
   ]
  },
  {
   "cell_type": "code",
   "execution_count": 15,
   "metadata": {
    "scrolled": true
   },
   "outputs": [
    {
     "name": "stdout",
     "output_type": "stream",
     "text": [
      "使用 encode1 方法\n"
     ]
    },
    {
     "ename": "ValueError",
     "evalue": "A `Concatenate` layer requires inputs with matching shapes except for the concat axis. Got inputs shapes: [(None, 3, 32), (None, 1)]",
     "output_type": "error",
     "traceback": [
      "\u001b[0;31m---------------------------------------------------------------------------\u001b[0m",
      "\u001b[0;31mValueError\u001b[0m                                Traceback (most recent call last)",
      "\u001b[0;32m<ipython-input-15-4f0dfc318376>\u001b[0m in \u001b[0;36m<module>\u001b[0;34m()\u001b[0m\n\u001b[1;32m     11\u001b[0m \u001b[0mlstm_out\u001b[0m \u001b[0;34m=\u001b[0m \u001b[0mDropout\u001b[0m\u001b[0;34m(\u001b[0m\u001b[0;36m0.2\u001b[0m\u001b[0;34m)\u001b[0m\u001b[0;34m(\u001b[0m\u001b[0mlstm_out\u001b[0m\u001b[0;34m)\u001b[0m\u001b[0;34m\u001b[0m\u001b[0m\n\u001b[1;32m     12\u001b[0m \u001b[0;34m\u001b[0m\u001b[0m\n\u001b[0;32m---> 13\u001b[0;31m \u001b[0mx\u001b[0m \u001b[0;34m=\u001b[0m \u001b[0mkeras\u001b[0m\u001b[0;34m.\u001b[0m\u001b[0mlayers\u001b[0m\u001b[0;34m.\u001b[0m\u001b[0mconcatenate\u001b[0m\u001b[0;34m(\u001b[0m\u001b[0;34m[\u001b[0m\u001b[0mlstm_out\u001b[0m\u001b[0;34m,\u001b[0m \u001b[0minput_id\u001b[0m\u001b[0;34m]\u001b[0m\u001b[0;34m)\u001b[0m\u001b[0;34m\u001b[0m\u001b[0m\n\u001b[0m\u001b[1;32m     14\u001b[0m \u001b[0mx\u001b[0m\u001b[0;34m=\u001b[0m\u001b[0mDense\u001b[0m\u001b[0;34m(\u001b[0m\u001b[0;36m250\u001b[0m\u001b[0;34m,\u001b[0m\u001b[0mactivation\u001b[0m\u001b[0;34m=\u001b[0m\u001b[0;34m'relu'\u001b[0m\u001b[0;34m,\u001b[0m\u001b[0mname\u001b[0m\u001b[0;34m=\u001b[0m\u001b[0;34m\"C\"\u001b[0m\u001b[0;34m)\u001b[0m\u001b[0;34m(\u001b[0m\u001b[0mx\u001b[0m\u001b[0;34m)\u001b[0m\u001b[0;34m\u001b[0m\u001b[0m\n\u001b[1;32m     15\u001b[0m \u001b[0mx\u001b[0m\u001b[0;34m=\u001b[0m\u001b[0mDropout\u001b[0m\u001b[0;34m(\u001b[0m\u001b[0;36m0.2\u001b[0m\u001b[0;34m)\u001b[0m\u001b[0;34m(\u001b[0m\u001b[0mx\u001b[0m\u001b[0;34m)\u001b[0m\u001b[0;34m\u001b[0m\u001b[0m\n",
      "\u001b[0;32m/usr/local/lib/python3.5/dist-packages/keras/layers/merge.py\u001b[0m in \u001b[0;36mconcatenate\u001b[0;34m(inputs, axis, **kwargs)\u001b[0m\n\u001b[1;32m    639\u001b[0m         \u001b[0mA\u001b[0m \u001b[0mtensor\u001b[0m\u001b[0;34m,\u001b[0m \u001b[0mthe\u001b[0m \u001b[0mconcatenation\u001b[0m \u001b[0mof\u001b[0m \u001b[0mthe\u001b[0m \u001b[0minputs\u001b[0m \u001b[0malongside\u001b[0m \u001b[0maxis\u001b[0m\u001b[0;31m \u001b[0m\u001b[0;31m`\u001b[0m\u001b[0maxis\u001b[0m\u001b[0;31m`\u001b[0m\u001b[0;34m.\u001b[0m\u001b[0;34m\u001b[0m\u001b[0m\n\u001b[1;32m    640\u001b[0m     \"\"\"\n\u001b[0;32m--> 641\u001b[0;31m     \u001b[0;32mreturn\u001b[0m \u001b[0mConcatenate\u001b[0m\u001b[0;34m(\u001b[0m\u001b[0maxis\u001b[0m\u001b[0;34m=\u001b[0m\u001b[0maxis\u001b[0m\u001b[0;34m,\u001b[0m \u001b[0;34m**\u001b[0m\u001b[0mkwargs\u001b[0m\u001b[0;34m)\u001b[0m\u001b[0;34m(\u001b[0m\u001b[0minputs\u001b[0m\u001b[0;34m)\u001b[0m\u001b[0;34m\u001b[0m\u001b[0m\n\u001b[0m\u001b[1;32m    642\u001b[0m \u001b[0;34m\u001b[0m\u001b[0m\n\u001b[1;32m    643\u001b[0m \u001b[0;34m\u001b[0m\u001b[0m\n",
      "\u001b[0;32m/usr/local/lib/python3.5/dist-packages/keras/engine/topology.py\u001b[0m in \u001b[0;36m__call__\u001b[0;34m(self, inputs, **kwargs)\u001b[0m\n\u001b[1;32m    592\u001b[0m                     \u001b[0mself\u001b[0m\u001b[0;34m.\u001b[0m\u001b[0mbuild\u001b[0m\u001b[0;34m(\u001b[0m\u001b[0minput_shapes\u001b[0m\u001b[0;34m[\u001b[0m\u001b[0;36m0\u001b[0m\u001b[0;34m]\u001b[0m\u001b[0;34m)\u001b[0m\u001b[0;34m\u001b[0m\u001b[0m\n\u001b[1;32m    593\u001b[0m                 \u001b[0;32melse\u001b[0m\u001b[0;34m:\u001b[0m\u001b[0;34m\u001b[0m\u001b[0m\n\u001b[0;32m--> 594\u001b[0;31m                     \u001b[0mself\u001b[0m\u001b[0;34m.\u001b[0m\u001b[0mbuild\u001b[0m\u001b[0;34m(\u001b[0m\u001b[0minput_shapes\u001b[0m\u001b[0;34m)\u001b[0m\u001b[0;34m\u001b[0m\u001b[0m\n\u001b[0m\u001b[1;32m    595\u001b[0m                 \u001b[0mself\u001b[0m\u001b[0;34m.\u001b[0m\u001b[0mbuilt\u001b[0m \u001b[0;34m=\u001b[0m \u001b[0;32mTrue\u001b[0m\u001b[0;34m\u001b[0m\u001b[0m\n\u001b[1;32m    596\u001b[0m \u001b[0;34m\u001b[0m\u001b[0m\n",
      "\u001b[0;32m/usr/local/lib/python3.5/dist-packages/keras/layers/merge.py\u001b[0m in \u001b[0;36mbuild\u001b[0;34m(self, input_shape)\u001b[0m\n\u001b[1;32m    352\u001b[0m                              \u001b[0;34m'inputs with matching shapes '\u001b[0m\u001b[0;34m\u001b[0m\u001b[0m\n\u001b[1;32m    353\u001b[0m                              \u001b[0;34m'except for the concat axis. '\u001b[0m\u001b[0;34m\u001b[0m\u001b[0m\n\u001b[0;32m--> 354\u001b[0;31m                              'Got inputs shapes: %s' % (input_shape))\n\u001b[0m\u001b[1;32m    355\u001b[0m \u001b[0;34m\u001b[0m\u001b[0m\n\u001b[1;32m    356\u001b[0m     \u001b[0;32mdef\u001b[0m \u001b[0m_merge_function\u001b[0m\u001b[0;34m(\u001b[0m\u001b[0mself\u001b[0m\u001b[0;34m,\u001b[0m \u001b[0minputs\u001b[0m\u001b[0;34m)\u001b[0m\u001b[0;34m:\u001b[0m\u001b[0;34m\u001b[0m\u001b[0m\n",
      "\u001b[0;31mValueError\u001b[0m: A `Concatenate` layer requires inputs with matching shapes except for the concat axis. Got inputs shapes: [(None, 3, 32), (None, 1)]"
     ]
    }
   ],
   "source": [
    "print(\"使用 encode1 方法\")\n",
    "a_train=train_X\n",
    "\n",
    "from keras.layers import Input, Embedding, LSTM, Dense,Merge\n",
    "from keras.models import Model\n",
    "\n",
    "input_pattern = Input(shape=(3, a_train.shape[2]),name=\"input_pattern\")\n",
    "input_id = Input(shape=(1,),name=\"input_id\")\n",
    "\n",
    "lstm_out = LSTM(units=32,return_sequences=False)(input_pattern)\n",
    "lstm_out = Dropout(0.2)(lstm_out)\n",
    "\n",
    "\n",
    "x = keras.layers.concatenate([lstm_out, input_id])\n",
    "x=Dense(250,activation='relu',name=\"C\")(x)\n",
    "x=Dropout(0.2)(x)\n",
    "x=Dense(b_train.shape[1],activation='softmax')(x)\n",
    "\n",
    "\n",
    "model = Model(inputs=[input_pattern,input_id], outputs=x)\n",
    "model.compile(loss='categorical_crossentropy', optimizer='adam',metrics=['accuracy'])\n",
    "\n",
    "# print(model.summary()) # Summarize Model\n",
    "plot_model(model, to_file='t_lstm_encode1.png',show_shapes=True)\n",
    "history_encode1 = model.fit([a_train,k], b_train, epochs=100, batch_size=16, verbose=2)"
   ]
  },
  {
   "cell_type": "code",
   "execution_count": null,
   "metadata": {},
   "outputs": [],
   "source": [
    "from keras.layers import Input, Embedding, LSTM, Dense,Merge\n",
    "from keras.models import Model\n",
    "\n",
    "emdedding_size=12 #\n",
    "vo_len=3 #\n",
    "vocab_size=11000 #\n",
    "a_train=trainX.reshape(-1,3)\n",
    "b_train=train_Y\n",
    "k=trainZ\n",
    "pretrained_weights=Matrix\n",
    "\n",
    "input_pattern = Input(shape=(3, ),name=\"input_pattern\")\n",
    "em = Embedding(input_dim=vocab_size, output_dim=emdedding_size,input_length=vo_len)(input_pattern)\n",
    "lstm_out = LSTM(units=emdedding_size)(em)\n",
    "lstm_out = Dropout(0.2)(lstm_out)\n",
    "\n",
    "x=Dense(250,activation='relu',name=\"C\")(lstm_out)\n",
    "x=Dropout(0.2)(x)\n",
    "x=Dense(180,activation='softmax')(x)\n",
    "\n",
    "\n",
    "model = Model(inputs=input_pattern, outputs=x)\n",
    "model.compile(loss='categorical_crossentropy', optimizer='adam',metrics=['accuracy'])\n",
    "\n",
    "print(model.summary()) # Summarize Model\n",
    "plot_model(model, to_file='t_lstm_test.png',show_shapes=True)\n",
    "history_withpre = model.fit(a_train, b_train, epochs=100, batch_size=16, verbose=2)"
   ]
  },
  {
   "cell_type": "code",
   "execution_count": null,
   "metadata": {},
   "outputs": [],
   "source": [
    "from keras.layers import Input, Embedding, LSTM, Dense,Merge\n",
    "from keras.models import Model\n",
    "\n",
    "emdedding_size=12 #\n",
    "vo_len=3 #\n",
    "vocab_size=11000 #\n",
    "a_train=patternX\n",
    "b_train=train_Y\n",
    "k=trainZ\n",
    "pretrained_weights=Matrix\n",
    "\n",
    "input_pattern = Input(shape=(3, ),name=\"input_pattern\")\n",
    "em = Embedding(input_dim=vocab_size, output_dim=emdedding_size,input_length=vo_len, weights=[pretrained_weights])(input_pattern)\n",
    "lstm_out = LSTM(units=emdedding_size)(em)\n",
    "lstm_out = Dropout(0.2)(lstm_out)\n",
    "\n",
    "x=Dense(250,activation='relu',name=\"C\")(lstm_out)\n",
    "x=Dropout(0.2)(x)\n",
    "x=Dense(180,activation='softmax')(x)\n",
    "\n",
    "\n",
    "model = Model(inputs=input_pattern, outputs=x)\n",
    "model.compile(loss='categorical_crossentropy', optimizer='adam',metrics=['accuracy'])\n",
    "\n",
    "print(model.summary()) # Summarize Model\n",
    "plot_model(model, to_file='t_lstm_test.png',show_shapes=True)\n",
    "history_withpre2 = model.fit(a_train, b_train, epochs=100, batch_size=16, verbose=2)"
   ]
  },
  {
   "cell_type": "markdown",
   "metadata": {},
   "source": [
    "plot_model(model, to_file='t_lstm_test.png',show_shapes=True)\n",
    "history_nopre = model.fit(a_train, b_train, epochs=100, batch_size=16, verbose=2)"
   ]
  },
  {
   "cell_type": "code",
   "execution_count": null,
   "metadata": {},
   "outputs": [],
   "source": [
    "from keras.layers import Input, Embedding, LSTM, Dense,Merge\n",
    "from keras.models import Model\n",
    "\n",
    "emdedding_size=12 #\n",
    "vo_len=3 #\n",
    "vocab_size=11000 #\n",
    "a_train=trainX.reshape(-1,3)\n",
    "b_train=train_Y\n",
    "k=trainZ\n",
    "pretrained_weights=Matrix\n",
    "\n",
    "input_pattern = Input(shape=(3, ),name=\"input_pattern\")\n",
    "em = Embedding(input_dim=vocab_size, output_dim=emdedding_size,input_length=vo_len, weights=[pretrained_weights])(input_pattern)\n",
    "lstm_out = LSTM(units=emdedding_size)(em)\n",
    "lstm_out = Dropout(0.2)(lstm_out)\n",
    "\n",
    "x=Dense(250,activation='relu',name=\"C\")(lstm_out)\n",
    "x=Dropout(0.2)(x)\n",
    "x=Dense(180,activation='softmax')(x)\n",
    "\n",
    "\n",
    "model = Model(inputs=input_pattern, outputs=x)\n",
    "model.compile(loss='categorical_crossentropy', optimizer='adam',metrics=['accuracy'])\n",
    "\n",
    "print(model.summary()) # Summarize Model\n",
    "plot_model(model, to_file='t_lstm_test.png',show_shapes=True)\n",
    "history_withpre2 = model.fit(a_train, b_train, epochs=100, batch_size=16, verbose=2)"
   ]
  },
  {
   "cell_type": "code",
   "execution_count": null,
   "metadata": {},
   "outputs": [],
   "source": [
    "from keras.layers import Input, Embedding, LSTM, Dense,Merge\n",
    "from keras.models import Model\n",
    "\n",
    "emdedding_size=12 #\n",
    "vo_len=3 #\n",
    "vocab_size=11000 #\n",
    "a_train=patternX.reshape(-1,3,1)\n",
    "b_train=train_Y\n",
    "k=trainZ\n",
    "pretrained_weights=Matrix\n",
    "\n",
    "input_pattern = Input(shape=(3, 1),name=\"input_pattern\")\n",
    "lstm_out = LSTM(units=64)(input_pattern)\n",
    "lstm_out = Dropout(0.2)(lstm_out)\n",
    "\n",
    "x=Dense(250,activation='relu',name=\"C\")(lstm_out)\n",
    "x=Dropout(0.2)(x)\n",
    "x=Dense(180,activation='softmax')(x)\n",
    "\n",
    "\n",
    "model = Model(inputs=input_pattern, outputs=x)\n",
    "model.compile(loss='categorical_crossentropy', optimizer='adam',metrics=['accuracy'])\n",
    "\n",
    "print(model.summary()) # Summarize Model\n",
    "plot_model(model, to_file='t_lstm_test.png',show_shapes=True)\n",
    "history_withpre2 = model.fit(a_train, b_train, epochs=100, batch_size=16, verbose=2)"
   ]
  },
  {
   "cell_type": "markdown",
   "metadata": {},
   "source": [
    "plot_model(model, to_file='t_lstm_test.png',show_shapes=True)\n",
    "history1 = model.fit(a_train, b_train, epochs=100, batch_size=16, verbose=2)"
   ]
  },
  {
   "cell_type": "code",
   "execution_count": null,
   "metadata": {},
   "outputs": [],
   "source": [
    "from keras.layers import Input, Embedding, LSTM, Dense,Merge\n",
    "from keras.models import Model\n",
    "\n",
    "input_pattern = Input(shape=(3, a_train.shape[2]),name=\"input_pattern\")\n",
    "\n",
    "lstm_out = LSTM(512,input_shape=(3, a_train.shape[2]))(input_pattern)\n",
    "# lstm_out = LSTM(512,return_sequences=True,input_shape=(3, a_train.shape[2]))(input_pattern)\n",
    "# lstm_out = LSTM(300)(lstm_out)\n",
    "lstm_out = Dropout(0.2)(lstm_out)\n",
    "\n",
    "x=Dense(250,activation='relu',name=\"C\")(lstm_out)\n",
    "x=Dropout(0.2)(x)\n",
    "x=Dense(a_train.shape[2],activation='softmax')(x)\n",
    "\n",
    "model = Model(inputs=input_pattern, outputs=x)\n",
    "model.compile(loss='categorical_crossentropy', optimizer='adam',metrics=['accuracy'])\n",
    "\n",
    "print(model.summary()) # Summarize Model\n",
    "plot_model(model, to_file='t_lstm_test.png',show_shapes=True)"
   ]
  },
  {
   "cell_type": "code",
   "execution_count": null,
   "metadata": {},
   "outputs": [],
   "source": [
    "history = model.fit(a_train, b_train, epochs=100, batch_size=16, verbose=2, validation_data=(a_test, b_test))"
   ]
  },
  {
   "cell_type": "code",
   "execution_count": null,
   "metadata": {},
   "outputs": [],
   "source": [
    "print(history.history.keys())"
   ]
  },
  {
   "cell_type": "code",
   "execution_count": null,
   "metadata": {},
   "outputs": [],
   "source": [
    "fig = plt.figure()\n",
    "plt.plot(history.history['acc'])\n",
    "plt.plot(history1.history['acc'])\n",
    "plt.title('model accuracy')\n",
    "plt.ylabel('accuracy')\n",
    "plt.xlabel('epoch')\n",
    "plt.legend(['1-lstm', '2-lstm'], loc='upper left')"
   ]
  },
  {
   "cell_type": "code",
   "execution_count": null,
   "metadata": {},
   "outputs": [],
   "source": [
    "fig = plt.figure()\n",
    "plt.plot(history.history['acc'])\n",
    "plt.plot(history.history['val_acc'])\n",
    "plt.title('model accuracy')\n",
    "plt.ylabel('accuracy')\n",
    "plt.xlabel('epoch')\n",
    "plt.legend(['train', 'test'], loc='upper left')"
   ]
  },
  {
   "cell_type": "code",
   "execution_count": null,
   "metadata": {},
   "outputs": [],
   "source": [
    "plt.plot(history.history['loss'])\n",
    "plt.plot(history.history['val_loss'])\n",
    "plt.title('model loss')\n",
    "plt.ylabel('loss')\n",
    "plt.xlabel('epoch')\n",
    "plt.legend(['train', 'test'], loc='lower left')"
   ]
  },
  {
   "cell_type": "code",
   "execution_count": null,
   "metadata": {},
   "outputs": [],
   "source": [
    "train_X=train_X.reshape(-1,200)\n",
    "train_Y.reshape(-1,200)\n",
    "train_X.shape"
   ]
  },
  {
   "cell_type": "code",
   "execution_count": null,
   "metadata": {},
   "outputs": [],
   "source": [
    "train_Y.shape"
   ]
  },
  {
   "cell_type": "code",
   "execution_count": null,
   "metadata": {},
   "outputs": [],
   "source": [
    "from keras.layers import Input, Embedding, LSTM, Dense,Merge\n",
    "from keras.models import Model\n",
    "\n",
    "a_train=train_X\n",
    "b_train=train_Y\n",
    "k=trainZ\n",
    "\n",
    "input_pattern = Input(shape=(3, a_train.shape[2]),name=\"input_pattern\")\n",
    "input_id = Input(shape=(1,),name=\"input_id\")\n",
    "\n",
    "lstm_out = LSTM(250,input_shape=(3, a_train.shape[2]))(input_pattern)\n",
    "lstm_out = Dropout(0.2)(lstm_out)\n",
    "\n",
    "x = keras.layers.concatenate([lstm_out, input_id])\n",
    "x=Dense(250,activation='relu',name=\"C\")(x)\n",
    "x=Dropout(0.2)(x)\n",
    "x=Dense(a_train.shape[2],activation='softmax',name='x')(x)\n",
    "\n",
    "\n",
    "model = Model(inputs=[input_pattern,input_id], outputs=x)\n",
    "model.compile(loss='categorical_crossentropy', optimizer='adam',metrics=['accuracy'])\n",
    "\n",
    "print(model.summary()) # Summarize Model\n",
    "plot_model(model, to_file='t_lstm.png',show_shapes=True)"
   ]
  },
  {
   "cell_type": "code",
   "execution_count": null,
   "metadata": {},
   "outputs": [],
   "source": [
    "k=np.zeros(a_train.shape[0],dtype=np.int16)\n",
    "k=k.reshape(-1,1)\n",
    "\n",
    "k1=np.zeros(train_X.shape[0],dtype=np.int16)\n",
    "k1=k1.reshape(-1,1)"
   ]
  },
  {
   "cell_type": "code",
   "execution_count": null,
   "metadata": {
    "scrolled": true
   },
   "outputs": [],
   "source": [
    "history = model.fit({'input_pattern': a_train, 'input_id' : k}, {'x': b_train}, epochs=100, batch_size=64, verbose=2)"
   ]
  },
  {
   "cell_type": "code",
   "execution_count": null,
   "metadata": {},
   "outputs": [],
   "source": [
    "fig = plt.figure()\n",
    "Accuracy=[42.00,47.15 ,48.36, 49.35,47.42, 50.82, 52.31,56.93 ,57.15 ]\n",
    "x2=(20,30,40,50,60,70,80,90,100)\n",
    "plt.plot(x2,Accuracy)\n",
    "x1=range(0,100)\n",
    "plt.plot(x1,history.history['acc'])\n",
    "plt.title('model accuracy')\n",
    "plt.ylabel('accuracy')\n",
    "plt.xlabel('epoch')\n",
    "plt.legend(['100% total_data Yu','100% total_data Mine'], loc='upper left')\n",
    "\n"
   ]
  },
  {
   "cell_type": "code",
   "execution_count": null,
   "metadata": {},
   "outputs": [],
   "source": [
    "fig = plt.figure()\n",
    "plt.plot(history.history['acc'])\n",
    "plt.plot(history.history['val_acc'])\n",
    "plt.title('model accuracy')\n",
    "plt.ylabel('accuracy')\n",
    "plt.xlabel('epoch')\n",
    "plt.legend(['90% train_data', '100% total_data'], loc='upper left')"
   ]
  },
  {
   "cell_type": "code",
   "execution_count": null,
   "metadata": {},
   "outputs": [],
   "source": []
  },
  {
   "cell_type": "markdown",
   "metadata": {
    "collapsed": true
   },
   "source": [
    "model.fit(a_train, b_train, epochs=100, batch_size=16, verbose=2, validation_data=(a_test, b_test))"
   ]
  },
  {
   "cell_type": "code",
   "execution_count": null,
   "metadata": {},
   "outputs": [],
   "source": [
    "model.evaluate(train_X, train_Y, batch_size=64, verbose=2, sample_weight=None)"
   ]
  },
  {
   "cell_type": "code",
   "execution_count": null,
   "metadata": {},
   "outputs": [],
   "source": [
    "trainPredict = model.predict(train_X)\n",
    "D=np.argmax(train_Y,axis = 1)\n",
    "E=np.argmax(trainPredict,axis = 1)"
   ]
  },
  {
   "cell_type": "code",
   "execution_count": null,
   "metadata": {},
   "outputs": [],
   "source": [
    "print(D)\n",
    "print(E)"
   ]
  },
  {
   "cell_type": "code",
   "execution_count": null,
   "metadata": {},
   "outputs": [],
   "source": [
    "A=0 #total number of right\n",
    "for i,t in enumerate(E):\n",
    "    if D[i]==t :\n",
    "        A=A+1\n",
    "print(A/D.shape[0])"
   ]
  },
  {
   "cell_type": "code",
   "execution_count": null,
   "metadata": {},
   "outputs": [],
   "source": []
  }
 ],
 "metadata": {
  "kernelspec": {
   "display_name": "Python 3",
   "language": "python",
   "name": "python3"
  },
  "language_info": {
   "codemirror_mode": {
    "name": "ipython",
    "version": 3
   },
   "file_extension": ".py",
   "mimetype": "text/x-python",
   "name": "python",
   "nbconvert_exporter": "python",
   "pygments_lexer": "ipython3",
   "version": "3.5.2"
  }
 },
 "nbformat": 4,
 "nbformat_minor": 2
}
