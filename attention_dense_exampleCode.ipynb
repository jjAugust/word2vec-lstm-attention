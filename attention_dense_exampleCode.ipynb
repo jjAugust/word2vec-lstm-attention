{
 "cells": [
  {
   "cell_type": "code",
   "execution_count": 1,
   "metadata": {},
   "outputs": [
    {
     "name": "stderr",
     "output_type": "stream",
     "text": [
      "/usr/local/lib/python3.5/dist-packages/h5py/__init__.py:36: FutureWarning: Conversion of the second argument of issubdtype from `float` to `np.floating` is deprecated. In future, it will be treated as `np.float64 == np.dtype(float).type`.\n",
      "  from ._conv import register_converters as _register_converters\n",
      "Using TensorFlow backend.\n"
     ]
    }
   ],
   "source": [
    "import numpy as np\n",
    "\n",
    "from attention_utils import get_activations, get_data\n",
    "\n",
    "np.random.seed(1337)  # for reproducibility\n",
    "from keras.models import *\n",
    "from keras.layers import Input, Dense, merge"
   ]
  },
  {
   "cell_type": "code",
   "execution_count": 2,
   "metadata": {},
   "outputs": [
    {
     "name": "stderr",
     "output_type": "stream",
     "text": [
      "/usr/local/lib/python3.5/dist-packages/ipykernel_launcher.py:4: UserWarning: The `merge` function is deprecated and will be removed after 08/2017. Use instead layers from `keras.layers.merge`, e.g. `add`, `concatenate`, etc.\n",
      "  after removing the cwd from sys.path.\n",
      "/usr/local/lib/python3.5/dist-packages/keras/legacy/layers.py:465: UserWarning: The `Merge` layer is deprecated and will be removed after 08/2017. Use instead layers from `keras.layers.merge`, e.g. `add`, `concatenate`, etc.\n",
      "  name=name)\n"
     ]
    }
   ],
   "source": [
    "input_dims=32\n",
    "inputs = Input(shape=(input_dims,))\n",
    "attention_probs = Dense(input_dims, activation='softmax', name='attention_probs')(inputs)\n",
    "attention_mul = merge([inputs, attention_probs], output_shape=input_dims, name='attention_mul', mode='mul')"
   ]
  },
  {
   "cell_type": "code",
   "execution_count": 3,
   "metadata": {},
   "outputs": [],
   "source": [
    "import numpy as np\n",
    "\n",
    "from attention_utils import get_activations, get_data\n",
    "\n",
    "np.random.seed(1337)  # for reproducibility\n",
    "from keras.models import *\n",
    "from keras.layers import Input, Dense, merge\n",
    "\n",
    "input_dim = 32"
   ]
  },
  {
   "cell_type": "code",
   "execution_count": 4,
   "metadata": {},
   "outputs": [],
   "source": [
    "def build_model():\n",
    "    inputs = Input(shape=(input_dim,))\n",
    "\n",
    "    # ATTENTION PART STARTS HERE\n",
    "    attention_probs = Dense(input_dim, activation='softmax', name='attention_vec')(inputs)\n",
    "    attention_mul = merge([inputs, attention_probs], output_shape=32, name='attention_mul', mode='mul')\n",
    "    # ATTENTION PART FINISHES HERE\n",
    "\n",
    "    attention_mul = Dense(64)(attention_mul)\n",
    "    output = Dense(1, activation='sigmoid')(attention_mul)\n",
    "    model = Model(input=[inputs], output=output)\n",
    "    return model"
   ]
  },
  {
   "cell_type": "code",
   "execution_count": 5,
   "metadata": {},
   "outputs": [
    {
     "name": "stderr",
     "output_type": "stream",
     "text": [
      "/usr/local/lib/python3.5/dist-packages/ipykernel_launcher.py:6: UserWarning: The `merge` function is deprecated and will be removed after 08/2017. Use instead layers from `keras.layers.merge`, e.g. `add`, `concatenate`, etc.\n",
      "  \n",
      "/usr/local/lib/python3.5/dist-packages/keras/legacy/layers.py:465: UserWarning: The `Merge` layer is deprecated and will be removed after 08/2017. Use instead layers from `keras.layers.merge`, e.g. `add`, `concatenate`, etc.\n",
      "  name=name)\n",
      "/usr/local/lib/python3.5/dist-packages/ipykernel_launcher.py:11: UserWarning: Update your `Model` call to the Keras 2 API: `Model(inputs=[<tf.Tenso..., outputs=Tensor(\"de...)`\n",
      "  # This is added back by InteractiveShellApp.init_path()\n"
     ]
    }
   ],
   "source": [
    "if __name__ == '__main__':\n",
    "    N = 10000\n",
    "    inputs_1, outputs = get_data(N, input_dim)\n",
    "\n",
    "    m = build_model()\n",
    "    "
   ]
  },
  {
   "cell_type": "code",
   "execution_count": 11,
   "metadata": {},
   "outputs": [
    {
     "name": "stdout",
     "output_type": "stream",
     "text": [
      "__________________________________________________________________________________________________\n",
      "Layer (type)                    Output Shape         Param #     Connected to                     \n",
      "==================================================================================================\n",
      "input_2 (InputLayer)            (None, 32)           0                                            \n",
      "__________________________________________________________________________________________________\n",
      "attention_vec (Dense)           (None, 32)           1056        input_2[0][0]                    \n",
      "__________________________________________________________________________________________________\n",
      "attention_mul (Merge)           (None, 32)           0           input_2[0][0]                    \n",
      "                                                                 attention_vec[0][0]              \n",
      "__________________________________________________________________________________________________\n",
      "dense_1 (Dense)                 (None, 64)           2112        attention_mul[0][0]              \n",
      "__________________________________________________________________________________________________\n",
      "dense_2 (Dense)                 (None, 1)            65          dense_1[0][0]                    \n",
      "==================================================================================================\n",
      "Total params: 3,233\n",
      "Trainable params: 3,233\n",
      "Non-trainable params: 0\n",
      "__________________________________________________________________________________________________\n",
      "None\n"
     ]
    }
   ],
   "source": [
    "    m.compile(optimizer='adam', loss='binary_crossentropy', metrics=['accuracy'])\n",
    "    print(m.summary())"
   ]
  },
  {
   "cell_type": "code",
   "execution_count": 13,
   "metadata": {},
   "outputs": [
    {
     "data": {
      "text/plain": [
       "(10000, 32)"
      ]
     },
     "execution_count": 13,
     "metadata": {},
     "output_type": "execute_result"
    }
   ],
   "source": [
    "inputs_1.shape"
   ]
  },
  {
   "cell_type": "code",
   "execution_count": 16,
   "metadata": {},
   "outputs": [
    {
     "data": {
      "text/plain": [
       "[array([[-0.70318731,  0.        , -0.32181433, ...,  0.00771784,\n",
       "          1.47827716, -0.95761463],\n",
       "        [ 1.32900811,  1.        ,  0.4715572 , ...,  0.30438786,\n",
       "         -1.0000296 , -2.45641783],\n",
       "        [ 0.25230702,  0.        , -1.58345465, ..., -1.10066159,\n",
       "          0.73382966, -0.03157402],\n",
       "        ...,\n",
       "        [ 0.82750475,  0.        , -0.35349278, ..., -1.23306337,\n",
       "         -1.29373762, -1.04762519],\n",
       "        [ 0.87912132,  1.        ,  0.12923405, ..., -1.02224289,\n",
       "          0.43915077, -1.28045574],\n",
       "        [-1.26141756,  0.        , -1.14880172, ...,  0.35026112,\n",
       "         -0.76943139, -0.53736118]])]"
      ]
     },
     "execution_count": 16,
     "metadata": {},
     "output_type": "execute_result"
    }
   ],
   "source": [
    "[inputs_1]"
   ]
  },
  {
   "cell_type": "code",
   "execution_count": 33,
   "metadata": {},
   "outputs": [
    {
     "data": {
      "text/plain": [
       "(10000, 32)"
      ]
     },
     "execution_count": 33,
     "metadata": {},
     "output_type": "execute_result"
    }
   ],
   "source": [
    "inputs_1.shape"
   ]
  },
  {
   "cell_type": "code",
   "execution_count": null,
   "metadata": {},
   "outputs": [],
   "source": []
  },
  {
   "cell_type": "code",
   "execution_count": 7,
   "metadata": {},
   "outputs": [
    {
     "name": "stdout",
     "output_type": "stream",
     "text": [
      "Train on 5000 samples, validate on 5000 samples\n",
      "Epoch 1/20\n",
      "5000/5000 [==============================] - 0s 58us/step - loss: 0.6821 - acc: 0.6236 - val_loss: 0.6697 - val_acc: 0.6956\n",
      "Epoch 2/20\n",
      "5000/5000 [==============================] - 0s 31us/step - loss: 0.6381 - acc: 0.7474 - val_loss: 0.6010 - val_acc: 0.7830\n",
      "Epoch 3/20\n",
      "5000/5000 [==============================] - 0s 33us/step - loss: 0.5423 - acc: 0.7986 - val_loss: 0.4936 - val_acc: 0.8154\n",
      "Epoch 4/20\n",
      "5000/5000 [==============================] - 0s 32us/step - loss: 0.4289 - acc: 0.8406 - val_loss: 0.3853 - val_acc: 0.8652\n",
      "Epoch 5/20\n",
      "5000/5000 [==============================] - 0s 32us/step - loss: 0.3150 - acc: 0.8896 - val_loss: 0.2715 - val_acc: 0.9024\n",
      "Epoch 6/20\n",
      "5000/5000 [==============================] - 0s 27us/step - loss: 0.1993 - acc: 0.9470 - val_loss: 0.1573 - val_acc: 0.9596\n",
      "Epoch 7/20\n",
      "5000/5000 [==============================] - 0s 31us/step - loss: 0.0992 - acc: 0.9844 - val_loss: 0.0700 - val_acc: 0.9900\n",
      "Epoch 8/20\n",
      "5000/5000 [==============================] - 0s 37us/step - loss: 0.0395 - acc: 0.9980 - val_loss: 0.0282 - val_acc: 0.9982\n",
      "Epoch 9/20\n",
      "5000/5000 [==============================] - 0s 34us/step - loss: 0.0156 - acc: 0.9998 - val_loss: 0.0129 - val_acc: 0.9994\n",
      "Epoch 10/20\n",
      "5000/5000 [==============================] - 0s 30us/step - loss: 0.0075 - acc: 1.0000 - val_loss: 0.0072 - val_acc: 1.0000\n",
      "Epoch 11/20\n",
      "5000/5000 [==============================] - 0s 29us/step - loss: 0.0043 - acc: 1.0000 - val_loss: 0.0046 - val_acc: 1.0000\n",
      "Epoch 12/20\n",
      "5000/5000 [==============================] - 0s 35us/step - loss: 0.0029 - acc: 1.0000 - val_loss: 0.0032 - val_acc: 1.0000\n",
      "Epoch 13/20\n",
      "5000/5000 [==============================] - 0s 27us/step - loss: 0.0021 - acc: 1.0000 - val_loss: 0.0024 - val_acc: 1.0000\n",
      "Epoch 14/20\n",
      "5000/5000 [==============================] - 0s 33us/step - loss: 0.0016 - acc: 1.0000 - val_loss: 0.0018 - val_acc: 1.0000\n",
      "Epoch 15/20\n",
      "5000/5000 [==============================] - 0s 30us/step - loss: 0.0012 - acc: 1.0000 - val_loss: 0.0015 - val_acc: 1.0000\n",
      "Epoch 16/20\n",
      "5000/5000 [==============================] - 0s 33us/step - loss: 9.9836e-04 - acc: 1.0000 - val_loss: 0.0012 - val_acc: 1.0000\n",
      "Epoch 17/20\n",
      "5000/5000 [==============================] - 0s 34us/step - loss: 8.3126e-04 - acc: 1.0000 - val_loss: 0.0010 - val_acc: 1.0000\n",
      "Epoch 18/20\n",
      "5000/5000 [==============================] - 0s 30us/step - loss: 7.0451e-04 - acc: 1.0000 - val_loss: 8.6561e-04 - val_acc: 1.0000\n",
      "Epoch 19/20\n",
      "5000/5000 [==============================] - 0s 33us/step - loss: 6.0505e-04 - acc: 1.0000 - val_loss: 7.4647e-04 - val_acc: 1.0000\n",
      "Epoch 20/20\n",
      "5000/5000 [==============================] - 0s 32us/step - loss: 5.2493e-04 - acc: 1.0000 - val_loss: 6.4955e-04 - val_acc: 1.0000\n"
     ]
    },
    {
     "data": {
      "text/plain": [
       "<keras.callbacks.History at 0x7f176b2744a8>"
      ]
     },
     "execution_count": 7,
     "metadata": {},
     "output_type": "execute_result"
    }
   ],
   "source": [
    "    m.fit([inputs_1], outputs, epochs=20, batch_size=64, validation_split=0.5)"
   ]
  },
  {
   "cell_type": "code",
   "execution_count": 17,
   "metadata": {},
   "outputs": [],
   "source": [
    "    testing_inputs_1, testing_outputs = get_data(1, input_dim)"
   ]
  },
  {
   "cell_type": "code",
   "execution_count": 29,
   "metadata": {},
   "outputs": [
    {
     "data": {
      "text/plain": [
       "(1, 32)"
      ]
     },
     "execution_count": 29,
     "metadata": {},
     "output_type": "execute_result"
    }
   ],
   "source": [
    "testing_inputs_1.shape"
   ]
  },
  {
   "cell_type": "code",
   "execution_count": 21,
   "metadata": {},
   "outputs": [
    {
     "data": {
      "text/plain": [
       "array([[0]])"
      ]
     },
     "execution_count": 21,
     "metadata": {},
     "output_type": "execute_result"
    }
   ],
   "source": [
    "testing_outputs"
   ]
  },
  {
   "cell_type": "code",
   "execution_count": 22,
   "metadata": {},
   "outputs": [],
   "source": [
    "    a, b = get_data(1000, input_dim)"
   ]
  },
  {
   "cell_type": "code",
   "execution_count": 25,
   "metadata": {},
   "outputs": [
    {
     "data": {
      "text/plain": [
       "(32,)"
      ]
     },
     "execution_count": 25,
     "metadata": {},
     "output_type": "execute_result"
    }
   ],
   "source": [
    "a[0].shape"
   ]
  },
  {
   "cell_type": "code",
   "execution_count": 27,
   "metadata": {},
   "outputs": [
    {
     "data": {
      "text/plain": [
       "(1000, 1)"
      ]
     },
     "execution_count": 27,
     "metadata": {},
     "output_type": "execute_result"
    }
   ],
   "source": [
    "b.shape"
   ]
  },
  {
   "cell_type": "code",
   "execution_count": 28,
   "metadata": {},
   "outputs": [
    {
     "data": {
      "text/plain": [
       "(1, 32)"
      ]
     },
     "execution_count": 28,
     "metadata": {},
     "output_type": "execute_result"
    }
   ],
   "source": [
    "testing_inputs_1.shape"
   ]
  },
  {
   "cell_type": "code",
   "execution_count": 8,
   "metadata": {},
   "outputs": [
    {
     "name": "stdout",
     "output_type": "stream",
     "text": [
      "----- activations -----\n",
      "(1, 32)\n"
     ]
    }
   ],
   "source": [
    "    # Attention vector corresponds to the second matrix.\n",
    "    # The first one is the Inputs output.\n",
    "    attention_vector = get_activations(m, testing_inputs_1,\n",
    "                                       print_shape_only=True,\n",
    "                                       layer_name='attention_vec')[0].flatten()"
   ]
  },
  {
   "cell_type": "code",
   "execution_count": 30,
   "metadata": {},
   "outputs": [
    {
     "name": "stdout",
     "output_type": "stream",
     "text": [
      "attention = [0.01149514 0.5267873  0.00756128 0.01149909 0.0242379  0.01212288\n",
      " 0.04356962 0.0070608  0.02107378 0.01616836 0.00856798 0.01050257\n",
      " 0.00966695 0.01578217 0.02054093 0.01533068 0.00677156 0.01053648\n",
      " 0.01014201 0.00951308 0.01209557 0.04221773 0.01706385 0.00788329\n",
      " 0.01000346 0.01663797 0.01594869 0.01538588 0.00839889 0.0202841\n",
      " 0.02436536 0.01078465]\n"
     ]
    }
   ],
   "source": [
    "    print('attention =', attention_vector)"
   ]
  },
  {
   "cell_type": "code",
   "execution_count": 31,
   "metadata": {},
   "outputs": [
    {
     "data": {
      "text/plain": [
       "(32,)"
      ]
     },
     "execution_count": 31,
     "metadata": {},
     "output_type": "execute_result"
    }
   ],
   "source": [
    "attention_vector.shape"
   ]
  },
  {
   "cell_type": "code",
   "execution_count": 32,
   "metadata": {},
   "outputs": [
    {
     "data": {
      "image/png": "[encoded data removed]",
      "text/plain": [
       "<Figure size 432x288 with 1 Axes>"
      ]
     },
     "metadata": {},
     "output_type": "display_data"
    }
   ],
   "source": [
    "    # plot part.\n",
    "    import matplotlib.pyplot as plt\n",
    "    import pandas as pd\n",
    "\n",
    "    pd.DataFrame(attention_vector, columns=['attention (%)']).plot(kind='bar',\n",
    "                                                                   title='Attention Mechanism as '\n",
    "                                                                         'a function of input'\n",
    "                                                                         ' dimensions.')\n",
    "    plt.show()"
   ]
  },
  {
   "cell_type": "code",
   "execution_count": null,
   "metadata": {},
   "outputs": [],
   "source": []
  }
 ],
 "metadata": {
  "kernelspec": {
   "display_name": "Python 3",
   "language": "python",
   "name": "python3"
  },
  "language_info": {
   "codemirror_mode": {
    "name": "ipython",
    "version": 3
   },
   "file_extension": ".py",
   "mimetype": "text/x-python",
   "name": "python",
   "nbconvert_exporter": "python",
   "pygments_lexer": "ipython3",
   "version": "3.5.2"
  }
 },
 "nbformat": 4,
 "nbformat_minor": 2
}
