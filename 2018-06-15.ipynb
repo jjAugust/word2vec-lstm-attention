{
 "cells": [
  {
   "cell_type": "code",
   "execution_count": 1,
   "metadata": {},
   "outputs": [
    {
     "name": "stderr",
     "output_type": "stream",
     "text": [
      "/usr/local/lib/python3.5/dist-packages/h5py/__init__.py:36: FutureWarning: Conversion of the second argument of issubdtype from `float` to `np.floating` is deprecated. In future, it will be treated as `np.float64 == np.dtype(float).type`.\n",
      "  from ._conv import register_converters as _register_converters\n",
      "Using TensorFlow backend.\n",
      "/usr/local/lib/python3.5/dist-packages/sklearn/cross_validation.py:41: DeprecationWarning: This module was deprecated in version 0.18 in favor of the model_selection module into which all the refactored classes and functions are moved. Also note that the interface of the new CV iterators are different from that of this module. This module will be removed in 0.20.\n",
      "  \"This module will be removed in 0.20.\", DeprecationWarning)\n"
     ]
    }
   ],
   "source": [
    "# LSTM for international airline passengers problem with window regression framing\n",
    "import numpy\n",
    "import numpy as np\n",
    "import keras\n",
    "import matplotlib.pyplot as plt\n",
    "from pandas import read_csv\n",
    "import math\n",
    "from keras.models import Sequential\n",
    "from keras.layers import Dense,Dropout\n",
    "from keras.layers import LSTM\n",
    "from sklearn.preprocessing import MinMaxScaler\n",
    "from sklearn.metrics import mean_squared_error\n",
    "from sklearn.preprocessing import OneHotEncoder\n",
    "from sklearn.cross_validation import train_test_split\n",
    "from keras.utils.vis_utils import plot_model"
   ]
  },
  {
   "cell_type": "code",
   "execution_count": 2,
   "metadata": {},
   "outputs": [],
   "source": [
    "# convert an array of values into a dataset matrix\n",
    "def create_dataset(dataset, look_back=1):\n",
    "\tdataX, dataY = [], []\n",
    "\tfor i in range(len(dataset)-look_back-1):\n",
    "\t\ta = dataset[i:(i+look_back), 0]\n",
    "\t\tdataX.append(a)\n",
    "\t\tdataY.append(dataset[i + look_back, 0])\n",
    "\treturn numpy.array(dataX), numpy.array(dataY)"
   ]
  },
  {
   "cell_type": "code",
   "execution_count": 3,
   "metadata": {},
   "outputs": [],
   "source": [
    "# fix random seed for reproducibility\n",
    "numpy.random.seed(7)\n",
    "# load the dataset\n",
    "# dataframe = read_csv('w_d_v.csv', usecols=[7], engine='python', skipfooter=3)\n",
    "dataframe = read_csv('00.txt', usecols=[0], engine='python',skiprows=-1)\n",
    "all_data = read_csv('all_data.csv', usecols=[7], engine='python', skipfooter=3)\n",
    "dataset = dataframe.values\n",
    "allData=all_data.values"
   ]
  },
  {
   "cell_type": "code",
   "execution_count": 4,
   "metadata": {},
   "outputs": [],
   "source": [
    "look_back = 3\n",
    "trainX, trainY = create_dataset(dataset, look_back)\n",
    "AllX, AllY = create_dataset(allData, look_back)\n",
    "trainY=numpy.reshape(trainY,(trainY.shape[0],-1))\n",
    "AllY=numpy.reshape(AllY,(AllY.shape[0],-1))"
   ]
  },
  {
   "cell_type": "code",
   "execution_count": 5,
   "metadata": {},
   "outputs": [
    {
     "data": {
      "text/plain": [
       "OneHotEncoder(categorical_features='all', dtype=<class 'numpy.float64'>,\n",
       "       handle_unknown='error', n_values='auto', sparse=True)"
      ]
     },
     "execution_count": 5,
     "metadata": {},
     "output_type": "execute_result"
    }
   ],
   "source": [
    "encX = OneHotEncoder()\n",
    "encX.fit(AllX)\n",
    "encY = OneHotEncoder()\n",
    "encY.fit(AllY)"
   ]
  },
  {
   "cell_type": "code",
   "execution_count": 6,
   "metadata": {},
   "outputs": [],
   "source": [
    "trainX_one=encX.transform(trainX).toarray()\n",
    "train_X=numpy.reshape(trainX_one,(trainX_one.shape[0],look_back,-1))\n",
    "train_Y=encY.transform(trainY).toarray()"
   ]
  },
  {
   "cell_type": "code",
   "execution_count": 7,
   "metadata": {},
   "outputs": [],
   "source": [
    "a_train, a_test, b_train, b_test = train_test_split(train_X, train_Y, test_size=0.1, random_state=42)"
   ]
  },
  {
   "cell_type": "code",
   "execution_count": 9,
   "metadata": {},
   "outputs": [],
   "source": [
    "model = Sequential()\n",
    "# model.add(Embedding(max_features, output_dim=256))\n",
    "model.add(LSTM(512,return_sequences=True,\n",
    "               input_shape=(3, a_train.shape[2]),name=\"lstm\"))  # returns a sequence of vectors of dimension 32\n",
    "model.add(LSTM(300))  # return a single vector of dimension 32\n",
    "model.add(Dropout(0.2))\n",
    "model.add(Dense(250,activation='relu'))\n",
    "model.add(Dropout(0.2))\n",
    "model.add(Dense(a_train.shape[2],activation='softmax'))\n",
    "model.compile(loss='categorical_crossentropy', optimizer='adam',metrics=['accuracy'])"
   ]
  },
  {
   "cell_type": "code",
   "execution_count": 10,
   "metadata": {},
   "outputs": [],
   "source": [
    "plot_model(model, to_file='lstm.png')"
   ]
  },
  {
   "cell_type": "code",
   "execution_count": 11,
   "metadata": {
    "scrolled": true
   },
   "outputs": [
    {
     "name": "stdout",
     "output_type": "stream",
     "text": [
      "Train on 226 samples, validate on 26 samples\n",
      "Epoch 1/100\n",
      " - 3s - loss: 4.2319 - acc: 0.2212 - val_loss: 2.8721 - val_acc: 0.3846\n",
      "Epoch 2/100\n",
      " - 2s - loss: 2.7530 - acc: 0.2743 - val_loss: 2.6926 - val_acc: 0.3846\n",
      "Epoch 3/100\n",
      " - 2s - loss: 2.5303 - acc: 0.3097 - val_loss: 2.6912 - val_acc: 0.3846\n",
      "Epoch 4/100\n",
      " - 2s - loss: 2.4803 - acc: 0.3186 - val_loss: 2.7821 - val_acc: 0.3846\n",
      "Epoch 5/100\n",
      " - 2s - loss: 2.4673 - acc: 0.3407 - val_loss: 2.8004 - val_acc: 0.3846\n",
      "Epoch 6/100\n",
      " - 2s - loss: 2.4003 - acc: 0.3053 - val_loss: 2.8364 - val_acc: 0.3846\n",
      "Epoch 7/100\n",
      " - 2s - loss: 2.4104 - acc: 0.3230 - val_loss: 2.8217 - val_acc: 0.3846\n",
      "Epoch 8/100\n",
      " - 2s - loss: 2.3647 - acc: 0.3451 - val_loss: 2.8897 - val_acc: 0.4231\n",
      "Epoch 9/100\n",
      " - 2s - loss: 2.3150 - acc: 0.3274 - val_loss: 3.1323 - val_acc: 0.3462\n",
      "Epoch 10/100\n",
      " - 2s - loss: 2.3767 - acc: 0.3053 - val_loss: 2.8632 - val_acc: 0.4615\n",
      "Epoch 11/100\n",
      " - 2s - loss: 2.2500 - acc: 0.3274 - val_loss: 3.0226 - val_acc: 0.3462\n",
      "Epoch 12/100\n",
      " - 2s - loss: 2.1522 - acc: 0.3451 - val_loss: 2.8947 - val_acc: 0.4231\n",
      "Epoch 13/100\n",
      " - 2s - loss: 2.0546 - acc: 0.3805 - val_loss: 3.1185 - val_acc: 0.3462\n",
      "Epoch 14/100\n",
      " - 2s - loss: 2.0102 - acc: 0.3761 - val_loss: 2.9010 - val_acc: 0.4231\n",
      "Epoch 15/100\n",
      " - 2s - loss: 1.8548 - acc: 0.4115 - val_loss: 3.1310 - val_acc: 0.4231\n",
      "Epoch 16/100\n",
      " - 2s - loss: 1.8017 - acc: 0.4071 - val_loss: 3.1028 - val_acc: 0.4615\n",
      "Epoch 17/100\n",
      " - 2s - loss: 1.7593 - acc: 0.4336 - val_loss: 3.3778 - val_acc: 0.4231\n",
      "Epoch 18/100\n",
      " - 2s - loss: 1.6564 - acc: 0.4513 - val_loss: 3.3315 - val_acc: 0.4615\n",
      "Epoch 19/100\n",
      " - 2s - loss: 1.5523 - acc: 0.4823 - val_loss: 3.3537 - val_acc: 0.4231\n",
      "Epoch 20/100\n",
      " - 2s - loss: 1.4793 - acc: 0.5088 - val_loss: 3.5083 - val_acc: 0.4231\n",
      "Epoch 21/100\n",
      " - 2s - loss: 1.4083 - acc: 0.5310 - val_loss: 3.6715 - val_acc: 0.3846\n",
      "Epoch 22/100\n",
      " - 2s - loss: 1.4365 - acc: 0.4956 - val_loss: 3.8553 - val_acc: 0.3077\n",
      "Epoch 23/100\n",
      " - 2s - loss: 1.4470 - acc: 0.4912 - val_loss: 3.3966 - val_acc: 0.4231\n",
      "Epoch 24/100\n",
      " - 2s - loss: 1.3841 - acc: 0.5265 - val_loss: 3.6211 - val_acc: 0.3077\n",
      "Epoch 25/100\n",
      " - 2s - loss: 1.2844 - acc: 0.5398 - val_loss: 3.8854 - val_acc: 0.3846\n",
      "Epoch 26/100\n",
      " - 2s - loss: 1.2970 - acc: 0.5619 - val_loss: 3.5111 - val_acc: 0.3846\n",
      "Epoch 27/100\n",
      " - 2s - loss: 1.2342 - acc: 0.5575 - val_loss: 3.7878 - val_acc: 0.3462\n",
      "Epoch 28/100\n",
      " - 2s - loss: 1.1992 - acc: 0.5885 - val_loss: 3.9081 - val_acc: 0.3077\n",
      "Epoch 29/100\n",
      " - 2s - loss: 1.2584 - acc: 0.5619 - val_loss: 3.8242 - val_acc: 0.3462\n",
      "Epoch 30/100\n",
      " - 2s - loss: 1.1720 - acc: 0.5796 - val_loss: 4.0037 - val_acc: 0.3462\n",
      "Epoch 31/100\n",
      " - 2s - loss: 1.1648 - acc: 0.5841 - val_loss: 3.9593 - val_acc: 0.4231\n",
      "Epoch 32/100\n",
      " - 2s - loss: 1.0979 - acc: 0.6416 - val_loss: 4.2194 - val_acc: 0.3462\n",
      "Epoch 33/100\n",
      " - 2s - loss: 1.1157 - acc: 0.6372 - val_loss: 4.2416 - val_acc: 0.3077\n",
      "Epoch 34/100\n",
      " - 2s - loss: 1.0281 - acc: 0.6416 - val_loss: 4.1924 - val_acc: 0.2692\n",
      "Epoch 35/100\n",
      " - 2s - loss: 1.0146 - acc: 0.6150 - val_loss: 4.0010 - val_acc: 0.3462\n",
      "Epoch 36/100\n",
      " - 2s - loss: 0.9558 - acc: 0.6637 - val_loss: 3.9506 - val_acc: 0.1923\n",
      "Epoch 37/100\n",
      " - 2s - loss: 0.9563 - acc: 0.6416 - val_loss: 4.4911 - val_acc: 0.3077\n",
      "Epoch 38/100\n",
      " - 2s - loss: 0.9646 - acc: 0.6283 - val_loss: 4.1926 - val_acc: 0.3077\n",
      "Epoch 39/100\n",
      " - 2s - loss: 0.9932 - acc: 0.6150 - val_loss: 4.2738 - val_acc: 0.3077\n",
      "Epoch 40/100\n",
      " - 2s - loss: 0.9155 - acc: 0.6460 - val_loss: 4.4336 - val_acc: 0.3462\n",
      "Epoch 41/100\n",
      " - 2s - loss: 0.8816 - acc: 0.6726 - val_loss: 3.9866 - val_acc: 0.1154\n",
      "Epoch 42/100\n",
      " - 2s - loss: 0.8850 - acc: 0.6726 - val_loss: 4.1530 - val_acc: 0.1923\n",
      "Epoch 43/100\n",
      " - 2s - loss: 0.8199 - acc: 0.7080 - val_loss: 4.4382 - val_acc: 0.3077\n",
      "Epoch 44/100\n",
      " - 2s - loss: 0.8587 - acc: 0.6681 - val_loss: 4.0500 - val_acc: 0.3077\n",
      "Epoch 45/100\n",
      " - 2s - loss: 0.8207 - acc: 0.6991 - val_loss: 4.2664 - val_acc: 0.3077\n",
      "Epoch 46/100\n",
      " - 2s - loss: 0.7768 - acc: 0.6947 - val_loss: 4.6765 - val_acc: 0.3077\n",
      "Epoch 47/100\n",
      " - 2s - loss: 0.7415 - acc: 0.7212 - val_loss: 4.6686 - val_acc: 0.1923\n",
      "Epoch 48/100\n",
      " - 2s - loss: 0.7681 - acc: 0.7301 - val_loss: 4.6804 - val_acc: 0.1538\n",
      "Epoch 49/100\n",
      " - 2s - loss: 0.7679 - acc: 0.7124 - val_loss: 4.7084 - val_acc: 0.2692\n",
      "Epoch 50/100\n",
      " - 2s - loss: 0.7282 - acc: 0.7566 - val_loss: 4.9605 - val_acc: 0.2692\n",
      "Epoch 51/100\n",
      " - 2s - loss: 0.7087 - acc: 0.7389 - val_loss: 5.1443 - val_acc: 0.2692\n",
      "Epoch 52/100\n",
      " - 2s - loss: 0.8166 - acc: 0.6903 - val_loss: 4.7650 - val_acc: 0.3462\n",
      "Epoch 53/100\n",
      " - 2s - loss: 0.7820 - acc: 0.7124 - val_loss: 4.5999 - val_acc: 0.2692\n",
      "Epoch 54/100\n",
      " - 2s - loss: 0.7338 - acc: 0.7301 - val_loss: 4.6573 - val_acc: 0.3077\n",
      "Epoch 55/100\n",
      " - 2s - loss: 0.7526 - acc: 0.7212 - val_loss: 5.0330 - val_acc: 0.1923\n",
      "Epoch 56/100\n",
      " - 2s - loss: 0.7712 - acc: 0.7124 - val_loss: 4.5637 - val_acc: 0.2692\n",
      "Epoch 57/100\n",
      " - 2s - loss: 0.6716 - acc: 0.7434 - val_loss: 4.7874 - val_acc: 0.2692\n",
      "Epoch 58/100\n",
      " - 2s - loss: 0.6214 - acc: 0.7699 - val_loss: 5.1741 - val_acc: 0.2308\n",
      "Epoch 59/100\n",
      " - 2s - loss: 0.6490 - acc: 0.7168 - val_loss: 5.2300 - val_acc: 0.2692\n",
      "Epoch 60/100\n",
      " - 2s - loss: 0.6618 - acc: 0.7434 - val_loss: 5.4426 - val_acc: 0.2308\n",
      "Epoch 61/100\n",
      " - 2s - loss: 0.6589 - acc: 0.7566 - val_loss: 5.1073 - val_acc: 0.3077\n",
      "Epoch 62/100\n",
      " - 2s - loss: 0.7005 - acc: 0.7434 - val_loss: 5.0488 - val_acc: 0.2308\n",
      "Epoch 63/100\n",
      " - 2s - loss: 0.6519 - acc: 0.7389 - val_loss: 5.1851 - val_acc: 0.2692\n",
      "Epoch 64/100\n",
      " - 2s - loss: 0.7105 - acc: 0.7124 - val_loss: 4.6556 - val_acc: 0.2308\n",
      "Epoch 65/100\n",
      " - 2s - loss: 0.6783 - acc: 0.7345 - val_loss: 4.9472 - val_acc: 0.2692\n",
      "Epoch 66/100\n",
      " - 2s - loss: 0.7435 - acc: 0.7345 - val_loss: 5.8486 - val_acc: 0.1538\n",
      "Epoch 67/100\n",
      " - 2s - loss: 0.7948 - acc: 0.7257 - val_loss: 4.6518 - val_acc: 0.3077\n",
      "Epoch 68/100\n",
      " - 2s - loss: 0.8219 - acc: 0.7257 - val_loss: 5.4860 - val_acc: 0.1923\n",
      "Epoch 69/100\n",
      " - 2s - loss: 0.7555 - acc: 0.7168 - val_loss: 5.2918 - val_acc: 0.2692\n",
      "Epoch 70/100\n",
      " - 2s - loss: 0.7759 - acc: 0.7389 - val_loss: 5.4157 - val_acc: 0.1923\n",
      "Epoch 71/100\n",
      " - 2s - loss: 0.7438 - acc: 0.7434 - val_loss: 5.4586 - val_acc: 0.1923\n",
      "Epoch 72/100\n",
      " - 2s - loss: 0.7350 - acc: 0.7389 - val_loss: 5.3546 - val_acc: 0.1538\n",
      "Epoch 73/100\n",
      " - 2s - loss: 0.6637 - acc: 0.7611 - val_loss: 5.1449 - val_acc: 0.2308\n",
      "Epoch 74/100\n",
      " - 2s - loss: 0.5885 - acc: 0.7389 - val_loss: 5.2258 - val_acc: 0.2308\n",
      "Epoch 75/100\n",
      " - 2s - loss: 0.5878 - acc: 0.7743 - val_loss: 5.0234 - val_acc: 0.1538\n",
      "Epoch 76/100\n",
      " - 2s - loss: 0.6471 - acc: 0.7389 - val_loss: 5.1108 - val_acc: 0.2692\n",
      "Epoch 77/100\n",
      " - 2s - loss: 0.5636 - acc: 0.7876 - val_loss: 4.9913 - val_acc: 0.2308\n",
      "Epoch 78/100\n",
      " - 2s - loss: 0.5778 - acc: 0.7655 - val_loss: 5.2216 - val_acc: 0.2308\n",
      "Epoch 79/100\n",
      " - 2s - loss: 0.5789 - acc: 0.7699 - val_loss: 5.2092 - val_acc: 0.1923\n",
      "Epoch 80/100\n",
      " - 2s - loss: 0.5945 - acc: 0.7788 - val_loss: 5.0530 - val_acc: 0.2692\n",
      "Epoch 81/100\n",
      " - 2s - loss: 0.5890 - acc: 0.7699 - val_loss: 5.0937 - val_acc: 0.2308\n",
      "Epoch 82/100\n",
      " - 2s - loss: 0.5606 - acc: 0.7611 - val_loss: 5.3424 - val_acc: 0.1538\n",
      "Epoch 83/100\n",
      " - 2s - loss: 0.5775 - acc: 0.7655 - val_loss: 5.4038 - val_acc: 0.2308\n",
      "Epoch 84/100\n",
      " - 2s - loss: 0.6177 - acc: 0.7522 - val_loss: 5.2581 - val_acc: 0.1923\n",
      "Epoch 85/100\n",
      " - 2s - loss: 0.6105 - acc: 0.7743 - val_loss: 4.9218 - val_acc: 0.2308\n",
      "Epoch 86/100\n",
      " - 2s - loss: 0.5705 - acc: 0.7743 - val_loss: 5.0321 - val_acc: 0.2692\n",
      "Epoch 87/100\n",
      " - 2s - loss: 0.5842 - acc: 0.7522 - val_loss: 5.0277 - val_acc: 0.2692\n",
      "Epoch 88/100\n",
      " - 2s - loss: 0.5619 - acc: 0.7788 - val_loss: 5.3126 - val_acc: 0.2308\n",
      "Epoch 89/100\n",
      " - 2s - loss: 0.5821 - acc: 0.7655 - val_loss: 5.1252 - val_acc: 0.2692\n",
      "Epoch 90/100\n",
      " - 2s - loss: 0.5707 - acc: 0.7699 - val_loss: 5.2199 - val_acc: 0.2308\n",
      "Epoch 91/100\n",
      " - 2s - loss: 0.5464 - acc: 0.7699 - val_loss: 5.3451 - val_acc: 0.2308\n",
      "Epoch 92/100\n",
      " - 2s - loss: 0.5488 - acc: 0.7434 - val_loss: 5.2504 - val_acc: 0.2692\n",
      "Epoch 93/100\n",
      " - 2s - loss: 0.6002 - acc: 0.7655 - val_loss: 5.1649 - val_acc: 0.2308\n",
      "Epoch 94/100\n",
      " - 2s - loss: 0.6042 - acc: 0.7699 - val_loss: 5.0014 - val_acc: 0.2308\n",
      "Epoch 95/100\n",
      " - 2s - loss: 0.5490 - acc: 0.7611 - val_loss: 5.2294 - val_acc: 0.2308\n",
      "Epoch 96/100\n",
      " - 2s - loss: 0.5674 - acc: 0.7522 - val_loss: 5.2966 - val_acc: 0.2308\n"
     ]
    },
    {
     "name": "stdout",
     "output_type": "stream",
     "text": [
      "Epoch 97/100\n",
      " - 2s - loss: 0.5647 - acc: 0.7611 - val_loss: 5.3307 - val_acc: 0.1538\n",
      "Epoch 98/100\n",
      " - 2s - loss: 0.5510 - acc: 0.7611 - val_loss: 5.4140 - val_acc: 0.2308\n",
      "Epoch 99/100\n",
      " - 2s - loss: 0.5543 - acc: 0.7788 - val_loss: 5.3167 - val_acc: 0.2308\n",
      "Epoch 100/100\n",
      " - 2s - loss: 0.5593 - acc: 0.7832 - val_loss: 5.0856 - val_acc: 0.2308\n"
     ]
    },
    {
     "data": {
      "text/plain": [
       "<keras.callbacks.History at 0x7fb3f49b94a8>"
      ]
     },
     "execution_count": 11,
     "metadata": {},
     "output_type": "execute_result"
    }
   ],
   "source": [
    "#batchsize批尺寸\n",
    "model.fit(a_train, b_train, epochs=100, batch_size=8, verbose=2, validation_data=(a_test, b_test))"
   ]
  },
  {
   "cell_type": "code",
   "execution_count": 12,
   "metadata": {},
   "outputs": [
    {
     "data": {
      "text/plain": [
       "[0.9720331950793191, 0.7341269812886677]"
      ]
     },
     "execution_count": 12,
     "metadata": {},
     "output_type": "execute_result"
    }
   ],
   "source": [
    "model.evaluate(train_X, train_Y, batch_size=64, verbose=2, sample_weight=None)"
   ]
  },
  {
   "cell_type": "code",
   "execution_count": 13,
   "metadata": {},
   "outputs": [],
   "source": [
    "trainPredict = model.predict(train_X)\n",
    "D=np.argmax(train_Y,axis = 1)\n",
    "E=np.argmax(trainPredict,axis = 1)"
   ]
  },
  {
   "cell_type": "code",
   "execution_count": 16,
   "metadata": {},
   "outputs": [
    {
     "name": "stdout",
     "output_type": "stream",
     "text": [
      "[ 31  31  31 130  65   1  26   1 131   1  26 108  52 131  26  26 181   1\n",
      "   1 150 150 150 150 126  64   1   1 181 150 181 150 150 181 150 150 181\n",
      "   1 108 181 150 157 150 150 181 150 167   1 181 150 181 181 150 150 150\n",
      "   1 181 181 181 157 181 181 181   1 181 150 181 181 181 181   1 181 150\n",
      " 181 150 150 150 150 196 150 150 150 139  68 150 181   1   1 108  15  92\n",
      " 150 116 196 108 193  65  90  64 159 159 181 181 181   1 197 159  28 159\n",
      " 108 181 150 181 108 181 181 181 150   1 108  97 131 108 159  28  28 146\n",
      " 108   1 150 181 150 150   1 181 162 181   1 196  34  52  70 150  84  51\n",
      " 196  79 181 181 150 181   1 181   1 181   1 181 150 181 181 181 181 150\n",
      " 150 181 181 181 181 181 181 181 181 116  32 181 181 150   1 197 197  52\n",
      " 119 198 181 181  52 104   1 150 181 181 181   7 150 181 181   1   1 181\n",
      " 181 181 181 108  57  57 191  15 162 132 132  56 181 181   1 198 181 181\n",
      "   1 181 181 150 150 181 181 150 150 181   1 181 157   1 181   1 181 181\n",
      " 116 116 150 150 181 181 181 181 184 108 157 157   1 181 181   1 181 131]\n",
      "[181  31  31 130  65   1   1   1 131 131  26 108  52 131  26 150 181   1\n",
      "   1 181 150 150 150 150 181   1   1 181 150 181 181 150 181 181 150 181\n",
      " 181 181 181 150 157 150 150 181 181 150   1 181 150 181 181 181 150 181\n",
      " 150 181 162   1 181 181 181 181 181 181   1 181 181 181 181 181 181   1\n",
      " 181 181 150 181 150 150 150 150 150 150  68 150 181   1 181 181  15  92\n",
      " 150 116 196 108 193  65  90  64 159 159 181 181 181 181 181 159  28 159\n",
      " 108 181 150 157 181 181 181 157 181 150 197  97 131 108 159  28 108 146\n",
      " 108   1 150 181 150 150 181 181 162 181   1 196  34  52  70 150  84  51\n",
      " 196  79 181 181 181 150 181 181   1 181   1 181   1 181 181 181 181 181\n",
      " 150 181 181 181 181 181 181 181 181 181 181 181 181 150 150 197 197  52\n",
      " 119 198 181 181  52 104   1 150 181 150 181 181 150 181 181 181 181 181\n",
      " 150   1 181 181  57  57 191  15 162 132 132  56 181 181   1 181 181 181\n",
      "  52 181   1   1 150 181 181 181 150 181 181 181   1   1 181 181 181   1\n",
      "   1 181 150 150 181 181 181 181 181 108 157 157   1 181 181   1 181   1]\n"
     ]
    }
   ],
   "source": [
    "print(D)\n",
    "print(E)"
   ]
  },
  {
   "cell_type": "code",
   "execution_count": 19,
   "metadata": {},
   "outputs": [
    {
     "name": "stdout",
     "output_type": "stream",
     "text": [
      "0.7341269841269841\n"
     ]
    }
   ],
   "source": [
    "A=0 #total number of right\n",
    "for i,t in enumerate(E):\n",
    "    if D[i]==t :\n",
    "        A=A+1\n",
    "print(A/D.shape[0])"
   ]
  }
 ],
 "metadata": {
  "kernelspec": {
   "display_name": "Python 3",
   "language": "python",
   "name": "python3"
  },
  "language_info": {
   "codemirror_mode": {
    "name": "ipython",
    "version": 3
   },
   "file_extension": ".py",
   "mimetype": "text/x-python",
   "name": "python",
   "nbconvert_exporter": "python",
   "pygments_lexer": "ipython3",
   "version": "3.5.2"
  }
 },
 "nbformat": 4,
 "nbformat_minor": 2
}
