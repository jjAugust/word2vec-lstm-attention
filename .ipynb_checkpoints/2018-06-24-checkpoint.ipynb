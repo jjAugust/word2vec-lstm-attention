{
 "cells": [
  {
   "cell_type": "code",
   "execution_count": 2,
   "metadata": {},
   "outputs": [
    {
     "name": "stderr",
     "output_type": "stream",
     "text": [
      "/usr/local/lib/python3.5/dist-packages/h5py/__init__.py:36: FutureWarning: Conversion of the second argument of issubdtype from `float` to `np.floating` is deprecated. In future, it will be treated as `np.float64 == np.dtype(float).type`.\n",
      "  from ._conv import register_converters as _register_converters\n",
      "Using TensorFlow backend.\n",
      "/usr/local/lib/python3.5/dist-packages/sklearn/cross_validation.py:41: DeprecationWarning: This module was deprecated in version 0.18 in favor of the model_selection module into which all the refactored classes and functions are moved. Also note that the interface of the new CV iterators are different from that of this module. This module will be removed in 0.20.\n",
      "  \"This module will be removed in 0.20.\", DeprecationWarning)\n"
     ]
    }
   ],
   "source": [
    "# LSTM for international airline passengers problem with window regression framing\n",
    "import numpy\n",
    "import numpy as np\n",
    "import keras\n",
    "import matplotlib.pyplot as plt\n",
    "from pandas import read_csv\n",
    "import math\n",
    "from keras.models import Sequential\n",
    "from keras.layers import Dense,Dropout\n",
    "from keras.layers import LSTM\n",
    "from sklearn.preprocessing import MinMaxScaler\n",
    "from sklearn.metrics import mean_squared_error\n",
    "from sklearn.preprocessing import OneHotEncoder\n",
    "from sklearn.cross_validation import train_test_split\n",
    "from keras.utils.vis_utils import plot_model"
   ]
  },
  {
   "cell_type": "code",
   "execution_count": 3,
   "metadata": {},
   "outputs": [],
   "source": [
    "# convert an array of values into a dataset matrix\n",
    "def create_dataset(dataset, look_back=1):\n",
    "\tdataX, dataY = [], []\n",
    "\tfor i in range(len(dataset)-look_back-1):\n",
    "\t\ta = dataset[i:(i+look_back), 0]\n",
    "\t\tdataX.append(a)\n",
    "\t\tdataY.append(dataset[i + look_back, 0])\n",
    "\treturn numpy.array(dataX), numpy.array(dataY)"
   ]
  },
  {
   "cell_type": "code",
   "execution_count": 4,
   "metadata": {},
   "outputs": [],
   "source": [
    "    def create_dataset2(dataset, look_back=1):\n",
    "        dataX, dataY = [], []\n",
    "        dataZ=[]\n",
    "        for i in range(len(dataset)-look_back-1):\n",
    "            a = dataset[i:(i+look_back), 1]\n",
    "            dataX.append(a)\n",
    "            b = dataset[i + look_back, 0]\n",
    "            dataZ.append(b)\n",
    "            dataY.append(dataset[i + look_back, 1])\n",
    "        return numpy.array(dataX), numpy.array(dataY),numpy.array(dataZ)              "
   ]
  },
  {
   "cell_type": "code",
   "execution_count": 5,
   "metadata": {},
   "outputs": [],
   "source": [
    "# fix random seed for reproducibility\n",
    "numpy.random.seed(7)\n",
    "# load the dataset\n",
    "# dataframe = read_csv('w_d_v.csv', usecols=[7], engine='python', skipfooter=3)\n",
    "dataframe = read_csv('t6192.csv', usecols=[8,0], engine='python',dtype=np.int32,skiprows=-1,header=None,skipfooter=3)\n",
    "pattern = read_csv('t6192.csv', usecols=[7], engine='python',dtype=np.int32,skiprows=-1,header=None,skipfooter=3)\n",
    "Matrix = read_csv('matrix621.csv', usecols=[2,3,4,5,6,7,8,9,10,11,12,13], engine='python',header=None)\n",
    "all_data = read_csv('all_data.csv', usecols=[7], engine='python', skipfooter=3)\n",
    "dataset = dataframe.values\n",
    "Matrix = Matrix.values\n",
    "pattern=pattern.values\n",
    "allData=all_data.values\n",
    "Matrix=np.append([[-1,-1,-1,-1,-1,-1,-1,-1,-1,-1,-1,-1]],Matrix,axis=0)"
   ]
  },
  {
   "cell_type": "code",
   "execution_count": 6,
   "metadata": {},
   "outputs": [],
   "source": [
    "look_back = 3\n",
    "\n",
    "trainX, trainY, trainZ = create_dataset2(dataset, look_back)\n",
    "AllX, AllY = create_dataset(allData, look_back)\n",
    "patternX, patternY = create_dataset(pattern, look_back)\n",
    "\n",
    "trainY=numpy.reshape(trainY,(trainY.shape[0],-1))\n",
    "AllY=numpy.reshape(AllY,(AllY.shape[0],-1))"
   ]
  },
  {
   "cell_type": "code",
   "execution_count": 7,
   "metadata": {},
   "outputs": [
    {
     "data": {
      "text/plain": [
       "OneHotEncoder(categorical_features='all', dtype=<class 'numpy.float64'>,\n",
       "       handle_unknown='error', n_values='auto', sparse=True)"
      ]
     },
     "execution_count": 7,
     "metadata": {},
     "output_type": "execute_result"
    }
   ],
   "source": [
    "encX = OneHotEncoder()\n",
    "encX.fit(trainX)\n",
    "encY = OneHotEncoder()\n",
    "encY.fit(trainY)"
   ]
  },
  {
   "cell_type": "code",
   "execution_count": 8,
   "metadata": {},
   "outputs": [],
   "source": [
    "trainX_one=encX.transform(trainX).toarray()\n",
    "train_X=numpy.reshape(trainX_one,(trainX_one.shape[0],look_back,-1))\n",
    "train_Y=encY.transform(trainY).toarray()"
   ]
  },
  {
   "cell_type": "markdown",
   "metadata": {},
   "source": [
    "#还没能直接拆分，其他维度没有做对应\n",
    "a_train, a_test, b_train, b_test = train_test_split(train_X, train_Y, test_size=0.1, random_state=42)"
   ]
  },
  {
   "cell_type": "code",
   "execution_count": 9,
   "metadata": {},
   "outputs": [],
   "source": [
    "emdedding_size=Matrix.shape[1] #\n",
    "vo_len=look_back #\n",
    "vocab_size=Matrix.shape[0] #"
   ]
  },
  {
   "cell_type": "code",
   "execution_count": 10,
   "metadata": {},
   "outputs": [],
   "source": [
    "a_train=trainX.reshape(-1,3,1)\n",
    "a_train=a_train.reshape(-1,3)\n",
    "b_train=train_Y\n",
    "k=trainZ\n",
    "pretrained_weights=Matrix\n",
    "LSTM_size=32"
   ]
  },
  {
   "cell_type": "code",
   "execution_count": 11,
   "metadata": {},
   "outputs": [
    {
     "name": "stdout",
     "output_type": "stream",
     "text": [
      "------------------------\n",
      "in size:\n",
      "(32607, 3)\n",
      "------------------------\n",
      "out size:\n",
      "(32607, 191)\n",
      "------------------------\n",
      "user size:\n",
      "(32607,)\n",
      "------------------------\n"
     ]
    }
   ],
   "source": [
    "print(\"------------------------\")\n",
    "print(\"in size:\")\n",
    "print(a_train.shape)\n",
    "print(\"------------------------\")\n",
    "print(\"out size:\")\n",
    "print(b_train.shape)\n",
    "print(\"------------------------\")\n",
    "print(\"user size:\")\n",
    "print(k.shape)\n",
    "print(\"------------------------\")"
   ]
  },
  {
   "cell_type": "code",
   "execution_count": 12,
   "metadata": {},
   "outputs": [
    {
     "name": "stdout",
     "output_type": "stream",
     "text": [
      "------------------------\n",
      "input encode example1:\n",
      "[[0. 0. 0. 0. 0. 0. 0. 0. 0. 0. 0. 0. 0. 0. 0. 0. 0. 0. 0. 0. 0. 0. 0. 0.\n",
      "  0. 0. 0. 0. 0. 0. 0. 0. 0. 0. 0. 0. 0. 0. 0. 0. 0. 0. 0. 0. 0. 0. 0. 0.\n",
      "  0. 0. 0. 0. 0. 0. 0. 0. 0. 0. 0. 0. 0. 0. 0. 0. 0. 0. 0. 0. 0. 0. 0. 0.\n",
      "  0. 0. 0. 0. 0. 0. 0. 0. 0. 0. 0. 0. 0. 0. 0. 0. 0. 0. 0. 0. 0. 0. 0. 0.\n",
      "  0. 0. 0. 0. 0. 0. 0. 0. 0. 0. 0. 0. 0. 0. 0. 0. 0. 0. 0. 0. 0. 0. 0. 0.\n",
      "  0. 0. 0. 0. 0. 0. 0. 0. 0. 0. 0. 0. 0. 0. 0. 0. 0. 0. 0. 0. 0. 0. 0. 0.\n",
      "  0. 0. 0. 0. 0. 0. 0. 0. 0. 0. 0. 0. 0. 0. 0. 1. 0. 0. 0. 0. 0. 0. 0. 0.\n",
      "  0. 0. 0. 0. 0. 0. 0. 0. 0. 0. 0. 0. 0. 0. 0. 0. 0. 0. 0. 0. 0. 0. 0.]\n",
      " [0. 0. 0. 0. 0. 0. 0. 0. 0. 0. 0. 0. 0. 0. 0. 0. 0. 0. 0. 0. 0. 0. 0. 0.\n",
      "  0. 0. 0. 0. 0. 0. 0. 0. 0. 0. 0. 0. 0. 0. 0. 0. 0. 0. 0. 0. 0. 0. 0. 0.\n",
      "  0. 0. 0. 0. 0. 0. 0. 0. 0. 0. 0. 0. 0. 0. 0. 0. 0. 0. 0. 0. 0. 0. 0. 0.\n",
      "  0. 0. 0. 0. 0. 0. 0. 0. 0. 0. 0. 0. 0. 0. 0. 0. 0. 0. 0. 0. 0. 0. 0. 0.\n",
      "  0. 0. 0. 0. 0. 0. 0. 0. 0. 0. 0. 0. 0. 0. 0. 0. 0. 0. 0. 0. 0. 0. 0. 0.\n",
      "  0. 0. 0. 0. 0. 0. 0. 0. 0. 0. 0. 0. 0. 0. 0. 0. 0. 0. 0. 0. 0. 0. 0. 0.\n",
      "  0. 0. 0. 0. 0. 0. 0. 0. 0. 1. 0. 0. 0. 0. 0. 0. 0. 0. 0. 0. 0. 0. 0. 0.\n",
      "  0. 0. 0. 0. 0. 0. 0. 0. 0. 0. 0. 0. 0. 0. 0. 0. 0. 0. 0. 0. 0. 0. 0.]\n",
      " [0. 0. 0. 0. 0. 0. 0. 0. 0. 0. 0. 0. 0. 0. 0. 0. 0. 0. 0. 0. 0. 0. 0. 0.\n",
      "  0. 0. 0. 0. 0. 0. 0. 0. 0. 0. 0. 0. 0. 0. 0. 0. 0. 0. 0. 0. 0. 0. 0. 0.\n",
      "  0. 0. 0. 0. 0. 0. 0. 0. 0. 0. 0. 0. 0. 0. 0. 0. 0. 0. 0. 0. 0. 0. 0. 0.\n",
      "  0. 0. 0. 0. 0. 0. 0. 0. 0. 0. 0. 0. 0. 0. 0. 0. 0. 0. 0. 0. 0. 0. 0. 0.\n",
      "  0. 0. 0. 0. 0. 0. 0. 0. 0. 0. 0. 0. 0. 0. 0. 0. 0. 0. 0. 0. 0. 0. 0. 0.\n",
      "  0. 0. 0. 0. 0. 0. 0. 0. 0. 0. 0. 0. 0. 0. 0. 0. 0. 0. 0. 0. 0. 0. 0. 0.\n",
      "  0. 0. 1. 0. 0. 0. 0. 0. 0. 0. 0. 0. 0. 0. 0. 0. 0. 0. 0. 0. 0. 0. 0. 0.\n",
      "  0. 0. 0. 0. 0. 0. 0. 0. 0. 0. 0. 0. 0. 0. 0. 0. 0. 0. 0. 0. 0. 0. 0.]]\n",
      "------------------------\n",
      "input encode example2:\n",
      "[0.3220339  0.0338983  0.01694915 0.         0.         0.0338983\n",
      " 0.         0.06779661 0.30508474 0.08474577 0.13559322 0.        ]\n",
      "[0.36734694 0.         0.         0.12244898 0.         0.04081633\n",
      " 0.         0.04081633 0.36734694 0.06122449 0.         0.        ]\n",
      "[0.3548387  0.         0.06451613 0.03225806 0.         0.03225806\n",
      " 0.         0.         0.29032257 0.04838709 0.08064516 0.09677419]\n",
      "------------------------\n",
      "input decode example:\n",
      "[167 157 150]\n",
      "------------------------\n",
      "output encode example:\n",
      "[0. 0. 0. 0. 0. 0. 0. 0. 0. 0. 0. 0. 0. 0. 0. 0. 0. 0. 0. 0. 0. 0. 0. 0.\n",
      " 0. 0. 0. 0. 0. 0. 0. 0. 0. 0. 0. 0. 0. 0. 0. 0. 0. 0. 0. 0. 0. 0. 0. 0.\n",
      " 0. 0. 0. 0. 0. 0. 0. 0. 0. 0. 0. 0. 0. 0. 0. 0. 0. 0. 0. 0. 0. 0. 0. 0.\n",
      " 0. 0. 0. 0. 0. 0. 0. 0. 0. 0. 0. 0. 0. 0. 0. 0. 0. 0. 0. 0. 0. 0. 0. 0.\n",
      " 0. 0. 0. 0. 0. 0. 0. 0. 0. 0. 0. 0. 0. 0. 0. 0. 0. 0. 0. 0. 0. 0. 0. 0.\n",
      " 0. 0. 0. 0. 0. 0. 0. 0. 0. 0. 0. 0. 0. 0. 0. 0. 0. 0. 0. 0. 0. 0. 0. 0.\n",
      " 0. 0. 1. 0. 0. 0. 0. 0. 0. 0. 0. 0. 0. 0. 0. 0. 0. 0. 0. 0. 0. 0. 0. 0.\n",
      " 0. 0. 0. 0. 0. 0. 0. 0. 0. 0. 0. 0. 0. 0. 0. 0. 0. 0. 0. 0. 0. 0. 0.]\n",
      "------------------------\n",
      "output decode example:\n",
      "[150]\n",
      "------------------------\n",
      "user_id example:\n",
      "0\n",
      "------------------------\n"
     ]
    }
   ],
   "source": [
    "print(\"------------------------\")\n",
    "print(\"input encode example1:\")\n",
    "print(train_X[0])\n",
    "print(\"------------------------\")\n",
    "\n",
    "print(\"input encode example2:\")\n",
    "for x in a_train[0]:\n",
    "    print(pretrained_weights[x])\n",
    "print(\"------------------------\")\n",
    "\n",
    "print(\"input decode example:\")\n",
    "print(a_train[0])\n",
    "print(\"------------------------\")\n",
    "\n",
    "print(\"output encode example:\")\n",
    "print(b_train[0])\n",
    "print(\"------------------------\")\n",
    "\n",
    "print(\"output decode example:\")\n",
    "print(trainY[0])\n",
    "print(\"------------------------\")\n",
    "\n",
    "print(\"user_id example:\")\n",
    "print(k[0])\n",
    "print(\"------------------------\")"
   ]
  },
  {
   "cell_type": "code",
   "execution_count": 13,
   "metadata": {},
   "outputs": [
    {
     "name": "stdout",
     "output_type": "stream",
     "text": [
      "------------------------\n",
      "emdedding_size:\n",
      "12\n",
      "------------------------\n",
      "vocab_length:\n",
      "3\n",
      "------------------------\n",
      "vocab_size:\n",
      "201\n",
      "------------------------\n"
     ]
    }
   ],
   "source": [
    "print(\"------------------------\")\n",
    "print(\"emdedding_size:\")\n",
    "print(emdedding_size)\n",
    "print(\"------------------------\")\n",
    "\n",
    "print(\"vocab_length:\")\n",
    "print(vo_len)\n",
    "print(\"------------------------\")\n",
    "\n",
    "print(\"vocab_size:\")\n",
    "print(vocab_size)\n",
    "print(\"------------------------\")"
   ]
  },
  {
   "cell_type": "code",
   "execution_count": 30,
   "metadata": {},
   "outputs": [
    {
     "name": "stdout",
     "output_type": "stream",
     "text": [
      "使用 encode2 (语义权重 pretrained_weights)方法\n"
     ]
    }
   ],
   "source": [
    "print(\"使用 encode2 (语义权重 pretrained_weights)方法\")\n",
    "from keras.layers import Input, Embedding, LSTM, Dense,Merge,Flatten\n",
    "from keras.models import Model\n",
    "# a_train=a_train.reshape(-1,3)\n",
    "\n",
    "emdedding_size=100\n",
    "vocab_size=201\n",
    "User_size=183\n",
    "LSTM_size=200\n",
    "\n",
    "input_pattern = Input(shape=(3, ),name=\"Move_Pattern\")\n",
    "input_id = Input(shape=(1,),name=\"User_id\")\n",
    "\n",
    "em = Embedding(input_dim=vocab_size, output_dim=emdedding_size,input_length=vo_len)(input_pattern)\n",
    "lstm_out = LSTM(LSTM_size)(em)\n",
    "lstm_out = Dropout(0.2)(lstm_out)\n",
    "\n",
    "em2 = Embedding(input_dim=User_size, output_dim=emdedding_size,input_length=1)(input_id)\n",
    "em2=Flatten()(em2)\n",
    "\n",
    "x = keras.layers.concatenate([lstm_out, em2])\n",
    "x=Dense(400,activation='relu',name=\"C\")(x)\n",
    "x=Dense(300,activation='relu',name=\"C2\")(x)\n",
    "x=Dense(250,activation='relu',name=\"C3\")(x)\n",
    "x=Dropout(0.2)(x)\n",
    "x=Dense(b_train.shape[1],activation='softmax',name='x')(x)\n",
    "\n",
    "\n",
    "model = Model(inputs=[input_pattern,input_id], outputs=x)\n",
    "model.compile(loss='categorical_crossentropy', optimizer='adam',metrics=['accuracy'])\n",
    "\n",
    "# print(model.summary()) # Summarize Model\n",
    "plot_model(model, to_file='t_lstm622.png',show_shapes=True)"
   ]
  },
  {
   "cell_type": "code",
   "execution_count": null,
   "metadata": {},
   "outputs": [
    {
     "name": "stdout",
     "output_type": "stream",
     "text": [
      "Epoch 1/100\n",
      " - 21s - loss: 3.6347 - acc: 0.1832\n",
      "Epoch 2/100\n",
      " - 20s - loss: 3.1351 - acc: 0.2504\n",
      "Epoch 3/100\n",
      " - 20s - loss: 2.9734 - acc: 0.2718\n",
      "Epoch 4/100\n",
      " - 20s - loss: 2.8656 - acc: 0.2897\n",
      "Epoch 5/100\n",
      " - 20s - loss: 2.7827 - acc: 0.3008\n",
      "Epoch 6/100\n",
      " - 20s - loss: 2.7135 - acc: 0.3094\n",
      "Epoch 7/100\n",
      " - 20s - loss: 2.6507 - acc: 0.3172\n",
      "Epoch 8/100\n",
      " - 20s - loss: 2.5963 - acc: 0.3261\n",
      "Epoch 9/100\n",
      " - 20s - loss: 2.5324 - acc: 0.3334\n",
      "Epoch 10/100\n",
      " - 20s - loss: 2.4798 - acc: 0.3435\n",
      "Epoch 11/100\n",
      " - 20s - loss: 2.4234 - acc: 0.3502\n",
      "Epoch 12/100\n",
      " - 20s - loss: 2.3702 - acc: 0.3614\n",
      "Epoch 13/100\n",
      " - 20s - loss: 2.3104 - acc: 0.3730\n",
      "Epoch 14/100\n",
      " - 20s - loss: 2.2602 - acc: 0.3807\n",
      "Epoch 15/100\n",
      " - 20s - loss: 2.2074 - acc: 0.3856\n",
      "Epoch 16/100\n",
      " - 20s - loss: 2.1485 - acc: 0.4013\n",
      "Epoch 17/100\n",
      " - 20s - loss: 2.1005 - acc: 0.4110\n",
      "Epoch 18/100\n",
      " - 20s - loss: 2.0556 - acc: 0.4181\n",
      "Epoch 19/100\n",
      " - 20s - loss: 2.0091 - acc: 0.4272\n",
      "Epoch 20/100\n",
      " - 20s - loss: 1.9683 - acc: 0.4349\n",
      "Epoch 21/100\n",
      " - 20s - loss: 1.9320 - acc: 0.4449\n",
      "Epoch 22/100\n",
      " - 20s - loss: 1.8885 - acc: 0.4573\n",
      "Epoch 23/100\n",
      " - 20s - loss: 1.8586 - acc: 0.4628\n",
      "Epoch 24/100\n",
      " - 20s - loss: 1.8186 - acc: 0.4724\n",
      "Epoch 25/100\n",
      " - 20s - loss: 1.7928 - acc: 0.4773\n",
      "Epoch 26/100\n",
      " - 20s - loss: 1.7751 - acc: 0.4832\n",
      "Epoch 27/100\n",
      " - 20s - loss: 1.7242 - acc: 0.4929\n",
      "Epoch 28/100\n",
      " - 20s - loss: 1.7233 - acc: 0.4966\n",
      "Epoch 29/100\n",
      " - 20s - loss: 1.6960 - acc: 0.4996\n",
      "Epoch 30/100\n",
      " - 20s - loss: 1.6736 - acc: 0.5068\n",
      "Epoch 31/100\n",
      " - 20s - loss: 1.6600 - acc: 0.5118\n",
      "Epoch 32/100\n",
      " - 20s - loss: 1.6430 - acc: 0.5194\n",
      "Epoch 33/100\n"
     ]
    }
   ],
   "source": [
    "history_nopre = model.fit([a_train,k], b_train, epochs=100, batch_size=16, verbose=2)"
   ]
  },
  {
   "cell_type": "code",
   "execution_count": 28,
   "metadata": {},
   "outputs": [
    {
     "name": "stdout",
     "output_type": "stream",
     "text": [
      "使用 encode1 方法\n"
     ]
    }
   ],
   "source": [
    "print(\"使用 encode1 方法\")\n",
    "aa_train=train_X\n",
    "\n",
    "from keras.layers import Input, Embedding, LSTM, Dense,Merge\n",
    "from keras.models import Model\n",
    "\n",
    "input_pattern = Input(shape=(3, aa_train.shape[2]),name=\"Move_Pattern\")\n",
    "input_id = Input(shape=(1,),name=\"User_id\")\n",
    "\n",
    "lstm_out = LSTM(units=200,return_sequences=False)(input_pattern)\n",
    "lstm_out = Dropout(0.2)(lstm_out)\n",
    "\n",
    "em2 = Embedding(input_dim=User_size, output_dim=emdedding_size,input_length=1)(input_id)\n",
    "em2=Flatten()(em2)\n",
    "\n",
    "x = keras.layers.concatenate([lstm_out, em2])\n",
    "x=Dense(400,activation='relu',name=\"C\")(x)\n",
    "x=Dense(300,activation='relu',name=\"C2\")(x)\n",
    "x=Dense(250,activation='relu',name=\"C3\")(x)\n",
    "x=Dropout(0.2)(x)\n",
    "x=Dense(b_train.shape[1],activation='softmax')(x)\n",
    "\n",
    "\n",
    "model = Model(inputs=[input_pattern,input_id], outputs=x)\n",
    "model.compile(loss='categorical_crossentropy', optimizer='adam',metrics=['accuracy'])\n",
    "\n",
    "# print(model.summary()) # Summarize Model\n",
    "plot_model(model, to_file='t_lstm_encode1.png',show_shapes=True)"
   ]
  },
  {
   "cell_type": "code",
   "execution_count": 29,
   "metadata": {
    "scrolled": true
   },
   "outputs": [
    {
     "name": "stdout",
     "output_type": "stream",
     "text": [
      "Epoch 1/100\n",
      " - 4s - loss: 4.4523 - acc: 0.0925\n",
      "Epoch 2/100\n",
      " - 3s - loss: 3.6074 - acc: 0.1954\n",
      "Epoch 3/100\n",
      " - 3s - loss: 3.2661 - acc: 0.2316\n",
      "Epoch 4/100\n",
      " - 3s - loss: 3.0907 - acc: 0.2558\n",
      "Epoch 5/100\n",
      " - 3s - loss: 2.9844 - acc: 0.2712\n",
      "Epoch 6/100\n",
      " - 3s - loss: 2.9094 - acc: 0.2850\n",
      "Epoch 7/100\n",
      " - 3s - loss: 2.8517 - acc: 0.2902\n",
      "Epoch 8/100\n",
      " - 3s - loss: 2.8035 - acc: 0.2990\n",
      "Epoch 9/100\n",
      " - 3s - loss: 2.7607 - acc: 0.3067\n",
      "Epoch 10/100\n",
      " - 3s - loss: 2.7275 - acc: 0.3122\n",
      "Epoch 11/100\n",
      " - 3s - loss: 2.6969 - acc: 0.3147\n",
      "Epoch 12/100\n",
      " - 3s - loss: 2.6657 - acc: 0.3205\n",
      "Epoch 13/100\n",
      " - 3s - loss: 2.6371 - acc: 0.3258\n",
      "Epoch 14/100\n",
      " - 3s - loss: 2.6091 - acc: 0.3308\n",
      "Epoch 15/100\n",
      " - 3s - loss: 2.5838 - acc: 0.3344\n",
      "Epoch 16/100\n",
      " - 3s - loss: 2.5607 - acc: 0.3383\n",
      "Epoch 17/100\n",
      " - 3s - loss: 2.5401 - acc: 0.3419\n",
      "Epoch 18/100\n",
      " - 3s - loss: 2.5118 - acc: 0.3459\n",
      "Epoch 19/100\n",
      " - 3s - loss: 2.4928 - acc: 0.3492\n",
      "Epoch 20/100\n",
      " - 3s - loss: 2.4602 - acc: 0.3539\n",
      "Epoch 21/100\n",
      " - 3s - loss: 2.4381 - acc: 0.3582\n",
      "Epoch 22/100\n",
      " - 3s - loss: 2.4138 - acc: 0.3627\n",
      "Epoch 23/100\n",
      " - 3s - loss: 2.3898 - acc: 0.3684\n",
      "Epoch 24/100\n",
      " - 3s - loss: 2.3633 - acc: 0.3684\n",
      "Epoch 25/100\n",
      " - 3s - loss: 2.3420 - acc: 0.3724\n",
      "Epoch 26/100\n",
      " - 3s - loss: 2.3146 - acc: 0.3771\n",
      "Epoch 27/100\n",
      " - 3s - loss: 2.2912 - acc: 0.3820\n",
      "Epoch 28/100\n",
      " - 3s - loss: 2.2662 - acc: 0.3888\n",
      "Epoch 29/100\n",
      " - 3s - loss: 2.2378 - acc: 0.3930\n",
      "Epoch 30/100\n",
      " - 3s - loss: 2.2185 - acc: 0.3947\n",
      "Epoch 31/100\n",
      " - 3s - loss: 2.1913 - acc: 0.4038\n",
      "Epoch 32/100\n",
      " - 3s - loss: 2.1699 - acc: 0.4051\n",
      "Epoch 33/100\n",
      " - 3s - loss: 2.1402 - acc: 0.4080\n",
      "Epoch 34/100\n",
      " - 3s - loss: 2.1140 - acc: 0.4168\n",
      "Epoch 35/100\n",
      " - 3s - loss: 2.0909 - acc: 0.4202\n",
      "Epoch 36/100\n",
      " - 3s - loss: 2.0597 - acc: 0.4235\n",
      "Epoch 37/100\n",
      " - 3s - loss: 2.0369 - acc: 0.4318\n",
      "Epoch 38/100\n",
      " - 3s - loss: 2.0078 - acc: 0.4356\n",
      "Epoch 39/100\n",
      " - 3s - loss: 1.9811 - acc: 0.4400\n",
      "Epoch 40/100\n",
      " - 3s - loss: 1.9565 - acc: 0.4465\n",
      "Epoch 41/100\n",
      " - 3s - loss: 1.9248 - acc: 0.4553\n",
      "Epoch 42/100\n",
      " - 3s - loss: 1.9052 - acc: 0.4566\n",
      "Epoch 43/100\n",
      " - 3s - loss: 1.8818 - acc: 0.4613\n",
      "Epoch 44/100\n",
      " - 3s - loss: 1.8506 - acc: 0.4720\n",
      "Epoch 45/100\n",
      " - 3s - loss: 1.8255 - acc: 0.4767\n",
      "Epoch 46/100\n",
      " - 3s - loss: 1.8046 - acc: 0.4776\n",
      "Epoch 47/100\n",
      " - 3s - loss: 1.7699 - acc: 0.4890\n",
      "Epoch 48/100\n",
      " - 3s - loss: 1.7470 - acc: 0.4889\n",
      "Epoch 49/100\n",
      " - 3s - loss: 1.7274 - acc: 0.4978\n",
      "Epoch 50/100\n",
      " - 3s - loss: 1.6996 - acc: 0.5044\n",
      "Epoch 51/100\n",
      " - 3s - loss: 1.6667 - acc: 0.5114\n",
      "Epoch 52/100\n",
      " - 3s - loss: 1.6549 - acc: 0.5128\n",
      "Epoch 53/100\n",
      " - 3s - loss: 1.6217 - acc: 0.5239\n",
      "Epoch 54/100\n",
      " - 3s - loss: 1.6025 - acc: 0.5242\n",
      "Epoch 55/100\n",
      " - 3s - loss: 1.5736 - acc: 0.5299\n",
      "Epoch 56/100\n",
      " - 3s - loss: 1.5462 - acc: 0.5384\n",
      "Epoch 57/100\n",
      " - 3s - loss: 1.5278 - acc: 0.5428\n",
      "Epoch 58/100\n",
      " - 3s - loss: 1.5049 - acc: 0.5485\n",
      "Epoch 59/100\n",
      " - 3s - loss: 1.4923 - acc: 0.5524\n",
      "Epoch 60/100\n",
      " - 3s - loss: 1.4700 - acc: 0.5559\n",
      "Epoch 61/100\n",
      " - 3s - loss: 1.4465 - acc: 0.5623\n",
      "Epoch 62/100\n",
      " - 3s - loss: 1.4281 - acc: 0.5684\n",
      "Epoch 63/100\n",
      " - 3s - loss: 1.3955 - acc: 0.5783\n",
      "Epoch 64/100\n",
      " - 3s - loss: 1.3838 - acc: 0.5802\n",
      "Epoch 65/100\n",
      " - 3s - loss: 1.3660 - acc: 0.5845\n",
      "Epoch 66/100\n",
      " - 3s - loss: 1.3448 - acc: 0.5898\n",
      "Epoch 67/100\n",
      " - 3s - loss: 1.3306 - acc: 0.5937\n",
      "Epoch 68/100\n",
      " - 3s - loss: 1.3099 - acc: 0.5995\n",
      "Epoch 69/100\n",
      " - 3s - loss: 1.2885 - acc: 0.6041\n",
      "Epoch 70/100\n",
      " - 3s - loss: 1.2740 - acc: 0.6073\n",
      "Epoch 71/100\n",
      " - 3s - loss: 1.2524 - acc: 0.6129\n",
      "Epoch 72/100\n",
      " - 3s - loss: 1.2381 - acc: 0.6206\n",
      "Epoch 73/100\n",
      " - 3s - loss: 1.2240 - acc: 0.6229\n",
      "Epoch 74/100\n",
      " - 3s - loss: 1.2193 - acc: 0.6199\n",
      "Epoch 75/100\n",
      " - 3s - loss: 1.2034 - acc: 0.6243\n",
      "Epoch 76/100\n",
      " - 3s - loss: 1.1867 - acc: 0.6329\n",
      "Epoch 77/100\n",
      " - 3s - loss: 1.1700 - acc: 0.6360\n",
      "Epoch 78/100\n",
      " - 3s - loss: 1.1549 - acc: 0.6420\n",
      "Epoch 79/100\n",
      " - 3s - loss: 1.1378 - acc: 0.6420\n",
      "Epoch 80/100\n",
      " - 3s - loss: 1.1235 - acc: 0.6500\n",
      "Epoch 81/100\n",
      " - 3s - loss: 1.1223 - acc: 0.6510\n",
      "Epoch 82/100\n",
      " - 3s - loss: 1.1134 - acc: 0.6521\n",
      "Epoch 83/100\n",
      " - 3s - loss: 1.0945 - acc: 0.6606\n",
      "Epoch 84/100\n",
      " - 3s - loss: 1.0790 - acc: 0.6611\n",
      "Epoch 85/100\n",
      " - 3s - loss: 1.0605 - acc: 0.6683\n",
      "Epoch 86/100\n",
      " - 3s - loss: 1.0622 - acc: 0.6655\n",
      "Epoch 87/100\n",
      " - 3s - loss: 1.0564 - acc: 0.6696\n",
      "Epoch 88/100\n",
      " - 3s - loss: 1.0382 - acc: 0.6747\n",
      "Epoch 89/100\n",
      " - 3s - loss: 1.0246 - acc: 0.6790\n",
      "Epoch 90/100\n",
      " - 3s - loss: 1.0181 - acc: 0.6782\n",
      "Epoch 91/100\n",
      " - 3s - loss: 1.0097 - acc: 0.6813\n",
      "Epoch 92/100\n",
      " - 3s - loss: 1.0022 - acc: 0.6854\n",
      "Epoch 93/100\n",
      " - 3s - loss: 0.9923 - acc: 0.6869\n",
      "Epoch 94/100\n",
      " - 3s - loss: 0.9867 - acc: 0.6876\n",
      "Epoch 95/100\n",
      " - 3s - loss: 0.9708 - acc: 0.6944\n",
      "Epoch 96/100\n",
      " - 3s - loss: 0.9678 - acc: 0.6938\n",
      "Epoch 97/100\n",
      " - 3s - loss: 0.9499 - acc: 0.6980\n",
      "Epoch 98/100\n",
      " - 3s - loss: 0.9486 - acc: 0.6983\n",
      "Epoch 99/100\n",
      " - 3s - loss: 0.9416 - acc: 0.7006\n",
      "Epoch 100/100\n",
      " - 3s - loss: 0.9343 - acc: 0.7031\n"
     ]
    }
   ],
   "source": [
    "history_encode1 = model.fit([aa_train,k], b_train, epochs=100, batch_size=512, verbose=2)"
   ]
  },
  {
   "cell_type": "code",
   "execution_count": 25,
   "metadata": {},
   "outputs": [],
   "source": [
    "aa_train=train_X\n",
    "\n",
    "from keras.layers import Input, Embedding, LSTM, Dense,Merge\n",
    "from keras.models import Model\n",
    "\n",
    "input_pattern = Input(shape=(3, aa_train.shape[2]),name=\"Move_Pattern\")\n",
    "input_id = Input(shape=(1,),name=\"User_id\")\n",
    "\n",
    "lstm_out = LSTM(units=300,return_sequences=False)(input_pattern)\n",
    "lstm_out = Dropout(0.2)(lstm_out)\n",
    "\n",
    "# em2 = Embedding(input_dim=User_size, output_dim=emdedding_size,input_length=1)(input_id)\n",
    "# em2=Flatten()(em2)\n",
    "\n",
    "# x = keras.layers.concatenate([lstm_out, em2])\n",
    "x=Dense(400,activation='relu',name=\"C1\")(lstm_out)\n",
    "x=Dense(300,activation='relu',name=\"C2\")(x)\n",
    "x=Dense(250,activation='relu',name=\"C3\")(x)\n",
    "x=Dropout(0.2)(x)\n",
    "x=Dense(b_train.shape[1],activation='softmax')(x)\n",
    "\n",
    "\n",
    "model = Model(inputs=[input_pattern,input_id], outputs=x)\n",
    "model.compile(loss='categorical_crossentropy', optimizer='adam',metrics=['accuracy'])\n",
    "\n",
    "# print(model.summary()) # Summarize Model\n",
    "plot_model(model, to_file='t_lstm_encode1.png',show_shapes=True)"
   ]
  },
  {
   "cell_type": "code",
   "execution_count": 27,
   "metadata": {},
   "outputs": [
    {
     "name": "stdout",
     "output_type": "stream",
     "text": [
      "Epoch 1/100\n",
      " - 5s - loss: 2.7515 - acc: 0.3074\n",
      "Epoch 2/100\n",
      " - 5s - loss: 2.7160 - acc: 0.3114\n",
      "Epoch 3/100\n",
      " - 5s - loss: 2.7005 - acc: 0.3157\n",
      "Epoch 4/100\n",
      " - 5s - loss: 2.6906 - acc: 0.3139\n",
      "Epoch 5/100\n",
      " - 5s - loss: 2.6715 - acc: 0.3190\n",
      "Epoch 6/100\n",
      " - 5s - loss: 2.6571 - acc: 0.3207\n",
      "Epoch 7/100\n",
      " - 5s - loss: 2.6453 - acc: 0.3226\n",
      "Epoch 8/100\n",
      " - 5s - loss: 2.6285 - acc: 0.3247\n",
      "Epoch 9/100\n",
      " - 5s - loss: 2.6126 - acc: 0.3291\n",
      "Epoch 10/100\n",
      " - 5s - loss: 2.5998 - acc: 0.3298\n",
      "Epoch 11/100\n",
      " - 5s - loss: 2.5840 - acc: 0.3312\n",
      "Epoch 12/100\n",
      " - 5s - loss: 2.5704 - acc: 0.3353\n",
      "Epoch 13/100\n",
      " - 5s - loss: 2.5506 - acc: 0.3393\n",
      "Epoch 14/100\n",
      " - 5s - loss: 2.5368 - acc: 0.3394\n",
      "Epoch 15/100\n",
      " - 5s - loss: 2.5159 - acc: 0.3440\n",
      "Epoch 16/100\n",
      " - 5s - loss: 2.4993 - acc: 0.3461\n",
      "Epoch 17/100\n",
      " - 5s - loss: 2.4865 - acc: 0.3480\n",
      "Epoch 18/100\n",
      " - 5s - loss: 2.4604 - acc: 0.3496\n",
      "Epoch 19/100\n",
      " - 5s - loss: 2.4475 - acc: 0.3515\n",
      "Epoch 20/100\n",
      " - 5s - loss: 2.4198 - acc: 0.3601\n",
      "Epoch 21/100\n",
      " - 5s - loss: 2.4056 - acc: 0.3603\n",
      "Epoch 22/100\n",
      " - 5s - loss: 2.3921 - acc: 0.3654\n",
      "Epoch 23/100\n"
     ]
    },
    {
     "ename": "KeyboardInterrupt",
     "evalue": "",
     "output_type": "error",
     "traceback": [
      "\u001b[0;31m---------------------------------------------------------------------------\u001b[0m",
      "\u001b[0;31mKeyboardInterrupt\u001b[0m                         Traceback (most recent call last)",
      "\u001b[0;32m<ipython-input-27-00b1b868386e>\u001b[0m in \u001b[0;36m<module>\u001b[0;34m()\u001b[0m\n\u001b[0;32m----> 1\u001b[0;31m \u001b[0mhistory_encode1\u001b[0m \u001b[0;34m=\u001b[0m \u001b[0mmodel\u001b[0m\u001b[0;34m.\u001b[0m\u001b[0mfit\u001b[0m\u001b[0;34m(\u001b[0m\u001b[0;34m[\u001b[0m\u001b[0maa_train\u001b[0m\u001b[0;34m,\u001b[0m\u001b[0mk\u001b[0m\u001b[0;34m]\u001b[0m\u001b[0;34m,\u001b[0m \u001b[0mb_train\u001b[0m\u001b[0;34m,\u001b[0m \u001b[0mepochs\u001b[0m\u001b[0;34m=\u001b[0m\u001b[0;36m100\u001b[0m\u001b[0;34m,\u001b[0m \u001b[0mbatch_size\u001b[0m\u001b[0;34m=\u001b[0m\u001b[0;36m512\u001b[0m\u001b[0;34m,\u001b[0m \u001b[0mverbose\u001b[0m\u001b[0;34m=\u001b[0m\u001b[0;36m2\u001b[0m\u001b[0;34m)\u001b[0m\u001b[0;34m\u001b[0m\u001b[0m\n\u001b[0m",
      "\u001b[0;32m/usr/local/lib/python3.5/dist-packages/keras/engine/training.py\u001b[0m in \u001b[0;36mfit\u001b[0;34m(self, x, y, batch_size, epochs, verbose, callbacks, validation_split, validation_data, shuffle, class_weight, sample_weight, initial_epoch, steps_per_epoch, validation_steps, **kwargs)\u001b[0m\n\u001b[1;32m   1703\u001b[0m                               \u001b[0minitial_epoch\u001b[0m\u001b[0;34m=\u001b[0m\u001b[0minitial_epoch\u001b[0m\u001b[0;34m,\u001b[0m\u001b[0;34m\u001b[0m\u001b[0m\n\u001b[1;32m   1704\u001b[0m                               \u001b[0msteps_per_epoch\u001b[0m\u001b[0;34m=\u001b[0m\u001b[0msteps_per_epoch\u001b[0m\u001b[0;34m,\u001b[0m\u001b[0;34m\u001b[0m\u001b[0m\n\u001b[0;32m-> 1705\u001b[0;31m                               validation_steps=validation_steps)\n\u001b[0m\u001b[1;32m   1706\u001b[0m \u001b[0;34m\u001b[0m\u001b[0m\n\u001b[1;32m   1707\u001b[0m     def evaluate(self, x=None, y=None,\n",
      "\u001b[0;32m/usr/local/lib/python3.5/dist-packages/keras/engine/training.py\u001b[0m in \u001b[0;36m_fit_loop\u001b[0;34m(self, f, ins, out_labels, batch_size, epochs, verbose, callbacks, val_f, val_ins, shuffle, callback_metrics, initial_epoch, steps_per_epoch, validation_steps)\u001b[0m\n\u001b[1;32m   1234\u001b[0m                         \u001b[0mins_batch\u001b[0m\u001b[0;34m[\u001b[0m\u001b[0mi\u001b[0m\u001b[0;34m]\u001b[0m \u001b[0;34m=\u001b[0m \u001b[0mins_batch\u001b[0m\u001b[0;34m[\u001b[0m\u001b[0mi\u001b[0m\u001b[0;34m]\u001b[0m\u001b[0;34m.\u001b[0m\u001b[0mtoarray\u001b[0m\u001b[0;34m(\u001b[0m\u001b[0;34m)\u001b[0m\u001b[0;34m\u001b[0m\u001b[0m\n\u001b[1;32m   1235\u001b[0m \u001b[0;34m\u001b[0m\u001b[0m\n\u001b[0;32m-> 1236\u001b[0;31m                     \u001b[0mouts\u001b[0m \u001b[0;34m=\u001b[0m \u001b[0mf\u001b[0m\u001b[0;34m(\u001b[0m\u001b[0mins_batch\u001b[0m\u001b[0;34m)\u001b[0m\u001b[0;34m\u001b[0m\u001b[0m\n\u001b[0m\u001b[1;32m   1237\u001b[0m                     \u001b[0;32mif\u001b[0m \u001b[0;32mnot\u001b[0m \u001b[0misinstance\u001b[0m\u001b[0;34m(\u001b[0m\u001b[0mouts\u001b[0m\u001b[0;34m,\u001b[0m \u001b[0mlist\u001b[0m\u001b[0;34m)\u001b[0m\u001b[0;34m:\u001b[0m\u001b[0;34m\u001b[0m\u001b[0m\n\u001b[1;32m   1238\u001b[0m                         \u001b[0mouts\u001b[0m \u001b[0;34m=\u001b[0m \u001b[0;34m[\u001b[0m\u001b[0mouts\u001b[0m\u001b[0;34m]\u001b[0m\u001b[0;34m\u001b[0m\u001b[0m\n",
      "\u001b[0;32m/usr/local/lib/python3.5/dist-packages/keras/backend/tensorflow_backend.py\u001b[0m in \u001b[0;36m__call__\u001b[0;34m(self, inputs)\u001b[0m\n\u001b[1;32m   2480\u001b[0m         \u001b[0msession\u001b[0m \u001b[0;34m=\u001b[0m \u001b[0mget_session\u001b[0m\u001b[0;34m(\u001b[0m\u001b[0;34m)\u001b[0m\u001b[0;34m\u001b[0m\u001b[0m\n\u001b[1;32m   2481\u001b[0m         updated = session.run(fetches=fetches, feed_dict=feed_dict,\n\u001b[0;32m-> 2482\u001b[0;31m                               **self.session_kwargs)\n\u001b[0m\u001b[1;32m   2483\u001b[0m         \u001b[0;32mreturn\u001b[0m \u001b[0mupdated\u001b[0m\u001b[0;34m[\u001b[0m\u001b[0;34m:\u001b[0m\u001b[0mlen\u001b[0m\u001b[0;34m(\u001b[0m\u001b[0mself\u001b[0m\u001b[0;34m.\u001b[0m\u001b[0moutputs\u001b[0m\u001b[0;34m)\u001b[0m\u001b[0;34m]\u001b[0m\u001b[0;34m\u001b[0m\u001b[0m\n\u001b[1;32m   2484\u001b[0m \u001b[0;34m\u001b[0m\u001b[0m\n",
      "\u001b[0;32m/usr/local/lib/python3.5/dist-packages/tensorflow/python/client/session.py\u001b[0m in \u001b[0;36mrun\u001b[0;34m(self, fetches, feed_dict, options, run_metadata)\u001b[0m\n\u001b[1;32m    898\u001b[0m     \u001b[0;32mtry\u001b[0m\u001b[0;34m:\u001b[0m\u001b[0;34m\u001b[0m\u001b[0m\n\u001b[1;32m    899\u001b[0m       result = self._run(None, fetches, feed_dict, options_ptr,\n\u001b[0;32m--> 900\u001b[0;31m                          run_metadata_ptr)\n\u001b[0m\u001b[1;32m    901\u001b[0m       \u001b[0;32mif\u001b[0m \u001b[0mrun_metadata\u001b[0m\u001b[0;34m:\u001b[0m\u001b[0;34m\u001b[0m\u001b[0m\n\u001b[1;32m    902\u001b[0m         \u001b[0mproto_data\u001b[0m \u001b[0;34m=\u001b[0m \u001b[0mtf_session\u001b[0m\u001b[0;34m.\u001b[0m\u001b[0mTF_GetBuffer\u001b[0m\u001b[0;34m(\u001b[0m\u001b[0mrun_metadata_ptr\u001b[0m\u001b[0;34m)\u001b[0m\u001b[0;34m\u001b[0m\u001b[0m\n",
      "\u001b[0;32m/usr/local/lib/python3.5/dist-packages/tensorflow/python/client/session.py\u001b[0m in \u001b[0;36m_run\u001b[0;34m(self, handle, fetches, feed_dict, options, run_metadata)\u001b[0m\n\u001b[1;32m   1133\u001b[0m     \u001b[0;32mif\u001b[0m \u001b[0mfinal_fetches\u001b[0m \u001b[0;32mor\u001b[0m \u001b[0mfinal_targets\u001b[0m \u001b[0;32mor\u001b[0m \u001b[0;34m(\u001b[0m\u001b[0mhandle\u001b[0m \u001b[0;32mand\u001b[0m \u001b[0mfeed_dict_tensor\u001b[0m\u001b[0;34m)\u001b[0m\u001b[0;34m:\u001b[0m\u001b[0;34m\u001b[0m\u001b[0m\n\u001b[1;32m   1134\u001b[0m       results = self._do_run(handle, final_targets, final_fetches,\n\u001b[0;32m-> 1135\u001b[0;31m                              feed_dict_tensor, options, run_metadata)\n\u001b[0m\u001b[1;32m   1136\u001b[0m     \u001b[0;32melse\u001b[0m\u001b[0;34m:\u001b[0m\u001b[0;34m\u001b[0m\u001b[0m\n\u001b[1;32m   1137\u001b[0m       \u001b[0mresults\u001b[0m \u001b[0;34m=\u001b[0m \u001b[0;34m[\u001b[0m\u001b[0;34m]\u001b[0m\u001b[0;34m\u001b[0m\u001b[0m\n",
      "\u001b[0;32m/usr/local/lib/python3.5/dist-packages/tensorflow/python/client/session.py\u001b[0m in \u001b[0;36m_do_run\u001b[0;34m(self, handle, target_list, fetch_list, feed_dict, options, run_metadata)\u001b[0m\n\u001b[1;32m   1314\u001b[0m     \u001b[0;32mif\u001b[0m \u001b[0mhandle\u001b[0m \u001b[0;32mis\u001b[0m \u001b[0;32mNone\u001b[0m\u001b[0;34m:\u001b[0m\u001b[0;34m\u001b[0m\u001b[0m\n\u001b[1;32m   1315\u001b[0m       return self._do_call(_run_fn, feeds, fetches, targets, options,\n\u001b[0;32m-> 1316\u001b[0;31m                            run_metadata)\n\u001b[0m\u001b[1;32m   1317\u001b[0m     \u001b[0;32melse\u001b[0m\u001b[0;34m:\u001b[0m\u001b[0;34m\u001b[0m\u001b[0m\n\u001b[1;32m   1318\u001b[0m       \u001b[0;32mreturn\u001b[0m \u001b[0mself\u001b[0m\u001b[0;34m.\u001b[0m\u001b[0m_do_call\u001b[0m\u001b[0;34m(\u001b[0m\u001b[0m_prun_fn\u001b[0m\u001b[0;34m,\u001b[0m \u001b[0mhandle\u001b[0m\u001b[0;34m,\u001b[0m \u001b[0mfeeds\u001b[0m\u001b[0;34m,\u001b[0m \u001b[0mfetches\u001b[0m\u001b[0;34m)\u001b[0m\u001b[0;34m\u001b[0m\u001b[0m\n",
      "\u001b[0;32m/usr/local/lib/python3.5/dist-packages/tensorflow/python/client/session.py\u001b[0m in \u001b[0;36m_do_call\u001b[0;34m(self, fn, *args)\u001b[0m\n\u001b[1;32m   1320\u001b[0m   \u001b[0;32mdef\u001b[0m \u001b[0m_do_call\u001b[0m\u001b[0;34m(\u001b[0m\u001b[0mself\u001b[0m\u001b[0;34m,\u001b[0m \u001b[0mfn\u001b[0m\u001b[0;34m,\u001b[0m \u001b[0;34m*\u001b[0m\u001b[0margs\u001b[0m\u001b[0;34m)\u001b[0m\u001b[0;34m:\u001b[0m\u001b[0;34m\u001b[0m\u001b[0m\n\u001b[1;32m   1321\u001b[0m     \u001b[0;32mtry\u001b[0m\u001b[0;34m:\u001b[0m\u001b[0;34m\u001b[0m\u001b[0m\n\u001b[0;32m-> 1322\u001b[0;31m       \u001b[0;32mreturn\u001b[0m \u001b[0mfn\u001b[0m\u001b[0;34m(\u001b[0m\u001b[0;34m*\u001b[0m\u001b[0margs\u001b[0m\u001b[0;34m)\u001b[0m\u001b[0;34m\u001b[0m\u001b[0m\n\u001b[0m\u001b[1;32m   1323\u001b[0m     \u001b[0;32mexcept\u001b[0m \u001b[0merrors\u001b[0m\u001b[0;34m.\u001b[0m\u001b[0mOpError\u001b[0m \u001b[0;32mas\u001b[0m \u001b[0me\u001b[0m\u001b[0;34m:\u001b[0m\u001b[0;34m\u001b[0m\u001b[0m\n\u001b[1;32m   1324\u001b[0m       \u001b[0mmessage\u001b[0m \u001b[0;34m=\u001b[0m \u001b[0mcompat\u001b[0m\u001b[0;34m.\u001b[0m\u001b[0mas_text\u001b[0m\u001b[0;34m(\u001b[0m\u001b[0me\u001b[0m\u001b[0;34m.\u001b[0m\u001b[0mmessage\u001b[0m\u001b[0;34m)\u001b[0m\u001b[0;34m\u001b[0m\u001b[0m\n",
      "\u001b[0;32m/usr/local/lib/python3.5/dist-packages/tensorflow/python/client/session.py\u001b[0m in \u001b[0;36m_run_fn\u001b[0;34m(feed_dict, fetch_list, target_list, options, run_metadata)\u001b[0m\n\u001b[1;32m   1305\u001b[0m       \u001b[0mself\u001b[0m\u001b[0;34m.\u001b[0m\u001b[0m_extend_graph\u001b[0m\u001b[0;34m(\u001b[0m\u001b[0;34m)\u001b[0m\u001b[0;34m\u001b[0m\u001b[0m\n\u001b[1;32m   1306\u001b[0m       return self._call_tf_sessionrun(\n\u001b[0;32m-> 1307\u001b[0;31m           options, feed_dict, fetch_list, target_list, run_metadata)\n\u001b[0m\u001b[1;32m   1308\u001b[0m \u001b[0;34m\u001b[0m\u001b[0m\n\u001b[1;32m   1309\u001b[0m     \u001b[0;32mdef\u001b[0m \u001b[0m_prun_fn\u001b[0m\u001b[0;34m(\u001b[0m\u001b[0mhandle\u001b[0m\u001b[0;34m,\u001b[0m \u001b[0mfeed_dict\u001b[0m\u001b[0;34m,\u001b[0m \u001b[0mfetch_list\u001b[0m\u001b[0;34m)\u001b[0m\u001b[0;34m:\u001b[0m\u001b[0;34m\u001b[0m\u001b[0m\n",
      "\u001b[0;32m/usr/local/lib/python3.5/dist-packages/tensorflow/python/client/session.py\u001b[0m in \u001b[0;36m_call_tf_sessionrun\u001b[0;34m(self, options, feed_dict, fetch_list, target_list, run_metadata)\u001b[0m\n\u001b[1;32m   1407\u001b[0m       return tf_session.TF_SessionRun_wrapper(\n\u001b[1;32m   1408\u001b[0m           \u001b[0mself\u001b[0m\u001b[0;34m.\u001b[0m\u001b[0m_session\u001b[0m\u001b[0;34m,\u001b[0m \u001b[0moptions\u001b[0m\u001b[0;34m,\u001b[0m \u001b[0mfeed_dict\u001b[0m\u001b[0;34m,\u001b[0m \u001b[0mfetch_list\u001b[0m\u001b[0;34m,\u001b[0m \u001b[0mtarget_list\u001b[0m\u001b[0;34m,\u001b[0m\u001b[0;34m\u001b[0m\u001b[0m\n\u001b[0;32m-> 1409\u001b[0;31m           run_metadata)\n\u001b[0m\u001b[1;32m   1410\u001b[0m     \u001b[0;32melse\u001b[0m\u001b[0;34m:\u001b[0m\u001b[0;34m\u001b[0m\u001b[0m\n\u001b[1;32m   1411\u001b[0m       \u001b[0;32mwith\u001b[0m \u001b[0merrors\u001b[0m\u001b[0;34m.\u001b[0m\u001b[0mraise_exception_on_not_ok_status\u001b[0m\u001b[0;34m(\u001b[0m\u001b[0;34m)\u001b[0m \u001b[0;32mas\u001b[0m \u001b[0mstatus\u001b[0m\u001b[0;34m:\u001b[0m\u001b[0;34m\u001b[0m\u001b[0m\n",
      "\u001b[0;31mKeyboardInterrupt\u001b[0m: "
     ]
    }
   ],
   "source": [
    "history_encode1 = model.fit([aa_train,k], b_train, epochs=100, batch_size=512, verbose=2)"
   ]
  },
  {
   "cell_type": "code",
   "execution_count": null,
   "metadata": {},
   "outputs": [],
   "source": [
    "from keras.layers import Input, Embedding, LSTM, Dense,Merge\n",
    "from keras.models import Model\n",
    "\n",
    "emdedding_size=12 #\n",
    "vo_len=3 #\n",
    "vocab_size=11000 #\n",
    "a_train=patternX\n",
    "b_train=train_Y\n",
    "k=trainZ\n",
    "pretrained_weights=Matrix\n",
    "\n",
    "input_pattern = Input(shape=(3, ),name=\"input_pattern\")\n",
    "em = Embedding(input_dim=vocab_size, output_dim=emdedding_size,input_length=vo_len, weights=[pretrained_weights])(input_pattern)\n",
    "lstm_out = LSTM(units=emdedding_size)(em)\n",
    "lstm_out = Dropout(0.2)(lstm_out)\n",
    "\n",
    "x=Dense(250,activation='relu',name=\"C\")(lstm_out)\n",
    "x=Dropout(0.2)(x)\n",
    "x=Dense(180,activation='softmax')(x)\n",
    "\n",
    "\n",
    "model = Model(inputs=input_pattern, outputs=x)\n",
    "model.compile(loss='categorical_crossentropy', optimizer='adam',metrics=['accuracy'])\n",
    "\n",
    "print(model.summary()) # Summarize Model\n",
    "plot_model(model, to_file='t_lstm_test.png',show_shapes=True)\n",
    "history_withpre2 = model.fit(a_train, b_train, epochs=100, batch_size=16, verbose=2)"
   ]
  },
  {
   "cell_type": "markdown",
   "metadata": {},
   "source": [
    "plot_model(model, to_file='t_lstm_test.png',show_shapes=True)\n",
    "history_nopre = model.fit(a_train, b_train, epochs=100, batch_size=16, verbose=2)"
   ]
  },
  {
   "cell_type": "code",
   "execution_count": null,
   "metadata": {},
   "outputs": [],
   "source": [
    "from keras.layers import Input, Embedding, LSTM, Dense,Merge\n",
    "from keras.models import Model\n",
    "\n",
    "emdedding_size=12 #\n",
    "vo_len=3 #\n",
    "vocab_size=11000 #\n",
    "a_train=trainX.reshape(-1,3)\n",
    "b_train=train_Y\n",
    "k=trainZ\n",
    "pretrained_weights=Matrix\n",
    "\n",
    "input_pattern = Input(shape=(3, ),name=\"input_pattern\")\n",
    "em = Embedding(input_dim=vocab_size, output_dim=emdedding_size,input_length=vo_len, weights=[pretrained_weights])(input_pattern)\n",
    "lstm_out = LSTM(units=emdedding_size)(em)\n",
    "lstm_out = Dropout(0.2)(lstm_out)\n",
    "\n",
    "x=Dense(250,activation='relu',name=\"C\")(lstm_out)\n",
    "x=Dropout(0.2)(x)\n",
    "x=Dense(180,activation='softmax')(x)\n",
    "\n",
    "\n",
    "model = Model(inputs=input_pattern, outputs=x)\n",
    "model.compile(loss='categorical_crossentropy', optimizer='adam',metrics=['accuracy'])\n",
    "\n",
    "print(model.summary()) # Summarize Model\n",
    "plot_model(model, to_file='t_lstm_test.png',show_shapes=True)\n",
    "history_withpre2 = model.fit(a_train, b_train, epochs=100, batch_size=16, verbose=2)"
   ]
  },
  {
   "cell_type": "code",
   "execution_count": null,
   "metadata": {},
   "outputs": [],
   "source": [
    "from keras.layers import Input, Embedding, LSTM, Dense,Merge\n",
    "from keras.models import Model\n",
    "\n",
    "emdedding_size=12 #\n",
    "vo_len=3 #\n",
    "vocab_size=11000 #\n",
    "a_train=patternX.reshape(-1,3,1)\n",
    "b_train=train_Y\n",
    "k=trainZ\n",
    "pretrained_weights=Matrix\n",
    "\n",
    "input_pattern = Input(shape=(3, 1),name=\"input_pattern\")\n",
    "lstm_out = LSTM(units=64)(input_pattern)\n",
    "lstm_out = Dropout(0.2)(lstm_out)\n",
    "\n",
    "x=Dense(250,activation='relu',name=\"C\")(lstm_out)\n",
    "x=Dropout(0.2)(x)\n",
    "x=Dense(180,activation='softmax')(x)\n",
    "\n",
    "\n",
    "model = Model(inputs=input_pattern, outputs=x)\n",
    "model.compile(loss='categorical_crossentropy', optimizer='adam',metrics=['accuracy'])\n",
    "\n",
    "print(model.summary()) # Summarize Model\n",
    "plot_model(model, to_file='t_lstm_test.png',show_shapes=True)\n",
    "history_withpre2 = model.fit(a_train, b_train, epochs=100, batch_size=16, verbose=2)"
   ]
  },
  {
   "cell_type": "markdown",
   "metadata": {},
   "source": [
    "plot_model(model, to_file='t_lstm_test.png',show_shapes=True)\n",
    "history1 = model.fit(a_train, b_train, epochs=100, batch_size=16, verbose=2)"
   ]
  },
  {
   "cell_type": "code",
   "execution_count": null,
   "metadata": {},
   "outputs": [],
   "source": [
    "from keras.layers import Input, Embedding, LSTM, Dense,Merge\n",
    "from keras.models import Model\n",
    "\n",
    "input_pattern = Input(shape=(3, a_train.shape[2]),name=\"input_pattern\")\n",
    "\n",
    "lstm_out = LSTM(512,input_shape=(3, a_train.shape[2]))(input_pattern)\n",
    "# lstm_out = LSTM(512,return_sequences=True,input_shape=(3, a_train.shape[2]))(input_pattern)\n",
    "# lstm_out = LSTM(300)(lstm_out)\n",
    "lstm_out = Dropout(0.2)(lstm_out)\n",
    "\n",
    "x=Dense(250,activation='relu',name=\"C\")(lstm_out)\n",
    "x=Dropout(0.2)(x)\n",
    "x=Dense(a_train.shape[2],activation='softmax')(x)\n",
    "\n",
    "model = Model(inputs=input_pattern, outputs=x)\n",
    "model.compile(loss='categorical_crossentropy', optimizer='adam',metrics=['accuracy'])\n",
    "\n",
    "print(model.summary()) # Summarize Model\n",
    "plot_model(model, to_file='t_lstm_test.png',show_shapes=True)"
   ]
  },
  {
   "cell_type": "code",
   "execution_count": null,
   "metadata": {},
   "outputs": [],
   "source": [
    "history = model.fit(a_train, b_train, epochs=100, batch_size=16, verbose=2, validation_data=(a_test, b_test))"
   ]
  },
  {
   "cell_type": "code",
   "execution_count": null,
   "metadata": {},
   "outputs": [],
   "source": [
    "print(history.history.keys())"
   ]
  },
  {
   "cell_type": "code",
   "execution_count": null,
   "metadata": {},
   "outputs": [],
   "source": [
    "fig = plt.figure()\n",
    "plt.plot(history.history['acc'])\n",
    "plt.plot(history1.history['acc'])\n",
    "plt.title('model accuracy')\n",
    "plt.ylabel('accuracy')\n",
    "plt.xlabel('epoch')\n",
    "plt.legend(['1-lstm', '2-lstm'], loc='upper left')"
   ]
  },
  {
   "cell_type": "code",
   "execution_count": null,
   "metadata": {},
   "outputs": [],
   "source": [
    "fig = plt.figure()\n",
    "plt.plot(history.history['acc'])\n",
    "plt.plot(history.history['val_acc'])\n",
    "plt.title('model accuracy')\n",
    "plt.ylabel('accuracy')\n",
    "plt.xlabel('epoch')\n",
    "plt.legend(['train', 'test'], loc='upper left')"
   ]
  },
  {
   "cell_type": "code",
   "execution_count": null,
   "metadata": {},
   "outputs": [],
   "source": [
    "plt.plot(history.history['loss'])\n",
    "plt.plot(history.history['val_loss'])\n",
    "plt.title('model loss')\n",
    "plt.ylabel('loss')\n",
    "plt.xlabel('epoch')\n",
    "plt.legend(['train', 'test'], loc='lower left')"
   ]
  },
  {
   "cell_type": "code",
   "execution_count": null,
   "metadata": {},
   "outputs": [],
   "source": [
    "train_X=train_X.reshape(-1,200)\n",
    "train_Y.reshape(-1,200)\n",
    "train_X.shape"
   ]
  },
  {
   "cell_type": "code",
   "execution_count": null,
   "metadata": {},
   "outputs": [],
   "source": [
    "train_Y.shape"
   ]
  },
  {
   "cell_type": "code",
   "execution_count": null,
   "metadata": {},
   "outputs": [],
   "source": [
    "from keras.layers import Input, Embedding, LSTM, Dense,Merge\n",
    "from keras.models import Model\n",
    "\n",
    "a_train=train_X\n",
    "b_train=train_Y\n",
    "k=trainZ\n",
    "\n",
    "input_pattern = Input(shape=(3, a_train.shape[2]),name=\"input_pattern\")\n",
    "input_id = Input(shape=(1,),name=\"input_id\")\n",
    "\n",
    "lstm_out = LSTM(250,input_shape=(3, a_train.shape[2]))(input_pattern)\n",
    "lstm_out = Dropout(0.2)(lstm_out)\n",
    "\n",
    "x = keras.layers.concatenate([lstm_out, input_id])\n",
    "x=Dense(250,activation='relu',name=\"C\")(x)\n",
    "x=Dropout(0.2)(x)\n",
    "x=Dense(a_train.shape[2],activation='softmax',name='x')(x)\n",
    "\n",
    "\n",
    "model = Model(inputs=[input_pattern,input_id], outputs=x)\n",
    "model.compile(loss='categorical_crossentropy', optimizer='adam',metrics=['accuracy'])\n",
    "\n",
    "print(model.summary()) # Summarize Model\n",
    "plot_model(model, to_file='t_lstm.png',show_shapes=True)"
   ]
  },
  {
   "cell_type": "code",
   "execution_count": null,
   "metadata": {},
   "outputs": [],
   "source": [
    "k=np.zeros(a_train.shape[0],dtype=np.int16)\n",
    "k=k.reshape(-1,1)\n",
    "\n",
    "k1=np.zeros(train_X.shape[0],dtype=np.int16)\n",
    "k1=k1.reshape(-1,1)"
   ]
  },
  {
   "cell_type": "code",
   "execution_count": null,
   "metadata": {
    "scrolled": true
   },
   "outputs": [],
   "source": [
    "history = model.fit({'input_pattern': a_train, 'input_id' : k}, {'x': b_train}, epochs=100, batch_size=64, verbose=2)"
   ]
  },
  {
   "cell_type": "code",
   "execution_count": null,
   "metadata": {},
   "outputs": [],
   "source": [
    "fig = plt.figure()\n",
    "Accuracy=[42.00,47.15 ,48.36, 49.35,47.42, 50.82, 52.31,56.93 ,57.15 ]\n",
    "x2=(20,30,40,50,60,70,80,90,100)\n",
    "plt.plot(x2,Accuracy)\n",
    "x1=range(0,100)\n",
    "plt.plot(x1,history.history['acc'])\n",
    "plt.title('model accuracy')\n",
    "plt.ylabel('accuracy')\n",
    "plt.xlabel('epoch')\n",
    "plt.legend(['100% total_data Yu','100% total_data Mine'], loc='upper left')\n",
    "\n"
   ]
  },
  {
   "cell_type": "code",
   "execution_count": null,
   "metadata": {},
   "outputs": [],
   "source": [
    "fig = plt.figure()\n",
    "plt.plot(history.history['acc'])\n",
    "plt.plot(history.history['val_acc'])\n",
    "plt.title('model accuracy')\n",
    "plt.ylabel('accuracy')\n",
    "plt.xlabel('epoch')\n",
    "plt.legend(['90% train_data', '100% total_data'], loc='upper left')"
   ]
  },
  {
   "cell_type": "code",
   "execution_count": null,
   "metadata": {},
   "outputs": [],
   "source": []
  },
  {
   "cell_type": "markdown",
   "metadata": {
    "collapsed": true
   },
   "source": [
    "model.fit(a_train, b_train, epochs=100, batch_size=16, verbose=2, validation_data=(a_test, b_test))"
   ]
  },
  {
   "cell_type": "code",
   "execution_count": null,
   "metadata": {},
   "outputs": [],
   "source": [
    "model.evaluate(train_X, train_Y, batch_size=64, verbose=2, sample_weight=None)"
   ]
  },
  {
   "cell_type": "code",
   "execution_count": null,
   "metadata": {},
   "outputs": [],
   "source": [
    "trainPredict = model.predict(train_X)\n",
    "D=np.argmax(train_Y,axis = 1)\n",
    "E=np.argmax(trainPredict,axis = 1)"
   ]
  },
  {
   "cell_type": "code",
   "execution_count": null,
   "metadata": {},
   "outputs": [],
   "source": [
    "print(D)\n",
    "print(E)"
   ]
  },
  {
   "cell_type": "code",
   "execution_count": null,
   "metadata": {},
   "outputs": [],
   "source": [
    "A=0 #total number of right\n",
    "for i,t in enumerate(E):\n",
    "    if D[i]==t :\n",
    "        A=A+1\n",
    "print(A/D.shape[0])"
   ]
  },
  {
   "cell_type": "code",
   "execution_count": null,
   "metadata": {},
   "outputs": [],
   "source": []
  }
 ],
 "metadata": {
  "kernelspec": {
   "display_name": "Python 3",
   "language": "python",
   "name": "python3"
  },
  "language_info": {
   "codemirror_mode": {
    "name": "ipython",
    "version": 3
   },
   "file_extension": ".py",
   "mimetype": "text/x-python",
   "name": "python",
   "nbconvert_exporter": "python",
   "pygments_lexer": "ipython3",
   "version": "3.5.2"
  }
 },
 "nbformat": 4,
 "nbformat_minor": 2
}
