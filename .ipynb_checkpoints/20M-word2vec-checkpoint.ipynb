{
 "cells": [
  {
   "cell_type": "code",
   "execution_count": 1,
   "metadata": {},
   "outputs": [
    {
     "name": "stderr",
     "output_type": "stream",
     "text": [
      "/usr/local/lib/python3.5/dist-packages/h5py/__init__.py:36: FutureWarning: Conversion of the second argument of issubdtype from `float` to `np.floating` is deprecated. In future, it will be treated as `np.float64 == np.dtype(float).type`.\n",
      "  from ._conv import register_converters as _register_converters\n",
      "Using TensorFlow backend.\n"
     ]
    }
   ],
   "source": [
    "import numpy as np\n",
    "import gensim\n",
    "import string\n",
    "\n",
    "from keras.callbacks import LambdaCallback\n",
    "from keras.layers.recurrent import LSTM\n",
    "from keras.layers.embeddings import Embedding\n",
    "from keras.layers import Dense, Activation\n",
    "from keras.models import Sequential\n",
    "from keras.utils.data_utils import get_file"
   ]
  },
  {
   "cell_type": "code",
   "execution_count": 2,
   "metadata": {},
   "outputs": [],
   "source": [
    "path=\"0.txt\"\n",
    "with open(path) as file_:\n",
    "  docs = file_.readlines()"
   ]
  },
  {
   "cell_type": "code",
   "execution_count": 7,
   "metadata": {},
   "outputs": [],
   "source": [
    "# translator= str.maketrans('','',string.punctuation)\n"
   ]
  },
  {
   "cell_type": "code",
   "execution_count": 12,
   "metadata": {},
   "outputs": [
    {
     "name": "stdout",
     "output_type": "stream",
     "text": [
      "Num sentences: 98\n"
     ]
    }
   ],
   "source": [
    "sentences = [[word for word in doc.lower().split()[:5]] for doc in docs]\n",
    "print('Num sentences:', len(sentences))"
   ]
  },
  {
   "cell_type": "code",
   "execution_count": 13,
   "metadata": {},
   "outputs": [
    {
     "data": {
      "text/plain": [
       "[['167', '157', '150', '150'],\n",
       " ['31', '31', '31', '130', '65'],\n",
       " ['1', '26'],\n",
       " ['1'],\n",
       " ['131'],\n",
       " ['1', '26'],\n",
       " ['108', '52', '131', '26'],\n",
       " ['26', '181'],\n",
       " ['1', '1', '150', '150', '150'],\n",
       " ['126', '64', '1', '1', '181'],\n",
       " ['150', '181', '150', '150', '181'],\n",
       " ['150', '150'],\n",
       " ['181'],\n",
       " ['1', '108'],\n",
       " ['181', '150', '157'],\n",
       " ['150'],\n",
       " ['150'],\n",
       " ['181', '150', '167'],\n",
       " ['1'],\n",
       " ['181'],\n",
       " ['150', '181', '181'],\n",
       " ['150', '150', '150', '1'],\n",
       " ['181'],\n",
       " ['181'],\n",
       " ['181', '157', '181', '181'],\n",
       " ['181', '1'],\n",
       " ['181', '150', '181', '181', '181'],\n",
       " ['181', '1'],\n",
       " ['181', '150'],\n",
       " ['181', '150', '150'],\n",
       " ['150', '150', '196', '150', '150'],\n",
       " ['139', '68', '150'],\n",
       " ['181', '1', '1', '108', '15'],\n",
       " ['116', '196', '108', '193'],\n",
       " ['65'],\n",
       " ['90', '64'],\n",
       " ['159'],\n",
       " ['159', '181'],\n",
       " ['181'],\n",
       " ['181'],\n",
       " ['1'],\n",
       " ['197', '159', '28', '159', '108'],\n",
       " ['150', '181'],\n",
       " ['108'],\n",
       " ['181', '181'],\n",
       " ['181'],\n",
       " ['150', '1', '108'],\n",
       " ['97', '131', '108', '159', '28'],\n",
       " ['28', '146', '108', '1', '150'],\n",
       " ['181', '150', '150', '1'],\n",
       " ['181', '162', '181', '1', '196'],\n",
       " ['70'],\n",
       " ['150', '84'],\n",
       " ['51', '196'],\n",
       " ['79'],\n",
       " ['181'],\n",
       " ['181', '150', '181'],\n",
       " ['1', '181', '1'],\n",
       " ['181', '1'],\n",
       " ['181', '150', '181', '181', '181'],\n",
       " ['181', '150', '150', '181', '181'],\n",
       " ['181'],\n",
       " ['181'],\n",
       " ['181', '181', '181'],\n",
       " ['181', '116'],\n",
       " ['32'],\n",
       " ['181', '181', '150'],\n",
       " ['1'],\n",
       " ['197'],\n",
       " ['197', '52', '119', '198'],\n",
       " ['181', '181', '52', '104', '1'],\n",
       " ['150'],\n",
       " ['181', '181'],\n",
       " ['181', '7'],\n",
       " ['150', '181', '181'],\n",
       " ['1'],\n",
       " ['1'],\n",
       " ['181', '181', '181'],\n",
       " ['181'],\n",
       " ['108', '57', '57', '191', '15'],\n",
       " ['132', '132', '56'],\n",
       " ['181', '181'],\n",
       " ['1', '198'],\n",
       " ['181'],\n",
       " ['181'],\n",
       " ['1', '181', '181'],\n",
       " ['150', '150', '181', '181', '150'],\n",
       " ['1'],\n",
       " ['181'],\n",
       " ['157', '1', '181', '1', '181'],\n",
       " ['181'],\n",
       " ['116'],\n",
       " ['116', '150', '150', '181'],\n",
       " ['181', '181'],\n",
       " ['181'],\n",
       " ['184', '108', '157', '157', '1'],\n",
       " ['181', '181', '1'],\n",
       " ['181', '131', '17']]"
      ]
     },
     "execution_count": 13,
     "metadata": {},
     "output_type": "execute_result"
    }
   ],
   "source": [
    "sentences"
   ]
  },
  {
   "cell_type": "code",
   "execution_count": 26,
   "metadata": {},
   "outputs": [
    {
     "name": "stdout",
     "output_type": "stream",
     "text": [
      "\n",
      "Training word2vec...\n",
      "Result embedding shape: (21, 100)\n"
     ]
    },
    {
     "name": "stderr",
     "output_type": "stream",
     "text": [
      "/usr/local/lib/python3.5/dist-packages/ipykernel_launcher.py:3: DeprecationWarning: Call to deprecated `syn0` (Attribute will be removed in 4.0.0, use self.wv.vectors instead).\n",
      "  This is separate from the ipykernel package so we can avoid doing imports until\n"
     ]
    }
   ],
   "source": [
    "print('\\nTraining word2vec...')\n",
    "word_model = gensim.models.Word2Vec(sentences, size=100, min_count=2, window=1, iter=100)\n",
    "pretrained_weights = word_model.wv.syn0\n",
    "vocab_size, emdedding_size = pretrained_weights.shape\n",
    "print('Result embedding shape:', pretrained_weights.shape)"
   ]
  },
  {
   "cell_type": "code",
   "execution_count": 25,
   "metadata": {},
   "outputs": [
    {
     "name": "stdout",
     "output_type": "stream",
     "text": [
      "7\n",
      "167\n",
      "193\n",
      "150\n",
      "196\n",
      "162\n",
      "70\n",
      "64\n",
      "1\n",
      "126\n",
      "17\n",
      "191\n",
      "97\n",
      "104\n",
      "90\n",
      "159\n",
      "65\n",
      "130\n",
      "184\n",
      "181\n",
      "84\n",
      "119\n",
      "157\n",
      "57\n",
      "31\n",
      "146\n",
      "52\n",
      "116\n",
      "108\n",
      "15\n",
      "56\n",
      "197\n",
      "131\n",
      "51\n",
      "68\n",
      "28\n",
      "139\n",
      "198\n",
      "79\n",
      "32\n",
      "26\n",
      "132\n"
     ]
    }
   ],
   "source": [
    "for v in word_model.wv.vocab:\n",
    "    print(v)"
   ]
  },
  {
   "cell_type": "code",
   "execution_count": null,
   "metadata": {},
   "outputs": [],
   "source": []
  },
  {
   "cell_type": "code",
   "execution_count": 40,
   "metadata": {},
   "outputs": [],
   "source": [
    "def word2idx(word):\n",
    "  return word_model.wv.vocab[word].index\n",
    "def idx2word(idx):\n",
    "  return word_model.wv.index2word[idx]"
   ]
  },
  {
   "cell_type": "code",
   "execution_count": null,
   "metadata": {},
   "outputs": [],
   "source": []
  },
  {
   "cell_type": "code",
   "execution_count": 43,
   "metadata": {},
   "outputs": [
    {
     "ename": "KeyError",
     "evalue": "167",
     "output_type": "error",
     "traceback": [
      "\u001b[0;31m-------------------------------------------------------------\u001b[0m",
      "\u001b[0;31mKeyError\u001b[0m                    Traceback (most recent call last)",
      "\u001b[0;32m<ipython-input-43-4b483c81c7f0>\u001b[0m in \u001b[0;36m<module>\u001b[0;34m()\u001b[0m\n\u001b[0;32m----> 1\u001b[0;31m \u001b[0mword2idx\u001b[0m\u001b[0;34m(\u001b[0m\u001b[0;36m167\u001b[0m\u001b[0;34m)\u001b[0m\u001b[0;34m\u001b[0m\u001b[0m\n\u001b[0m",
      "\u001b[0;32m<ipython-input-40-bcf4b9d7d450>\u001b[0m in \u001b[0;36mword2idx\u001b[0;34m(word)\u001b[0m\n\u001b[1;32m      1\u001b[0m \u001b[0;32mdef\u001b[0m \u001b[0mword2idx\u001b[0m\u001b[0;34m(\u001b[0m\u001b[0mword\u001b[0m\u001b[0;34m)\u001b[0m\u001b[0;34m:\u001b[0m\u001b[0;34m\u001b[0m\u001b[0m\n\u001b[0;32m----> 2\u001b[0;31m   \u001b[0;32mreturn\u001b[0m \u001b[0mword_model\u001b[0m\u001b[0;34m.\u001b[0m\u001b[0mwv\u001b[0m\u001b[0;34m.\u001b[0m\u001b[0mvocab\u001b[0m\u001b[0;34m[\u001b[0m\u001b[0mword\u001b[0m\u001b[0;34m]\u001b[0m\u001b[0;34m.\u001b[0m\u001b[0mindex\u001b[0m\u001b[0;34m\u001b[0m\u001b[0m\n\u001b[0m\u001b[1;32m      3\u001b[0m \u001b[0;32mdef\u001b[0m \u001b[0midx2word\u001b[0m\u001b[0;34m(\u001b[0m\u001b[0midx\u001b[0m\u001b[0;34m)\u001b[0m\u001b[0;34m:\u001b[0m\u001b[0;34m\u001b[0m\u001b[0m\n\u001b[1;32m      4\u001b[0m   \u001b[0;32mreturn\u001b[0m \u001b[0mword_model\u001b[0m\u001b[0;34m.\u001b[0m\u001b[0mwv\u001b[0m\u001b[0;34m.\u001b[0m\u001b[0mindex2word\u001b[0m\u001b[0;34m[\u001b[0m\u001b[0midx\u001b[0m\u001b[0;34m]\u001b[0m\u001b[0;34m\u001b[0m\u001b[0m\n",
      "\u001b[0;31mKeyError\u001b[0m: 167"
     ]
    }
   ],
   "source": [
    "word2idx(167)"
   ]
  },
  {
   "cell_type": "code",
   "execution_count": null,
   "metadata": {},
   "outputs": [],
   "source": []
  },
  {
   "cell_type": "code",
   "execution_count": null,
   "metadata": {},
   "outputs": [],
   "source": []
  },
  {
   "cell_type": "code",
   "execution_count": null,
   "metadata": {},
   "outputs": [],
   "source": []
  },
  {
   "cell_type": "code",
   "execution_count": null,
   "metadata": {},
   "outputs": [],
   "source": []
  },
  {
   "cell_type": "code",
   "execution_count": 30,
   "metadata": {},
   "outputs": [
    {
     "data": {
      "text/plain": [
       "'2'"
      ]
     },
     "execution_count": 30,
     "metadata": {},
     "output_type": "execute_result"
    }
   ],
   "source": [
    "idx2word(8)"
   ]
  },
  {
   "cell_type": "code",
   "execution_count": null,
   "metadata": {},
   "outputs": [],
   "source": []
  },
  {
   "cell_type": "code",
   "execution_count": null,
   "metadata": {},
   "outputs": [],
   "source": []
  }
 ],
 "metadata": {
  "kernelspec": {
   "display_name": "Python 3",
   "language": "python",
   "name": "python3"
  },
  "language_info": {
   "codemirror_mode": {
    "name": "ipython",
    "version": 3
   },
   "file_extension": ".py",
   "mimetype": "text/x-python",
   "name": "python",
   "nbconvert_exporter": "python",
   "pygments_lexer": "ipython3",
   "version": "3.5.2"
  }
 },
 "nbformat": 4,
 "nbformat_minor": 2
}
