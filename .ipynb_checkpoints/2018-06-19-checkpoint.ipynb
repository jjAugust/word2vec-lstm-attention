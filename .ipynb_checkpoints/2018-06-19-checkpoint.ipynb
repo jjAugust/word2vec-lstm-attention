{
 "cells": [
  {
   "cell_type": "code",
   "execution_count": 1,
   "metadata": {},
   "outputs": [
    {
     "name": "stderr",
     "output_type": "stream",
     "text": [
      "/usr/local/lib/python3.5/dist-packages/h5py/__init__.py:36: FutureWarning: Conversion of the second argument of issubdtype from `float` to `np.floating` is deprecated. In future, it will be treated as `np.float64 == np.dtype(float).type`.\n",
      "  from ._conv import register_converters as _register_converters\n",
      "Using TensorFlow backend.\n",
      "/usr/local/lib/python3.5/dist-packages/sklearn/cross_validation.py:41: DeprecationWarning: This module was deprecated in version 0.18 in favor of the model_selection module into which all the refactored classes and functions are moved. Also note that the interface of the new CV iterators are different from that of this module. This module will be removed in 0.20.\n",
      "  \"This module will be removed in 0.20.\", DeprecationWarning)\n"
     ]
    }
   ],
   "source": [
    "# LSTM for international airline passengers problem with window regression framing\n",
    "import numpy\n",
    "import numpy as np\n",
    "import keras\n",
    "import matplotlib.pyplot as plt\n",
    "from pandas import read_csv\n",
    "import math\n",
    "from keras.models import Sequential\n",
    "from keras.layers import Dense,Dropout\n",
    "from keras.layers import LSTM\n",
    "from sklearn.preprocessing import MinMaxScaler\n",
    "from sklearn.metrics import mean_squared_error\n",
    "from sklearn.preprocessing import OneHotEncoder\n",
    "from sklearn.cross_validation import train_test_split\n",
    "from keras.utils.vis_utils import plot_model"
   ]
  },
  {
   "cell_type": "code",
   "execution_count": 2,
   "metadata": {},
   "outputs": [],
   "source": [
    "# convert an array of values into a dataset matrix\n",
    "def create_dataset(dataset, look_back=1):\n",
    "\tdataX, dataY = [], []\n",
    "\tfor i in range(len(dataset)-look_back-1):\n",
    "\t\ta = dataset[i:(i+look_back), 0]\n",
    "\t\tdataX.append(a)\n",
    "\t\tdataY.append(dataset[i + look_back, 0])\n",
    "\treturn numpy.array(dataX), numpy.array(dataY)"
   ]
  },
  {
   "cell_type": "code",
   "execution_count": 3,
   "metadata": {},
   "outputs": [],
   "source": [
    "# fix random seed for reproducibility\n",
    "numpy.random.seed(7)\n",
    "# load the dataset\n",
    "# dataframe = read_csv('w_d_v.csv', usecols=[7], engine='python', skipfooter=3)\n",
    "dataframe = read_csv('00.txt', usecols=[0], engine='python',skiprows=-1)\n",
    "all_data = read_csv('all_data.csv', usecols=[7], engine='python', skipfooter=3)\n",
    "dataset = dataframe.values\n",
    "allData=all_data.values"
   ]
  },
  {
   "cell_type": "code",
   "execution_count": 4,
   "metadata": {},
   "outputs": [],
   "source": [
    "look_back = 3\n",
    "trainX, trainY = create_dataset(dataset, look_back)\n",
    "AllX, AllY = create_dataset(allData, look_back)\n",
    "trainY=numpy.reshape(trainY,(trainY.shape[0],-1))\n",
    "AllY=numpy.reshape(AllY,(AllY.shape[0],-1))"
   ]
  },
  {
   "cell_type": "code",
   "execution_count": 5,
   "metadata": {},
   "outputs": [
    {
     "data": {
      "text/plain": [
       "OneHotEncoder(categorical_features='all', dtype=<class 'numpy.float64'>,\n",
       "       handle_unknown='error', n_values='auto', sparse=True)"
      ]
     },
     "execution_count": 5,
     "metadata": {},
     "output_type": "execute_result"
    }
   ],
   "source": [
    "encX = OneHotEncoder()\n",
    "encX.fit(AllX)\n",
    "encY = OneHotEncoder()\n",
    "encY.fit(AllY)"
   ]
  },
  {
   "cell_type": "code",
   "execution_count": 6,
   "metadata": {},
   "outputs": [],
   "source": [
    "trainX_one=encX.transform(trainX).toarray()\n",
    "train_X=numpy.reshape(trainX_one,(trainX_one.shape[0],look_back,-1))\n",
    "train_Y=encY.transform(trainY).toarray()"
   ]
  },
  {
   "cell_type": "code",
   "execution_count": 7,
   "metadata": {},
   "outputs": [],
   "source": [
    "a_train, a_test, b_train, b_test = train_test_split(train_X, train_Y, test_size=0.1, random_state=42)"
   ]
  },
  {
   "cell_type": "code",
   "execution_count": 61,
   "metadata": {},
   "outputs": [
    {
     "name": "stdout",
     "output_type": "stream",
     "text": [
      "_________________________________________________________________\n",
      "Layer (type)                 Output Shape              Param #   \n",
      "=================================================================\n",
      "input_pattern (InputLayer)   (None, 3, 200)            0         \n",
      "_________________________________________________________________\n",
      "lstm_17 (LSTM)               (None, 512)               1460224   \n",
      "_________________________________________________________________\n",
      "dropout_17 (Dropout)         (None, 512)               0         \n",
      "_________________________________________________________________\n",
      "C (Dense)                    (None, 250)               128250    \n",
      "_________________________________________________________________\n",
      "dropout_18 (Dropout)         (None, 250)               0         \n",
      "_________________________________________________________________\n",
      "dense_6 (Dense)              (None, 200)               50200     \n",
      "=================================================================\n",
      "Total params: 1,638,674\n",
      "Trainable params: 1,638,674\n",
      "Non-trainable params: 0\n",
      "_________________________________________________________________\n",
      "None\n",
      "Train on 226 samples, validate on 26 samples\n",
      "Epoch 1/100\n",
      " - 2s - loss: 5.0648 - acc: 0.2920 - val_loss: 4.0741 - val_acc: 0.3846\n",
      "Epoch 2/100\n",
      " - 1s - loss: 3.1848 - acc: 0.3319 - val_loss: 2.8573 - val_acc: 0.1538\n",
      "Epoch 3/100\n",
      " - 1s - loss: 2.6725 - acc: 0.2389 - val_loss: 2.7125 - val_acc: 0.3846\n",
      "Epoch 4/100\n",
      " - 1s - loss: 2.4920 - acc: 0.3274 - val_loss: 2.7269 - val_acc: 0.3846\n",
      "Epoch 5/100\n",
      " - 1s - loss: 2.4152 - acc: 0.3319 - val_loss: 2.7416 - val_acc: 0.3846\n",
      "Epoch 6/100\n",
      " - 1s - loss: 2.3825 - acc: 0.3319 - val_loss: 2.8098 - val_acc: 0.4231\n",
      "Epoch 7/100\n",
      " - 1s - loss: 2.3793 - acc: 0.3230 - val_loss: 2.9328 - val_acc: 0.3846\n",
      "Epoch 8/100\n",
      " - 1s - loss: 2.3246 - acc: 0.3540 - val_loss: 2.9493 - val_acc: 0.4231\n",
      "Epoch 9/100\n",
      " - 1s - loss: 2.3005 - acc: 0.3496 - val_loss: 2.9690 - val_acc: 0.3846\n",
      "Epoch 10/100\n",
      " - 1s - loss: 2.3137 - acc: 0.3496 - val_loss: 3.0483 - val_acc: 0.4231\n",
      "Epoch 11/100\n",
      " - 1s - loss: 2.2343 - acc: 0.3540 - val_loss: 2.9954 - val_acc: 0.4231\n",
      "Epoch 12/100\n",
      " - 1s - loss: 2.2350 - acc: 0.3319 - val_loss: 3.0160 - val_acc: 0.4231\n",
      "Epoch 13/100\n",
      " - 1s - loss: 2.1433 - acc: 0.3673 - val_loss: 3.1792 - val_acc: 0.4231\n",
      "Epoch 14/100\n",
      " - 1s - loss: 2.0926 - acc: 0.3628 - val_loss: 3.1310 - val_acc: 0.3846\n",
      "Epoch 15/100\n",
      " - 1s - loss: 2.0818 - acc: 0.3496 - val_loss: 3.1217 - val_acc: 0.3462\n",
      "Epoch 16/100\n",
      " - 1s - loss: 1.9737 - acc: 0.4071 - val_loss: 3.1564 - val_acc: 0.3846\n",
      "Epoch 17/100\n",
      " - 1s - loss: 1.9213 - acc: 0.4027 - val_loss: 3.4271 - val_acc: 0.3846\n",
      "Epoch 18/100\n",
      " - 1s - loss: 1.8701 - acc: 0.4115 - val_loss: 3.3983 - val_acc: 0.4231\n",
      "Epoch 19/100\n",
      " - 1s - loss: 1.8206 - acc: 0.4071 - val_loss: 3.2504 - val_acc: 0.3846\n",
      "Epoch 20/100\n",
      " - 1s - loss: 1.7057 - acc: 0.4690 - val_loss: 3.5719 - val_acc: 0.3846\n",
      "Epoch 21/100\n",
      " - 1s - loss: 1.6260 - acc: 0.4867 - val_loss: 3.5396 - val_acc: 0.3462\n",
      "Epoch 22/100\n",
      " - 1s - loss: 1.5940 - acc: 0.4867 - val_loss: 3.5154 - val_acc: 0.3846\n",
      "Epoch 23/100\n",
      " - 1s - loss: 1.5131 - acc: 0.4912 - val_loss: 3.6106 - val_acc: 0.3462\n",
      "Epoch 24/100\n",
      " - 1s - loss: 1.3970 - acc: 0.5265 - val_loss: 4.0032 - val_acc: 0.3462\n",
      "Epoch 25/100\n",
      " - 1s - loss: 1.4077 - acc: 0.5619 - val_loss: 3.7015 - val_acc: 0.3462\n",
      "Epoch 26/100\n",
      " - 1s - loss: 1.3801 - acc: 0.5575 - val_loss: 3.8544 - val_acc: 0.3462\n",
      "Epoch 27/100\n",
      " - 1s - loss: 1.2902 - acc: 0.5796 - val_loss: 3.9452 - val_acc: 0.3077\n",
      "Epoch 28/100\n",
      " - 1s - loss: 1.2257 - acc: 0.5619 - val_loss: 3.8325 - val_acc: 0.2692\n",
      "Epoch 29/100\n",
      " - 1s - loss: 1.1885 - acc: 0.5708 - val_loss: 3.9858 - val_acc: 0.3077\n",
      "Epoch 30/100\n",
      " - 1s - loss: 1.0746 - acc: 0.6372 - val_loss: 4.0075 - val_acc: 0.3462\n",
      "Epoch 31/100\n",
      " - 1s - loss: 1.0895 - acc: 0.5973 - val_loss: 4.2323 - val_acc: 0.3077\n",
      "Epoch 32/100\n",
      " - 1s - loss: 1.1300 - acc: 0.6150 - val_loss: 4.0172 - val_acc: 0.1538\n",
      "Epoch 33/100\n",
      " - 1s - loss: 1.1177 - acc: 0.6018 - val_loss: 4.0394 - val_acc: 0.3077\n",
      "Epoch 34/100\n",
      " - 1s - loss: 1.0765 - acc: 0.6283 - val_loss: 3.7695 - val_acc: 0.3077\n",
      "Epoch 35/100\n",
      " - 1s - loss: 1.0350 - acc: 0.6593 - val_loss: 4.0979 - val_acc: 0.3462\n",
      "Epoch 36/100\n",
      " - 1s - loss: 1.0193 - acc: 0.6549 - val_loss: 4.1454 - val_acc: 0.3077\n",
      "Epoch 37/100\n",
      " - 1s - loss: 0.9548 - acc: 0.6637 - val_loss: 4.1190 - val_acc: 0.2308\n",
      "Epoch 38/100\n",
      " - 1s - loss: 0.9928 - acc: 0.6416 - val_loss: 4.2012 - val_acc: 0.1923\n",
      "Epoch 39/100\n",
      " - 1s - loss: 0.9079 - acc: 0.6903 - val_loss: 4.3198 - val_acc: 0.3077\n",
      "Epoch 40/100\n",
      " - 1s - loss: 0.8960 - acc: 0.6549 - val_loss: 4.4937 - val_acc: 0.2308\n",
      "Epoch 41/100\n",
      " - 1s - loss: 0.8848 - acc: 0.6770 - val_loss: 4.3634 - val_acc: 0.2692\n",
      "Epoch 42/100\n",
      " - 1s - loss: 0.8497 - acc: 0.6858 - val_loss: 4.4704 - val_acc: 0.1923\n",
      "Epoch 43/100\n",
      " - 1s - loss: 0.8742 - acc: 0.6903 - val_loss: 4.2214 - val_acc: 0.1923\n",
      "Epoch 44/100\n",
      " - 1s - loss: 0.9371 - acc: 0.6327 - val_loss: 4.3859 - val_acc: 0.1923\n",
      "Epoch 45/100\n",
      " - 1s - loss: 0.9064 - acc: 0.6504 - val_loss: 4.3739 - val_acc: 0.2692\n",
      "Epoch 46/100\n",
      " - 1s - loss: 0.8214 - acc: 0.6947 - val_loss: 4.5456 - val_acc: 0.3077\n",
      "Epoch 47/100\n",
      " - 1s - loss: 0.8527 - acc: 0.6991 - val_loss: 4.1933 - val_acc: 0.2308\n",
      "Epoch 48/100\n",
      " - 1s - loss: 0.8217 - acc: 0.6947 - val_loss: 4.3731 - val_acc: 0.1923\n",
      "Epoch 49/100\n",
      " - 1s - loss: 0.8826 - acc: 0.6814 - val_loss: 4.1702 - val_acc: 0.1923\n",
      "Epoch 50/100\n",
      " - 1s - loss: 0.8410 - acc: 0.6947 - val_loss: 4.2904 - val_acc: 0.1923\n",
      "Epoch 51/100\n",
      " - 1s - loss: 0.8032 - acc: 0.7080 - val_loss: 4.5718 - val_acc: 0.3077\n",
      "Epoch 52/100\n",
      " - 1s - loss: 0.7713 - acc: 0.7301 - val_loss: 4.4025 - val_acc: 0.1923\n",
      "Epoch 53/100\n",
      " - 1s - loss: 0.8523 - acc: 0.6681 - val_loss: 4.4644 - val_acc: 0.2692\n",
      "Epoch 54/100\n",
      " - 1s - loss: 0.7950 - acc: 0.6903 - val_loss: 4.1981 - val_acc: 0.2308\n",
      "Epoch 55/100\n",
      " - 1s - loss: 0.7453 - acc: 0.7035 - val_loss: 4.6157 - val_acc: 0.2692\n",
      "Epoch 56/100\n",
      " - 1s - loss: 0.7768 - acc: 0.6947 - val_loss: 4.4287 - val_acc: 0.3077\n",
      "Epoch 57/100\n",
      " - 1s - loss: 0.7637 - acc: 0.7522 - val_loss: 4.4782 - val_acc: 0.2308\n",
      "Epoch 58/100\n",
      " - 1s - loss: 0.7110 - acc: 0.7345 - val_loss: 4.6815 - val_acc: 0.3077\n",
      "Epoch 59/100\n",
      " - 1s - loss: 0.7685 - acc: 0.7168 - val_loss: 4.7560 - val_acc: 0.3077\n",
      "Epoch 60/100\n",
      " - 1s - loss: 0.7246 - acc: 0.7124 - val_loss: 4.7406 - val_acc: 0.2692\n",
      "Epoch 61/100\n",
      " - 1s - loss: 0.7165 - acc: 0.7478 - val_loss: 4.7414 - val_acc: 0.2308\n",
      "Epoch 62/100\n",
      " - 1s - loss: 0.7120 - acc: 0.7345 - val_loss: 4.5103 - val_acc: 0.1923\n",
      "Epoch 63/100\n",
      " - 1s - loss: 0.6979 - acc: 0.7566 - val_loss: 4.8017 - val_acc: 0.2692\n",
      "Epoch 64/100\n",
      " - 1s - loss: 0.7014 - acc: 0.7301 - val_loss: 4.6655 - val_acc: 0.1923\n",
      "Epoch 65/100\n",
      " - 1s - loss: 0.6429 - acc: 0.7611 - val_loss: 4.6928 - val_acc: 0.2692\n",
      "Epoch 66/100\n",
      " - 1s - loss: 0.7313 - acc: 0.7168 - val_loss: 4.6329 - val_acc: 0.2692\n",
      "Epoch 67/100\n",
      " - 1s - loss: 0.6811 - acc: 0.7168 - val_loss: 4.6024 - val_acc: 0.2692\n",
      "Epoch 68/100\n",
      " - 1s - loss: 0.7348 - acc: 0.7434 - val_loss: 4.4693 - val_acc: 0.3077\n",
      "Epoch 69/100\n",
      " - 1s - loss: 0.8130 - acc: 0.6770 - val_loss: 4.1315 - val_acc: 0.2692\n",
      "Epoch 70/100\n",
      " - 1s - loss: 0.6675 - acc: 0.7655 - val_loss: 4.7016 - val_acc: 0.2692\n",
      "Epoch 71/100\n",
      " - 1s - loss: 0.6619 - acc: 0.7478 - val_loss: 4.9125 - val_acc: 0.2692\n",
      "Epoch 72/100\n",
      " - 1s - loss: 0.6348 - acc: 0.7478 - val_loss: 5.1235 - val_acc: 0.2692\n",
      "Epoch 73/100\n",
      " - 1s - loss: 0.6645 - acc: 0.7522 - val_loss: 4.6966 - val_acc: 0.1923\n",
      "Epoch 74/100\n",
      " - 1s - loss: 0.6496 - acc: 0.7345 - val_loss: 4.9011 - val_acc: 0.2692\n",
      "Epoch 75/100\n",
      " - 1s - loss: 0.6413 - acc: 0.7345 - val_loss: 4.9173 - val_acc: 0.2692\n",
      "Epoch 76/100\n",
      " - 1s - loss: 0.6567 - acc: 0.7345 - val_loss: 4.7671 - val_acc: 0.2308\n",
      "Epoch 77/100\n",
      " - 1s - loss: 0.6505 - acc: 0.7566 - val_loss: 4.8518 - val_acc: 0.2308\n",
      "Epoch 78/100\n",
      " - 1s - loss: 0.6280 - acc: 0.7699 - val_loss: 4.8465 - val_acc: 0.1923\n",
      "Epoch 79/100\n",
      " - 1s - loss: 0.6418 - acc: 0.7566 - val_loss: 5.0400 - val_acc: 0.2692\n",
      "Epoch 80/100\n",
      " - 1s - loss: 0.6331 - acc: 0.7522 - val_loss: 4.7089 - val_acc: 0.2308\n",
      "Epoch 81/100\n",
      " - 1s - loss: 0.6437 - acc: 0.7743 - val_loss: 4.9577 - val_acc: 0.2692\n",
      "Epoch 82/100\n",
      " - 1s - loss: 0.6444 - acc: 0.7611 - val_loss: 4.9803 - val_acc: 0.2692\n",
      "Epoch 83/100\n",
      " - 1s - loss: 0.6337 - acc: 0.7699 - val_loss: 4.9061 - val_acc: 0.2692\n"
     ]
    },
    {
     "name": "stdout",
     "output_type": "stream",
     "text": [
      "Epoch 84/100\n",
      " - 1s - loss: 0.6183 - acc: 0.7434 - val_loss: 5.1124 - val_acc: 0.1923\n",
      "Epoch 85/100\n",
      " - 1s - loss: 0.5994 - acc: 0.7788 - val_loss: 5.1382 - val_acc: 0.2692\n",
      "Epoch 86/100\n",
      " - 1s - loss: 0.6305 - acc: 0.7434 - val_loss: 5.0336 - val_acc: 0.1923\n",
      "Epoch 87/100\n",
      " - 1s - loss: 0.6449 - acc: 0.7434 - val_loss: 4.6759 - val_acc: 0.2692\n",
      "Epoch 88/100\n",
      " - 1s - loss: 0.6332 - acc: 0.7434 - val_loss: 4.8470 - val_acc: 0.3077\n",
      "Epoch 89/100\n",
      " - 1s - loss: 0.6224 - acc: 0.7699 - val_loss: 5.0224 - val_acc: 0.3077\n",
      "Epoch 90/100\n",
      " - 1s - loss: 0.6585 - acc: 0.7389 - val_loss: 4.8944 - val_acc: 0.2692\n",
      "Epoch 91/100\n",
      " - 1s - loss: 0.5822 - acc: 0.7832 - val_loss: 4.6571 - val_acc: 0.2692\n",
      "Epoch 92/100\n",
      " - 1s - loss: 0.6341 - acc: 0.7522 - val_loss: 4.7465 - val_acc: 0.2308\n",
      "Epoch 93/100\n",
      " - 1s - loss: 0.6408 - acc: 0.7699 - val_loss: 4.8180 - val_acc: 0.2692\n",
      "Epoch 94/100\n",
      " - 1s - loss: 0.6122 - acc: 0.7611 - val_loss: 4.9027 - val_acc: 0.2692\n",
      "Epoch 95/100\n",
      " - 1s - loss: 0.5579 - acc: 0.7876 - val_loss: 5.0320 - val_acc: 0.2692\n",
      "Epoch 96/100\n",
      " - 1s - loss: 0.6774 - acc: 0.7389 - val_loss: 4.7808 - val_acc: 0.2692\n",
      "Epoch 97/100\n",
      " - 1s - loss: 0.6077 - acc: 0.7743 - val_loss: 4.9472 - val_acc: 0.2308\n",
      "Epoch 98/100\n",
      " - 1s - loss: 0.6165 - acc: 0.7611 - val_loss: 4.9263 - val_acc: 0.2308\n",
      "Epoch 99/100\n",
      " - 1s - loss: 0.5918 - acc: 0.7655 - val_loss: 4.8759 - val_acc: 0.2692\n",
      "Epoch 100/100\n",
      " - 1s - loss: 0.5963 - acc: 0.7699 - val_loss: 4.9528 - val_acc: 0.2692\n"
     ]
    }
   ],
   "source": [
    "from keras.layers import Input, Embedding, LSTM, Dense,Merge\n",
    "from keras.models import Model\n",
    "\n",
    "input_pattern = Input(shape=(3, a_train.shape[2]),name=\"input_pattern\")\n",
    "\n",
    "lstm_out = LSTM(512,input_shape=(3, a_train.shape[2]))(input_pattern)\n",
    "# lstm_out = LSTM(512,return_sequences=True,input_shape=(3, a_train.shape[2]))(input_pattern)\n",
    "# lstm_out = LSTM(300)(lstm_out)\n",
    "lstm_out = Dropout(0.2)(lstm_out)\n",
    "\n",
    "x=Dense(250,activation='relu',name=\"C\")(lstm_out)\n",
    "x=Dropout(0.2)(x)\n",
    "x=Dense(a_train.shape[2],activation='softmax')(x)\n",
    "\n",
    "\n",
    "model = Model(inputs=input_pattern, outputs=x)\n",
    "model.compile(loss='categorical_crossentropy', optimizer='adam',metrics=['accuracy'])\n",
    "\n",
    "print(model.summary()) # Summarize Model\n",
    "plot_model(model, to_file='t_lstm_test.png',show_shapes=True)\n",
    "history = model.fit(a_train, b_train, epochs=100, batch_size=16, verbose=2, validation_data=(a_test, b_test))"
   ]
  },
  {
   "cell_type": "code",
   "execution_count": 11,
   "metadata": {},
   "outputs": [
    {
     "name": "stdout",
     "output_type": "stream",
     "text": [
      "dict_keys(['val_loss', 'val_acc', 'loss', 'acc'])\n"
     ]
    }
   ],
   "source": [
    "print(history.history.keys())"
   ]
  },
  {
   "cell_type": "code",
   "execution_count": 14,
   "metadata": {},
   "outputs": [
    {
     "data": {
      "text/plain": [
       "<matplotlib.legend.Legend at 0x7faec1ae3fd0>"
      ]
     },
     "execution_count": 14,
     "metadata": {},
     "output_type": "execute_result"
    },
    {
     "data": {
      "image/png": "[encoded data removed]",
      "text/plain": [
       "<Figure size 432x288 with 1 Axes>"
      ]
     },
     "metadata": {},
     "output_type": "display_data"
    }
   ],
   "source": [
    "fig = plt.figure()\n",
    "plt.plot(history.history['acc'])\n",
    "plt.plot(history.history['val_acc'])\n",
    "plt.title('model accuracy')\n",
    "plt.ylabel('accuracy')\n",
    "plt.xlabel('epoch')\n",
    "plt.legend(['train', 'test'], loc='upper left')"
   ]
  },
  {
   "cell_type": "code",
   "execution_count": 13,
   "metadata": {},
   "outputs": [
    {
     "data": {
      "text/plain": [
       "<matplotlib.legend.Legend at 0x7faec1b21e10>"
      ]
     },
     "execution_count": 13,
     "metadata": {},
     "output_type": "execute_result"
    },
    {
     "data": {
      "image/png": "[encoded data removed]",
      "text/plain": [
       "<Figure size 432x288 with 1 Axes>"
      ]
     },
     "metadata": {},
     "output_type": "display_data"
    }
   ],
   "source": [
    "plt.plot(history.history['loss'])\n",
    "plt.plot(history.history['val_loss'])\n",
    "plt.title('model loss')\n",
    "plt.ylabel('loss')\n",
    "plt.xlabel('epoch')\n",
    "plt.legend(['train', 'test'], loc='lower left')"
   ]
  },
  {
   "cell_type": "code",
   "execution_count": 48,
   "metadata": {},
   "outputs": [
    {
     "name": "stdout",
     "output_type": "stream",
     "text": [
      "__________________________________________________________________________________________________\n",
      "Layer (type)                    Output Shape         Param #     Connected to                     \n",
      "==================================================================================================\n",
      "input_pattern (InputLayer)      (None, 3, 200)       0                                            \n",
      "__________________________________________________________________________________________________\n",
      "lstm_15 (LSTM)                  (None, 3, 512)       1460224     input_pattern[0][0]              \n",
      "__________________________________________________________________________________________________\n",
      "lstm_16 (LSTM)                  (None, 300)          975600      lstm_15[0][0]                    \n",
      "__________________________________________________________________________________________________\n",
      "dropout_15 (Dropout)            (None, 300)          0           lstm_16[0][0]                    \n",
      "__________________________________________________________________________________________________\n",
      "input_id (InputLayer)           (None, 1)            0                                            \n",
      "__________________________________________________________________________________________________\n",
      "concatenate_6 (Concatenate)     (None, 301)          0           dropout_15[0][0]                 \n",
      "                                                                 input_id[0][0]                   \n",
      "__________________________________________________________________________________________________\n",
      "C (Dense)                       (None, 250)          75500       concatenate_6[0][0]              \n",
      "__________________________________________________________________________________________________\n",
      "dropout_16 (Dropout)            (None, 250)          0           C[0][0]                          \n",
      "__________________________________________________________________________________________________\n",
      "x (Dense)                       (None, 200)          50200       dropout_16[0][0]                 \n",
      "==================================================================================================\n",
      "Total params: 2,561,524\n",
      "Trainable params: 2,561,524\n",
      "Non-trainable params: 0\n",
      "__________________________________________________________________________________________________\n",
      "None\n"
     ]
    }
   ],
   "source": [
    "from keras.layers import Input, Embedding, LSTM, Dense,Merge\n",
    "from keras.models import Model\n",
    "\n",
    "input_pattern = Input(shape=(3, a_train.shape[2]),name=\"input_pattern\")\n",
    "input_id = Input(shape=(1,),name=\"input_id\")\n",
    "\n",
    "lstm_out = LSTM(512,return_sequences=True,input_shape=(3, a_train.shape[2]))(input_pattern)\n",
    "lstm_out = LSTM(300)(lstm_out)\n",
    "lstm_out = Dropout(0.2)(lstm_out)\n",
    "\n",
    "x = keras.layers.concatenate([lstm_out, input_id])\n",
    "x=Dense(250,activation='relu',name=\"C\")(x)\n",
    "x=Dropout(0.2)(x)\n",
    "x=Dense(a_train.shape[2],activation='softmax',name='x')(x)\n",
    "\n",
    "\n",
    "model = Model(inputs=[input_pattern,input_id], outputs=x)\n",
    "model.compile(loss='categorical_crossentropy', optimizer='adam',metrics=['accuracy'])\n",
    "\n",
    "print(model.summary()) # Summarize Model\n",
    "plot_model(model, to_file='t_lstm.png',show_shapes=True)"
   ]
  },
  {
   "cell_type": "code",
   "execution_count": 55,
   "metadata": {},
   "outputs": [],
   "source": [
    "k=np.zeros(a_train.shape[0],dtype=np.int16)\n",
    "k=k.reshape(-1,1)\n",
    "\n",
    "k1=np.zeros(train_X.shape[0],dtype=np.int16)\n",
    "k1=k1.reshape(-1,1)"
   ]
  },
  {
   "cell_type": "code",
   "execution_count": 56,
   "metadata": {},
   "outputs": [
    {
     "name": "stdout",
     "output_type": "stream",
     "text": [
      "Train on 226 samples, validate on 252 samples\n",
      "Epoch 1/100\n",
      " - 8s - loss: 2.7436 - acc: 0.3097 - val_loss: 2.6074 - val_acc: 0.3413\n",
      "Epoch 2/100\n",
      " - 8s - loss: 2.5973 - acc: 0.3186 - val_loss: 2.4487 - val_acc: 0.3413\n",
      "Epoch 3/100\n",
      " - 8s - loss: 2.4820 - acc: 0.3319 - val_loss: 2.4168 - val_acc: 0.3413\n",
      "Epoch 4/100\n",
      " - 8s - loss: 2.3841 - acc: 0.3230 - val_loss: 2.3499 - val_acc: 0.2937\n",
      "Epoch 5/100\n",
      " - 8s - loss: 2.3489 - acc: 0.3363 - val_loss: 2.3098 - val_acc: 0.3889\n",
      "Epoch 6/100\n",
      " - 8s - loss: 2.3288 - acc: 0.3142 - val_loss: 2.2883 - val_acc: 0.3611\n",
      "Epoch 7/100\n",
      " - 8s - loss: 2.1562 - acc: 0.3186 - val_loss: 2.0584 - val_acc: 0.4087\n",
      "Epoch 8/100\n",
      " - 8s - loss: 2.0779 - acc: 0.3628 - val_loss: 1.9269 - val_acc: 0.4286\n",
      "Epoch 9/100\n",
      " - 8s - loss: 2.0270 - acc: 0.3982 - val_loss: 2.0207 - val_acc: 0.4286\n",
      "Epoch 10/100\n",
      " - 8s - loss: 1.9169 - acc: 0.4115 - val_loss: 1.8916 - val_acc: 0.4643\n",
      "Epoch 11/100\n",
      " - 8s - loss: 1.8241 - acc: 0.4513 - val_loss: 1.7367 - val_acc: 0.5000\n",
      "Epoch 12/100\n",
      " - 8s - loss: 1.7370 - acc: 0.4602 - val_loss: 1.7712 - val_acc: 0.4921\n",
      "Epoch 13/100\n",
      " - 8s - loss: 1.6460 - acc: 0.4336 - val_loss: 1.6758 - val_acc: 0.5040\n",
      "Epoch 14/100\n",
      " - 8s - loss: 1.5949 - acc: 0.4867 - val_loss: 1.5794 - val_acc: 0.5595\n",
      "Epoch 15/100\n",
      " - 8s - loss: 1.4951 - acc: 0.5177 - val_loss: 1.5150 - val_acc: 0.5238\n",
      "Epoch 16/100\n",
      " - 8s - loss: 1.4351 - acc: 0.5177 - val_loss: 1.4834 - val_acc: 0.5476\n",
      "Epoch 17/100\n",
      " - 8s - loss: 1.3898 - acc: 0.5265 - val_loss: 1.4489 - val_acc: 0.5714\n",
      "Epoch 18/100\n",
      " - 8s - loss: 1.3313 - acc: 0.5619 - val_loss: 1.3624 - val_acc: 0.5873\n",
      "Epoch 19/100\n",
      " - 8s - loss: 1.2436 - acc: 0.5619 - val_loss: 1.4070 - val_acc: 0.5595\n",
      "Epoch 20/100\n",
      " - 8s - loss: 1.2473 - acc: 0.5841 - val_loss: 1.3137 - val_acc: 0.6389\n",
      "Epoch 21/100\n",
      " - 8s - loss: 1.1891 - acc: 0.5929 - val_loss: 1.4372 - val_acc: 0.5278\n",
      "Epoch 22/100\n",
      " - 8s - loss: 1.1279 - acc: 0.5929 - val_loss: 1.2690 - val_acc: 0.6468\n",
      "Epoch 23/100\n",
      " - 8s - loss: 1.0204 - acc: 0.6239 - val_loss: 1.2667 - val_acc: 0.6071\n",
      "Epoch 24/100\n",
      " - 8s - loss: 1.0390 - acc: 0.6062 - val_loss: 1.2106 - val_acc: 0.6508\n",
      "Epoch 25/100\n",
      " - 8s - loss: 1.0230 - acc: 0.6327 - val_loss: 1.2133 - val_acc: 0.6667\n",
      "Epoch 26/100\n",
      " - 8s - loss: 0.9046 - acc: 0.6770 - val_loss: 1.2139 - val_acc: 0.6508\n",
      "Epoch 27/100\n",
      " - 8s - loss: 1.0877 - acc: 0.6106 - val_loss: 1.1869 - val_acc: 0.6667\n",
      "Epoch 28/100\n",
      " - 8s - loss: 0.8668 - acc: 0.6947 - val_loss: 1.1581 - val_acc: 0.6667\n",
      "Epoch 29/100\n",
      " - 8s - loss: 0.8916 - acc: 0.6858 - val_loss: 1.0979 - val_acc: 0.6667\n",
      "Epoch 30/100\n",
      " - 8s - loss: 1.0050 - acc: 0.6903 - val_loss: 1.2530 - val_acc: 0.6746\n",
      "Epoch 31/100\n",
      " - 8s - loss: 1.2498 - acc: 0.5973 - val_loss: 1.3191 - val_acc: 0.6667\n",
      "Epoch 32/100\n",
      " - 8s - loss: 1.1532 - acc: 0.6239 - val_loss: 1.1776 - val_acc: 0.6786\n",
      "Epoch 33/100\n",
      " - 8s - loss: 0.9419 - acc: 0.6726 - val_loss: 1.0719 - val_acc: 0.6825\n",
      "Epoch 34/100\n",
      " - 8s - loss: 0.8233 - acc: 0.6726 - val_loss: 1.0772 - val_acc: 0.6865\n",
      "Epoch 35/100\n",
      " - 8s - loss: 0.7932 - acc: 0.7212 - val_loss: 1.0449 - val_acc: 0.6944\n",
      "Epoch 36/100\n",
      " - 8s - loss: 0.7282 - acc: 0.7345 - val_loss: 1.0211 - val_acc: 0.7103\n",
      "Epoch 37/100\n",
      " - 8s - loss: 0.7358 - acc: 0.7301 - val_loss: 1.0020 - val_acc: 0.7222\n",
      "Epoch 38/100\n",
      " - 8s - loss: 0.7321 - acc: 0.7035 - val_loss: 1.0149 - val_acc: 0.7222\n",
      "Epoch 39/100\n",
      " - 8s - loss: 0.7100 - acc: 0.7257 - val_loss: 0.9810 - val_acc: 0.6984\n",
      "Epoch 40/100\n",
      " - 8s - loss: 0.6613 - acc: 0.7257 - val_loss: 1.0406 - val_acc: 0.7183\n",
      "Epoch 41/100\n",
      " - 8s - loss: 0.7675 - acc: 0.7212 - val_loss: 1.0611 - val_acc: 0.7302\n",
      "Epoch 42/100\n",
      " - 8s - loss: 0.8490 - acc: 0.7257 - val_loss: 1.1328 - val_acc: 0.6587\n",
      "Epoch 43/100\n",
      " - 8s - loss: 0.7803 - acc: 0.7301 - val_loss: 1.0594 - val_acc: 0.6984\n",
      "Epoch 44/100\n",
      " - 8s - loss: 0.7615 - acc: 0.7522 - val_loss: 1.0244 - val_acc: 0.7302\n",
      "Epoch 45/100\n",
      " - 8s - loss: 0.7449 - acc: 0.7389 - val_loss: 1.0282 - val_acc: 0.7381\n",
      "Epoch 46/100\n",
      " - 8s - loss: 0.7273 - acc: 0.7655 - val_loss: 1.0139 - val_acc: 0.7341\n",
      "Epoch 47/100\n",
      " - 8s - loss: 0.7060 - acc: 0.7389 - val_loss: 1.1480 - val_acc: 0.6825\n",
      "Epoch 48/100\n",
      " - 8s - loss: 0.7156 - acc: 0.7301 - val_loss: 1.0498 - val_acc: 0.7381\n",
      "Epoch 49/100\n",
      " - 8s - loss: 0.7868 - acc: 0.7257 - val_loss: 1.0399 - val_acc: 0.7222\n",
      "Epoch 50/100\n",
      " - 8s - loss: 0.7140 - acc: 0.7168 - val_loss: 1.0864 - val_acc: 0.7183\n",
      "Epoch 51/100\n",
      " - 8s - loss: 0.8584 - acc: 0.7257 - val_loss: 1.1736 - val_acc: 0.6984\n",
      "Epoch 52/100\n",
      " - 8s - loss: 0.9130 - acc: 0.7301 - val_loss: 1.1953 - val_acc: 0.7143\n",
      "Epoch 53/100\n",
      " - 8s - loss: 0.8325 - acc: 0.7212 - val_loss: 1.0906 - val_acc: 0.7024\n",
      "Epoch 54/100\n",
      " - 8s - loss: 0.8088 - acc: 0.7301 - val_loss: 1.1343 - val_acc: 0.7103\n",
      "Epoch 55/100\n",
      " - 8s - loss: 0.7461 - acc: 0.7345 - val_loss: 1.0406 - val_acc: 0.7302\n",
      "Epoch 56/100\n",
      " - 8s - loss: 0.7085 - acc: 0.7345 - val_loss: 1.0328 - val_acc: 0.7341\n",
      "Epoch 57/100\n",
      " - 8s - loss: 0.7077 - acc: 0.7257 - val_loss: 1.0908 - val_acc: 0.7143\n",
      "Epoch 58/100\n",
      " - 8s - loss: 0.6936 - acc: 0.7699 - val_loss: 1.0378 - val_acc: 0.7341\n",
      "Epoch 59/100\n",
      " - 8s - loss: 0.6945 - acc: 0.7611 - val_loss: 1.0387 - val_acc: 0.7262\n",
      "Epoch 60/100\n",
      " - 8s - loss: 0.6797 - acc: 0.7522 - val_loss: 1.0865 - val_acc: 0.7222\n",
      "Epoch 61/100\n",
      " - 8s - loss: 0.7797 - acc: 0.7522 - val_loss: 1.0656 - val_acc: 0.7381\n",
      "Epoch 62/100\n",
      " - 8s - loss: 0.6588 - acc: 0.7522 - val_loss: 1.0154 - val_acc: 0.7421\n",
      "Epoch 63/100\n",
      " - 8s - loss: 0.6043 - acc: 0.7345 - val_loss: 0.9746 - val_acc: 0.7421\n",
      "Epoch 64/100\n",
      " - 8s - loss: 0.5868 - acc: 0.7655 - val_loss: 0.9367 - val_acc: 0.7460\n",
      "Epoch 65/100\n",
      " - 8s - loss: 0.5903 - acc: 0.7743 - val_loss: 0.9763 - val_acc: 0.7421\n",
      "Epoch 66/100\n",
      " - 8s - loss: 0.5834 - acc: 0.7522 - val_loss: 1.0077 - val_acc: 0.7262\n",
      "Epoch 67/100\n",
      " - 8s - loss: 0.5736 - acc: 0.7699 - val_loss: 0.9477 - val_acc: 0.7500\n",
      "Epoch 68/100\n",
      " - 8s - loss: 0.5859 - acc: 0.7611 - val_loss: 0.9587 - val_acc: 0.7421\n",
      "Epoch 69/100\n",
      " - 8s - loss: 0.5761 - acc: 0.7699 - val_loss: 0.9662 - val_acc: 0.7500\n",
      "Epoch 70/100\n",
      " - 8s - loss: 0.5515 - acc: 0.7743 - val_loss: 0.9960 - val_acc: 0.7302\n",
      "Epoch 71/100\n",
      " - 8s - loss: 0.6018 - acc: 0.7478 - val_loss: 0.9764 - val_acc: 0.7421\n",
      "Epoch 72/100\n",
      " - 8s - loss: 0.5716 - acc: 0.7876 - val_loss: 0.9844 - val_acc: 0.7421\n",
      "Epoch 73/100\n",
      " - 8s - loss: 0.5578 - acc: 0.7788 - val_loss: 0.9919 - val_acc: 0.7421\n",
      "Epoch 74/100\n",
      " - 8s - loss: 0.5733 - acc: 0.7478 - val_loss: 0.9988 - val_acc: 0.7421\n",
      "Epoch 75/100\n",
      " - 8s - loss: 0.5495 - acc: 0.7876 - val_loss: 1.0289 - val_acc: 0.7381\n",
      "Epoch 76/100\n",
      " - 8s - loss: 0.5813 - acc: 0.7743 - val_loss: 0.9811 - val_acc: 0.7460\n",
      "Epoch 77/100\n",
      " - 8s - loss: 0.5943 - acc: 0.7788 - val_loss: 1.0001 - val_acc: 0.7302\n",
      "Epoch 78/100\n",
      " - 8s - loss: 0.5935 - acc: 0.7611 - val_loss: 1.3136 - val_acc: 0.6944\n",
      "Epoch 79/100\n",
      " - 8s - loss: 1.1050 - acc: 0.6858 - val_loss: 1.3595 - val_acc: 0.6508\n",
      "Epoch 80/100\n",
      " - 8s - loss: 1.2132 - acc: 0.6814 - val_loss: 1.2035 - val_acc: 0.7024\n",
      "Epoch 81/100\n",
      " - 8s - loss: 0.8006 - acc: 0.7301 - val_loss: 1.0394 - val_acc: 0.7143\n",
      "Epoch 82/100\n",
      " - 8s - loss: 0.7235 - acc: 0.7478 - val_loss: 1.0264 - val_acc: 0.7302\n",
      "Epoch 83/100\n",
      " - 8s - loss: 0.6303 - acc: 0.7699 - val_loss: 1.0127 - val_acc: 0.7302\n",
      "Epoch 84/100\n",
      " - 8s - loss: 0.6256 - acc: 0.7788 - val_loss: 0.9884 - val_acc: 0.7302\n",
      "Epoch 85/100\n",
      " - 8s - loss: 0.6362 - acc: 0.7566 - val_loss: 1.0308 - val_acc: 0.7341\n",
      "Epoch 86/100\n",
      " - 8s - loss: 0.6124 - acc: 0.7522 - val_loss: 1.0227 - val_acc: 0.7341\n",
      "Epoch 87/100\n",
      " - 8s - loss: 0.6201 - acc: 0.7832 - val_loss: 1.0040 - val_acc: 0.7341\n",
      "Epoch 88/100\n",
      " - 8s - loss: 0.6147 - acc: 0.7699 - val_loss: 1.0218 - val_acc: 0.7302\n",
      "Epoch 89/100\n",
      " - 8s - loss: 0.6197 - acc: 0.7743 - val_loss: 1.0217 - val_acc: 0.7341\n",
      "Epoch 90/100\n",
      " - 8s - loss: 0.5972 - acc: 0.7832 - val_loss: 1.0395 - val_acc: 0.7183\n",
      "Epoch 91/100\n",
      " - 8s - loss: 0.6319 - acc: 0.7611 - val_loss: 0.9937 - val_acc: 0.7341\n",
      "Epoch 92/100\n",
      " - 8s - loss: 0.6240 - acc: 0.7788 - val_loss: 0.9984 - val_acc: 0.7381\n",
      "Epoch 93/100\n",
      " - 8s - loss: 0.6168 - acc: 0.7920 - val_loss: 1.0137 - val_acc: 0.7341\n",
      "Epoch 94/100\n",
      " - 8s - loss: 0.6200 - acc: 0.7876 - val_loss: 1.0044 - val_acc: 0.7341\n",
      "Epoch 95/100\n",
      " - 8s - loss: 0.6319 - acc: 0.7655 - val_loss: 0.9997 - val_acc: 0.7341\n",
      "Epoch 96/100\n",
      " - 8s - loss: 0.6253 - acc: 0.7611 - val_loss: 0.9979 - val_acc: 0.7381\n"
     ]
    },
    {
     "name": "stdout",
     "output_type": "stream",
     "text": [
      "Epoch 97/100\n",
      " - 8s - loss: 0.6230 - acc: 0.7522 - val_loss: 1.0175 - val_acc: 0.7421\n",
      "Epoch 98/100\n",
      " - 8s - loss: 0.6140 - acc: 0.7743 - val_loss: 1.0327 - val_acc: 0.7341\n",
      "Epoch 99/100\n",
      " - 8s - loss: 0.6207 - acc: 0.7743 - val_loss: 1.0398 - val_acc: 0.7381\n",
      "Epoch 100/100\n",
      " - 8s - loss: 0.6217 - acc: 0.7522 - val_loss: 1.0455 - val_acc: 0.7341\n"
     ]
    }
   ],
   "source": [
    "history = model.fit({'input_pattern': a_train, 'input_id' : k}, {'x': b_train}, epochs=100, batch_size=2, verbose=2, validation_data=([train_X,k1], train_Y))"
   ]
  },
  {
   "cell_type": "code",
   "execution_count": 60,
   "metadata": {},
   "outputs": [
    {
     "data": {
      "text/plain": [
       "<matplotlib.legend.Legend at 0x7fae892af9e8>"
      ]
     },
     "execution_count": 60,
     "metadata": {},
     "output_type": "execute_result"
    },
    {
     "data": {
      "image/png": "[encoded data removed]",
      "text/plain": [
       "<Figure size 432x288 with 1 Axes>"
      ]
     },
     "metadata": {},
     "output_type": "display_data"
    }
   ],
   "source": [
    "fig = plt.figure()\n",
    "plt.plot(history.history['acc'])\n",
    "plt.plot(history.history['val_acc'])\n",
    "plt.title('model accuracy')\n",
    "plt.ylabel('accuracy')\n",
    "plt.xlabel('epoch')\n",
    "plt.legend(['90% train_data', '100% total_data'], loc='upper left')"
   ]
  },
  {
   "cell_type": "code",
   "execution_count": null,
   "metadata": {},
   "outputs": [],
   "source": []
  },
  {
   "cell_type": "markdown",
   "metadata": {
    "collapsed": true
   },
   "source": [
    "model.fit(a_train, b_train, epochs=100, batch_size=16, verbose=2, validation_data=(a_test, b_test))"
   ]
  },
  {
   "cell_type": "code",
   "execution_count": null,
   "metadata": {},
   "outputs": [],
   "source": [
    "model.evaluate(train_X, train_Y, batch_size=64, verbose=2, sample_weight=None)"
   ]
  },
  {
   "cell_type": "code",
   "execution_count": null,
   "metadata": {},
   "outputs": [],
   "source": [
    "trainPredict = model.predict(train_X)\n",
    "D=np.argmax(train_Y,axis = 1)\n",
    "E=np.argmax(trainPredict,axis = 1)"
   ]
  },
  {
   "cell_type": "code",
   "execution_count": null,
   "metadata": {},
   "outputs": [],
   "source": [
    "print(D)\n",
    "print(E)"
   ]
  },
  {
   "cell_type": "code",
   "execution_count": null,
   "metadata": {},
   "outputs": [],
   "source": [
    "A=0 #total number of right\n",
    "for i,t in enumerate(E):\n",
    "    if D[i]==t :\n",
    "        A=A+1\n",
    "print(A/D.shape[0])"
   ]
  },
  {
   "cell_type": "code",
   "execution_count": null,
   "metadata": {},
   "outputs": [],
   "source": []
  }
 ],
 "metadata": {
  "kernelspec": {
   "display_name": "Python 3",
   "language": "python",
   "name": "python3"
  },
  "language_info": {
   "codemirror_mode": {
    "name": "ipython",
    "version": 3
   },
   "file_extension": ".py",
   "mimetype": "text/x-python",
   "name": "python",
   "nbconvert_exporter": "python",
   "pygments_lexer": "ipython3",
   "version": "3.5.2"
  }
 },
 "nbformat": 4,
 "nbformat_minor": 2
}
