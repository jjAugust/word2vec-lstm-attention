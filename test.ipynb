{
 "cells": [
  {
   "cell_type": "markdown",
   "metadata": {},
   "source": [
    "The problem is that I have an output a from a LSTM layer with the shape of (batch,step,hidden), and an output b from another layer, which is called the weights(or attention), with the shape of (batch,step), and I have no idea how to do an operation which computes the weighted sum given the two outputs.\n",
    "like this:\n",
    "\n",
    "a0, a1, a2 = a.shape \n",
    "b0, b1 = b.shape \n",
    "\n",
    "for i in range(a0): \n",
    "    for j in range(a1): \n",
    "        for k in range(a2): \n",
    "            c[i][k]+=a[i][j][k]*b[i][j] "
   ]
  },
  {
   "cell_type": "code",
   "execution_count": null,
   "metadata": {},
   "outputs": [],
   "source": [
    "from keras.layers.core import*\n",
    "from keras.models import Sequential\n",
    "\n",
    "input_dim = 32\n",
    "hidden = 32\n",
    "\n",
    "#The LSTM  model -  output_shape = (batch, step, hidden)\n",
    "model1 = Sequential()\n",
    "model1.add(LSTM(input_dim=input_dim, output_dim=hidden, input_length=step, return_sequences=True))\n",
    "\n",
    "#The weight model  - actual output shape  = (batch, step)\n",
    "# after reshape : output_shape = (batch, step,  hidden)\n",
    "model2 = Sequential()\n",
    "model2.add(Dense(input_dim=input_dim, output_dim=step))\n",
    "model2.add(Activation('softmax')) # Learn a probability distribution over each  step.\n",
    "#Reshape to match LSTM's output shape, so that we can do element-wise multiplication.\n",
    "model2.add(RepeatVector(hidden))\n",
    "model2.add(Permute(2, 1))\n",
    "\n",
    "#The final model which gives the weighted sum:\n",
    "model = Sequential()\n",
    "model.add(Merge([model1, model2], 'mul'))  # Multiply each element with corresponding weight a[i][j][k] * b[i][j]\n",
    "model.add(TimeDistributedMerge('sum')) # Sum the weighted elements.\n",
    "\n",
    "model.compile(loss='mse', optimizer='sgd')"
   ]
  }
 ],
 "metadata": {
  "kernelspec": {
   "display_name": "Python 3",
   "language": "python",
   "name": "python3"
  },
  "language_info": {
   "codemirror_mode": {
    "name": "ipython",
    "version": 3
   },
   "file_extension": ".py",
   "mimetype": "text/x-python",
   "name": "python",
   "nbconvert_exporter": "python",
   "pygments_lexer": "ipython3",
   "version": "3.5.2"
  }
 },
 "nbformat": 4,
 "nbformat_minor": 2
}
