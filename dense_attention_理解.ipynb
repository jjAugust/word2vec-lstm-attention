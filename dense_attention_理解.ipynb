{
 "cells": [
  {
   "cell_type": "code",
   "execution_count": 1,
   "metadata": {},
   "outputs": [
    {
     "name": "stderr",
     "output_type": "stream",
     "text": [
      "/usr/local/lib/python3.5/dist-packages/h5py/__init__.py:36: FutureWarning: Conversion of the second argument of issubdtype from `float` to `np.floating` is deprecated. In future, it will be treated as `np.float64 == np.dtype(float).type`.\n",
      "  from ._conv import register_converters as _register_converters\n",
      "Using TensorFlow backend.\n"
     ]
    }
   ],
   "source": [
    "import numpy as np\n",
    "from keras.layers import Input,Dense,merge\n",
    "from keras.models import *"
   ]
  },
  {
   "cell_type": "code",
   "execution_count": 2,
   "metadata": {},
   "outputs": [],
   "source": [
    "trainX=np.random.standard_normal(size=(10000,32))\n",
    "trainY=np.random.randint(2,size=(10000,1))\n",
    "trainX[:,1]=trainY[:,0]"
   ]
  },
  {
   "cell_type": "code",
   "execution_count": 3,
   "metadata": {},
   "outputs": [
    {
     "name": "stdout",
     "output_type": "stream",
     "text": [
      "__________________________________________________________________________________________________\n",
      "Layer (type)                    Output Shape         Param #     Connected to                     \n",
      "==================================================================================================\n",
      "input_1 (InputLayer)            (None, 32)           0                                            \n",
      "__________________________________________________________________________________________________\n",
      "attention_vec (Dense)           (None, 32)           1056        input_1[0][0]                    \n",
      "__________________________________________________________________________________________________\n",
      "attention_mul (Merge)           (None, 32)           0           input_1[0][0]                    \n",
      "                                                                 attention_vec[0][0]              \n",
      "__________________________________________________________________________________________________\n",
      "dense_1 (Dense)                 (None, 64)           2112        attention_mul[0][0]              \n",
      "__________________________________________________________________________________________________\n",
      "dense_2 (Dense)                 (None, 1)            65          dense_1[0][0]                    \n",
      "==================================================================================================\n",
      "Total params: 3,233\n",
      "Trainable params: 3,233\n",
      "Non-trainable params: 0\n",
      "__________________________________________________________________________________________________\n",
      "None\n"
     ]
    },
    {
     "name": "stderr",
     "output_type": "stream",
     "text": [
      "/usr/local/lib/python3.5/dist-packages/ipykernel_launcher.py:3: UserWarning: The `merge` function is deprecated and will be removed after 08/2017. Use instead layers from `keras.layers.merge`, e.g. `add`, `concatenate`, etc.\n",
      "  This is separate from the ipykernel package so we can avoid doing imports until\n",
      "/usr/local/lib/python3.5/dist-packages/keras/legacy/layers.py:465: UserWarning: The `Merge` layer is deprecated and will be removed after 08/2017. Use instead layers from `keras.layers.merge`, e.g. `add`, `concatenate`, etc.\n",
      "  name=name)\n",
      "/usr/local/lib/python3.5/dist-packages/ipykernel_launcher.py:6: UserWarning: Update your `Model` call to the Keras 2 API: `Model(outputs=Tensor(\"de..., inputs=Tensor(\"in...)`\n",
      "  \n"
     ]
    }
   ],
   "source": [
    "inputs=Input(shape=(32,))\n",
    "attention_pro=Dense(32,activation='softmax',name='attention_vec')(inputs)\n",
    "attention_mul=merge([inputs,attention_pro],output_shape=32,name='attention_mul',mode='mul')\n",
    "attention_mul=Dense(64)(attention_mul)\n",
    "output=Dense(1,activation='sigmoid')(attention_mul)\n",
    "model=Model(input=inputs,output=output)\n",
    "model.compile(optimizer='adam',loss='binary_crossentropy',metrics=['accuracy'])\n",
    "print(model.summary())"
   ]
  },
  {
   "cell_type": "markdown",
   "metadata": {},
   "source": [
    "inputs=Input(shape=(32,))\n",
    "# attention_pro=Dense(32,activation='softmax',name='attention_vec')(inputs)\n",
    "# attention_mul=merge([inputs,attention_pro],output_shape=32,name='attention_mul',mode='mul')\n",
    "attention_mul=Dense(64)(inputs)\n",
    "output=Dense(1,activation='sigmoid')(attention_mul)\n",
    "model=Model(input=inputs,output=output)\n",
    "model.compile(optimizer='adam',loss='binary_crossentropy',metrics=['accuracy'])\n",
    "print(model.summary())"
   ]
  },
  {
   "cell_type": "code",
   "execution_count": 4,
   "metadata": {},
   "outputs": [
    {
     "name": "stdout",
     "output_type": "stream",
     "text": [
      "Train on 5000 samples, validate on 5000 samples\n",
      "Epoch 1/20\n",
      "5000/5000 [==============================] - 0s 57us/step - loss: 0.6842 - acc: 0.5910 - val_loss: 0.6737 - val_acc: 0.6478\n",
      "Epoch 2/20\n",
      "5000/5000 [==============================] - 0s 32us/step - loss: 0.6473 - acc: 0.7298 - val_loss: 0.6113 - val_acc: 0.7530\n",
      "Epoch 3/20\n",
      "5000/5000 [==============================] - 0s 32us/step - loss: 0.5544 - acc: 0.7800 - val_loss: 0.4990 - val_acc: 0.7970\n",
      "Epoch 4/20\n",
      "5000/5000 [==============================] - 0s 31us/step - loss: 0.4370 - acc: 0.8222 - val_loss: 0.3888 - val_acc: 0.8264\n",
      "Epoch 5/20\n",
      "5000/5000 [==============================] - 0s 33us/step - loss: 0.3190 - acc: 0.8768 - val_loss: 0.2631 - val_acc: 0.9116\n",
      "Epoch 6/20\n",
      "5000/5000 [==============================] - 0s 30us/step - loss: 0.1895 - acc: 0.9532 - val_loss: 0.1377 - val_acc: 0.9706\n",
      "Epoch 7/20\n",
      "5000/5000 [==============================] - 0s 32us/step - loss: 0.0800 - acc: 0.9914 - val_loss: 0.0537 - val_acc: 0.9940\n",
      "Epoch 8/20\n",
      "5000/5000 [==============================] - 0s 33us/step - loss: 0.0276 - acc: 0.9998 - val_loss: 0.0212 - val_acc: 0.9988\n",
      "Epoch 9/20\n",
      "5000/5000 [==============================] - 0s 34us/step - loss: 0.0112 - acc: 1.0000 - val_loss: 0.0105 - val_acc: 0.9994\n",
      "Epoch 10/20\n",
      "5000/5000 [==============================] - 0s 31us/step - loss: 0.0059 - acc: 1.0000 - val_loss: 0.0062 - val_acc: 0.9998\n",
      "Epoch 11/20\n",
      "5000/5000 [==============================] - 0s 29us/step - loss: 0.0036 - acc: 1.0000 - val_loss: 0.0042 - val_acc: 0.9998\n",
      "Epoch 12/20\n",
      "5000/5000 [==============================] - 0s 32us/step - loss: 0.0025 - acc: 1.0000 - val_loss: 0.0030 - val_acc: 0.9998\n",
      "Epoch 13/20\n",
      "5000/5000 [==============================] - 0s 35us/step - loss: 0.0019 - acc: 1.0000 - val_loss: 0.0022 - val_acc: 0.9998\n",
      "Epoch 14/20\n",
      "5000/5000 [==============================] - 0s 33us/step - loss: 0.0014 - acc: 1.0000 - val_loss: 0.0018 - val_acc: 1.0000\n",
      "Epoch 15/20\n",
      "5000/5000 [==============================] - 0s 34us/step - loss: 0.0011 - acc: 1.0000 - val_loss: 0.0014 - val_acc: 1.0000\n",
      "Epoch 16/20\n",
      "5000/5000 [==============================] - 0s 30us/step - loss: 9.3760e-04 - acc: 1.0000 - val_loss: 0.0012 - val_acc: 1.0000\n",
      "Epoch 17/20\n",
      "5000/5000 [==============================] - 0s 32us/step - loss: 7.8483e-04 - acc: 1.0000 - val_loss: 9.8893e-04 - val_acc: 1.0000\n",
      "Epoch 18/20\n",
      "5000/5000 [==============================] - 0s 29us/step - loss: 6.6610e-04 - acc: 1.0000 - val_loss: 8.4029e-04 - val_acc: 1.0000\n",
      "Epoch 19/20\n",
      "5000/5000 [==============================] - 0s 33us/step - loss: 5.7387e-04 - acc: 1.0000 - val_loss: 7.2486e-04 - val_acc: 1.0000\n",
      "Epoch 20/20\n",
      "5000/5000 [==============================] - 0s 28us/step - loss: 5.0030e-04 - acc: 1.0000 - val_loss: 6.3194e-04 - val_acc: 1.0000\n"
     ]
    },
    {
     "data": {
      "text/plain": [
       "<keras.callbacks.History at 0x7f89ee13bb00>"
      ]
     },
     "execution_count": 4,
     "metadata": {},
     "output_type": "execute_result"
    }
   ],
   "source": [
    "model.fit(trainX,trainY,epochs=20,batch_size=64,validation_split=0.5)"
   ]
  },
  {
   "cell_type": "code",
   "execution_count": 5,
   "metadata": {},
   "outputs": [],
   "source": [
    "t=np.array(trainX[2])\n",
    "t.shape=1,-1"
   ]
  },
  {
   "cell_type": "code",
   "execution_count": 6,
   "metadata": {},
   "outputs": [
    {
     "data": {
      "text/plain": [
       "array([[0.00027268]], dtype=float32)"
      ]
     },
     "execution_count": 6,
     "metadata": {},
     "output_type": "execute_result"
    }
   ],
   "source": [
    "model.predict(t)"
   ]
  },
  {
   "cell_type": "code",
   "execution_count": null,
   "metadata": {},
   "outputs": [],
   "source": []
  },
  {
   "cell_type": "code",
   "execution_count": 7,
   "metadata": {},
   "outputs": [
    {
     "name": "stdout",
     "output_type": "stream",
     "text": [
      "(1, 32)\n"
     ]
    }
   ],
   "source": [
    "t=np.array(trainX[2])\n",
    "t.shape=1,-1\n",
    "print(t.shape)"
   ]
  },
  {
   "cell_type": "code",
   "execution_count": 8,
   "metadata": {},
   "outputs": [
    {
     "name": "stdout",
     "output_type": "stream",
     "text": [
      "----- activations -----\n",
      "(1, 32)\n"
     ]
    }
   ],
   "source": [
    "from attention_utils import get_activations, get_data\n",
    "\n",
    "attention_vector = get_activations(model, t,\n",
    "                                       print_shape_only=True,\n",
    "                                       layer_name='attention_vec')[0].flatten()"
   ]
  },
  {
   "cell_type": "code",
   "execution_count": 9,
   "metadata": {},
   "outputs": [
    {
     "name": "stdout",
     "output_type": "stream",
     "text": [
      "attention = [0.02426516 0.157373   0.02103738 0.02761797 0.02442673 0.03905715\n",
      " 0.02036447 0.01803249 0.02243195 0.01763698 0.03414999 0.02208772\n",
      " 0.0228977  0.02752454 0.01325341 0.05332976 0.02564209 0.027022\n",
      " 0.02396686 0.01519506 0.02790186 0.03335251 0.03678569 0.01622112\n",
      " 0.02330712 0.01332708 0.02398701 0.03318956 0.04427004 0.03623366\n",
      " 0.03136126 0.04275067]\n"
     ]
    }
   ],
   "source": [
    "    print('attention =', attention_vector)"
   ]
  },
  {
   "cell_type": "code",
   "execution_count": 11,
   "metadata": {},
   "outputs": [
    {
     "data": {
      "image/png": "[encoded data removed]",
      "text/plain": [
       "<Figure size 432x288 with 1 Axes>"
      ]
     },
     "metadata": {},
     "output_type": "display_data"
    }
   ],
   "source": [
    "import matplotlib.pyplot as plt\n",
    "import pandas as pd\n",
    "pd.DataFrame(attention_vector, columns=['attention (%)']).plot(kind='bar',\n",
    "                                                                   title='Attention Mechanism as '\n",
    "                                                                         'a function of input'\n",
    "                                                                         ' dimensions.')\n",
    "plt.show()"
   ]
  },
  {
   "cell_type": "code",
   "execution_count": null,
   "metadata": {},
   "outputs": [],
   "source": []
  }
 ],
 "metadata": {
  "kernelspec": {
   "display_name": "Python 3",
   "language": "python",
   "name": "python3"
  },
  "language_info": {
   "codemirror_mode": {
    "name": "ipython",
    "version": 3
   },
   "file_extension": ".py",
   "mimetype": "text/x-python",
   "name": "python",
   "nbconvert_exporter": "python",
   "pygments_lexer": "ipython3",
   "version": "3.5.2"
  }
 },
 "nbformat": 4,
 "nbformat_minor": 2
}
